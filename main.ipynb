{
 "cells": [
  {
   "cell_type": "markdown",
   "metadata": {},
   "source": [
    "# Ahead of the Text: Leveraging Entity Preposition for Financial Relation Extraction\n",
    "\n",
    "This Jupyter Notebook builds the code for training a RoBERTa model on a public dataset, fine-tuning its parameters, and then making predictions on a private dataset. The model aims to perform Named Entity Recognition (NER), a crucial task in natural language processing.\n",
    "\n",
    "Authors:\n",
    "- Stefan Pasch\n",
    "- Dimitrios Petridis\n"
   ]
  },
  {
   "cell_type": "code",
   "execution_count": 4,
   "metadata": {
    "tags": []
   },
   "outputs": [
    {
     "name": "stdout",
     "output_type": "stream",
     "text": [
      "Requirement already satisfied: pandas in /home/studio-lab-user/.conda/envs/dev_env/lib/python3.11/site-packages (from -r requirements.txt (line 1)) (2.0.3)\n",
      "Requirement already satisfied: numpy in /home/studio-lab-user/.conda/envs/dev_env/lib/python3.11/site-packages (from -r requirements.txt (line 2)) (1.25.1)\n",
      "Requirement already satisfied: accelerate in /home/studio-lab-user/.conda/envs/dev_env/lib/python3.11/site-packages (from -r requirements.txt (line 3)) (0.21.0)\n",
      "Requirement already satisfied: transformers in /home/studio-lab-user/.conda/envs/dev_env/lib/python3.11/site-packages (from -r requirements.txt (line 4)) (4.30.2)\n",
      "Requirement already satisfied: datasets in /home/studio-lab-user/.conda/envs/dev_env/lib/python3.11/site-packages (from -r requirements.txt (line 5)) (2.13.1)\n",
      "Requirement already satisfied: python-dateutil>=2.8.2 in /home/studio-lab-user/.conda/envs/dev_env/lib/python3.11/site-packages (from pandas->-r requirements.txt (line 1)) (2.8.2)\n",
      "Requirement already satisfied: pytz>=2020.1 in /home/studio-lab-user/.conda/envs/dev_env/lib/python3.11/site-packages (from pandas->-r requirements.txt (line 1)) (2023.3)\n",
      "Requirement already satisfied: tzdata>=2022.1 in /home/studio-lab-user/.conda/envs/dev_env/lib/python3.11/site-packages (from pandas->-r requirements.txt (line 1)) (2023.3)\n",
      "Requirement already satisfied: packaging>=20.0 in /home/studio-lab-user/.conda/envs/dev_env/lib/python3.11/site-packages (from accelerate->-r requirements.txt (line 3)) (23.1)\n",
      "Requirement already satisfied: psutil in /home/studio-lab-user/.conda/envs/dev_env/lib/python3.11/site-packages (from accelerate->-r requirements.txt (line 3)) (5.9.5)\n",
      "Requirement already satisfied: pyyaml in /home/studio-lab-user/.conda/envs/dev_env/lib/python3.11/site-packages (from accelerate->-r requirements.txt (line 3)) (6.0)\n",
      "Requirement already satisfied: torch>=1.10.0 in /home/studio-lab-user/.conda/envs/dev_env/lib/python3.11/site-packages (from accelerate->-r requirements.txt (line 3)) (2.0.1)\n",
      "Requirement already satisfied: filelock in /home/studio-lab-user/.conda/envs/dev_env/lib/python3.11/site-packages (from transformers->-r requirements.txt (line 4)) (3.12.2)\n",
      "Requirement already satisfied: huggingface-hub<1.0,>=0.14.1 in /home/studio-lab-user/.conda/envs/dev_env/lib/python3.11/site-packages (from transformers->-r requirements.txt (line 4)) (0.16.4)\n",
      "Requirement already satisfied: regex!=2019.12.17 in /home/studio-lab-user/.conda/envs/dev_env/lib/python3.11/site-packages (from transformers->-r requirements.txt (line 4)) (2023.6.3)\n",
      "Requirement already satisfied: requests in /home/studio-lab-user/.conda/envs/dev_env/lib/python3.11/site-packages (from transformers->-r requirements.txt (line 4)) (2.31.0)\n",
      "Requirement already satisfied: tokenizers!=0.11.3,<0.14,>=0.11.1 in /home/studio-lab-user/.conda/envs/dev_env/lib/python3.11/site-packages (from transformers->-r requirements.txt (line 4)) (0.13.3)\n",
      "Requirement already satisfied: safetensors>=0.3.1 in /home/studio-lab-user/.conda/envs/dev_env/lib/python3.11/site-packages (from transformers->-r requirements.txt (line 4)) (0.3.1)\n",
      "Requirement already satisfied: tqdm>=4.27 in /home/studio-lab-user/.conda/envs/dev_env/lib/python3.11/site-packages (from transformers->-r requirements.txt (line 4)) (4.65.0)\n",
      "Requirement already satisfied: pyarrow>=8.0.0 in /home/studio-lab-user/.conda/envs/dev_env/lib/python3.11/site-packages (from datasets->-r requirements.txt (line 5)) (12.0.1)\n",
      "Requirement already satisfied: dill<0.3.7,>=0.3.0 in /home/studio-lab-user/.conda/envs/dev_env/lib/python3.11/site-packages (from datasets->-r requirements.txt (line 5)) (0.3.6)\n",
      "Requirement already satisfied: xxhash in /home/studio-lab-user/.conda/envs/dev_env/lib/python3.11/site-packages (from datasets->-r requirements.txt (line 5)) (3.2.0)\n",
      "Requirement already satisfied: multiprocess in /home/studio-lab-user/.conda/envs/dev_env/lib/python3.11/site-packages (from datasets->-r requirements.txt (line 5)) (0.70.14)\n",
      "Requirement already satisfied: fsspec[http]>=2021.11.1 in /home/studio-lab-user/.conda/envs/dev_env/lib/python3.11/site-packages (from datasets->-r requirements.txt (line 5)) (2023.6.0)\n",
      "Requirement already satisfied: aiohttp in /home/studio-lab-user/.conda/envs/dev_env/lib/python3.11/site-packages (from datasets->-r requirements.txt (line 5)) (3.8.4)\n",
      "Requirement already satisfied: attrs>=17.3.0 in /home/studio-lab-user/.conda/envs/dev_env/lib/python3.11/site-packages (from aiohttp->datasets->-r requirements.txt (line 5)) (23.1.0)\n",
      "Requirement already satisfied: charset-normalizer<4.0,>=2.0 in /home/studio-lab-user/.conda/envs/dev_env/lib/python3.11/site-packages (from aiohttp->datasets->-r requirements.txt (line 5)) (3.2.0)\n",
      "Requirement already satisfied: multidict<7.0,>=4.5 in /home/studio-lab-user/.conda/envs/dev_env/lib/python3.11/site-packages (from aiohttp->datasets->-r requirements.txt (line 5)) (6.0.4)\n",
      "Requirement already satisfied: async-timeout<5.0,>=4.0.0a3 in /home/studio-lab-user/.conda/envs/dev_env/lib/python3.11/site-packages (from aiohttp->datasets->-r requirements.txt (line 5)) (4.0.2)\n",
      "Requirement already satisfied: yarl<2.0,>=1.0 in /home/studio-lab-user/.conda/envs/dev_env/lib/python3.11/site-packages (from aiohttp->datasets->-r requirements.txt (line 5)) (1.9.2)\n",
      "Requirement already satisfied: frozenlist>=1.1.1 in /home/studio-lab-user/.conda/envs/dev_env/lib/python3.11/site-packages (from aiohttp->datasets->-r requirements.txt (line 5)) (1.4.0)\n",
      "Requirement already satisfied: aiosignal>=1.1.2 in /home/studio-lab-user/.conda/envs/dev_env/lib/python3.11/site-packages (from aiohttp->datasets->-r requirements.txt (line 5)) (1.3.1)\n",
      "Requirement already satisfied: typing-extensions>=3.7.4.3 in /home/studio-lab-user/.conda/envs/dev_env/lib/python3.11/site-packages (from huggingface-hub<1.0,>=0.14.1->transformers->-r requirements.txt (line 4)) (4.7.1)\n",
      "Requirement already satisfied: six>=1.5 in /home/studio-lab-user/.conda/envs/dev_env/lib/python3.11/site-packages (from python-dateutil>=2.8.2->pandas->-r requirements.txt (line 1)) (1.16.0)\n",
      "Requirement already satisfied: idna<4,>=2.5 in /home/studio-lab-user/.conda/envs/dev_env/lib/python3.11/site-packages (from requests->transformers->-r requirements.txt (line 4)) (3.4)\n",
      "Requirement already satisfied: urllib3<3,>=1.21.1 in /home/studio-lab-user/.conda/envs/dev_env/lib/python3.11/site-packages (from requests->transformers->-r requirements.txt (line 4)) (2.0.3)\n",
      "Requirement already satisfied: certifi>=2017.4.17 in /home/studio-lab-user/.conda/envs/dev_env/lib/python3.11/site-packages (from requests->transformers->-r requirements.txt (line 4)) (2023.5.7)\n",
      "Requirement already satisfied: sympy in /home/studio-lab-user/.conda/envs/dev_env/lib/python3.11/site-packages (from torch>=1.10.0->accelerate->-r requirements.txt (line 3)) (1.12)\n",
      "Requirement already satisfied: networkx in /home/studio-lab-user/.conda/envs/dev_env/lib/python3.11/site-packages (from torch>=1.10.0->accelerate->-r requirements.txt (line 3)) (3.1)\n",
      "Requirement already satisfied: jinja2 in /home/studio-lab-user/.conda/envs/dev_env/lib/python3.11/site-packages (from torch>=1.10.0->accelerate->-r requirements.txt (line 3)) (3.1.2)\n",
      "Requirement already satisfied: nvidia-cuda-nvrtc-cu11==11.7.99 in /home/studio-lab-user/.conda/envs/dev_env/lib/python3.11/site-packages (from torch>=1.10.0->accelerate->-r requirements.txt (line 3)) (11.7.99)\n",
      "Requirement already satisfied: nvidia-cuda-runtime-cu11==11.7.99 in /home/studio-lab-user/.conda/envs/dev_env/lib/python3.11/site-packages (from torch>=1.10.0->accelerate->-r requirements.txt (line 3)) (11.7.99)\n",
      "Requirement already satisfied: nvidia-cuda-cupti-cu11==11.7.101 in /home/studio-lab-user/.conda/envs/dev_env/lib/python3.11/site-packages (from torch>=1.10.0->accelerate->-r requirements.txt (line 3)) (11.7.101)\n",
      "Requirement already satisfied: nvidia-cudnn-cu11==8.5.0.96 in /home/studio-lab-user/.conda/envs/dev_env/lib/python3.11/site-packages (from torch>=1.10.0->accelerate->-r requirements.txt (line 3)) (8.5.0.96)\n",
      "Requirement already satisfied: nvidia-cublas-cu11==11.10.3.66 in /home/studio-lab-user/.conda/envs/dev_env/lib/python3.11/site-packages (from torch>=1.10.0->accelerate->-r requirements.txt (line 3)) (11.10.3.66)\n",
      "Requirement already satisfied: nvidia-cufft-cu11==10.9.0.58 in /home/studio-lab-user/.conda/envs/dev_env/lib/python3.11/site-packages (from torch>=1.10.0->accelerate->-r requirements.txt (line 3)) (10.9.0.58)\n",
      "Requirement already satisfied: nvidia-curand-cu11==10.2.10.91 in /home/studio-lab-user/.conda/envs/dev_env/lib/python3.11/site-packages (from torch>=1.10.0->accelerate->-r requirements.txt (line 3)) (10.2.10.91)\n",
      "Requirement already satisfied: nvidia-cusolver-cu11==11.4.0.1 in /home/studio-lab-user/.conda/envs/dev_env/lib/python3.11/site-packages (from torch>=1.10.0->accelerate->-r requirements.txt (line 3)) (11.4.0.1)\n",
      "Requirement already satisfied: nvidia-cusparse-cu11==11.7.4.91 in /home/studio-lab-user/.conda/envs/dev_env/lib/python3.11/site-packages (from torch>=1.10.0->accelerate->-r requirements.txt (line 3)) (11.7.4.91)\n",
      "Requirement already satisfied: nvidia-nccl-cu11==2.14.3 in /home/studio-lab-user/.conda/envs/dev_env/lib/python3.11/site-packages (from torch>=1.10.0->accelerate->-r requirements.txt (line 3)) (2.14.3)\n",
      "Requirement already satisfied: nvidia-nvtx-cu11==11.7.91 in /home/studio-lab-user/.conda/envs/dev_env/lib/python3.11/site-packages (from torch>=1.10.0->accelerate->-r requirements.txt (line 3)) (11.7.91)\n",
      "Requirement already satisfied: triton==2.0.0 in /home/studio-lab-user/.conda/envs/dev_env/lib/python3.11/site-packages (from torch>=1.10.0->accelerate->-r requirements.txt (line 3)) (2.0.0)\n",
      "Requirement already satisfied: setuptools in /home/studio-lab-user/.conda/envs/dev_env/lib/python3.11/site-packages (from nvidia-cublas-cu11==11.10.3.66->torch>=1.10.0->accelerate->-r requirements.txt (line 3)) (68.0.0)\n",
      "Requirement already satisfied: wheel in /home/studio-lab-user/.conda/envs/dev_env/lib/python3.11/site-packages (from nvidia-cublas-cu11==11.10.3.66->torch>=1.10.0->accelerate->-r requirements.txt (line 3)) (0.40.0)\n",
      "Requirement already satisfied: cmake in /home/studio-lab-user/.conda/envs/dev_env/lib/python3.11/site-packages (from triton==2.0.0->torch>=1.10.0->accelerate->-r requirements.txt (line 3)) (3.26.4)\n",
      "Requirement already satisfied: lit in /home/studio-lab-user/.conda/envs/dev_env/lib/python3.11/site-packages (from triton==2.0.0->torch>=1.10.0->accelerate->-r requirements.txt (line 3)) (16.0.6)\n",
      "Requirement already satisfied: MarkupSafe>=2.0 in /home/studio-lab-user/.conda/envs/dev_env/lib/python3.11/site-packages (from jinja2->torch>=1.10.0->accelerate->-r requirements.txt (line 3)) (2.1.3)\n",
      "Requirement already satisfied: mpmath>=0.19 in /home/studio-lab-user/.conda/envs/dev_env/lib/python3.11/site-packages (from sympy->torch>=1.10.0->accelerate->-r requirements.txt (line 3)) (1.3.0)\n"
     ]
    }
   ],
   "source": [
    "# Before starting the execution of the notebook, install the required packages:\n",
    "!pip install -r requirements.txt"
   ]
  },
  {
   "cell_type": "code",
   "execution_count": 1,
   "metadata": {
    "tags": []
   },
   "outputs": [],
   "source": [
    "# Importing necessary libraries\n",
    "# These libraries will help us process the data, train the model, and evaluate the performance:\n",
    "import pandas as pd\n",
    "import numpy as np\n",
    "import matplotlib.pyplot as plt\n",
    "import ast\n",
    "from tqdm import tqdm\n",
    "from scipy.special import softmax\n",
    "from datasets import Dataset\n",
    "from transformers import AutoTokenizer, AutoModelForSequenceClassification, Trainer, TrainingArguments"
   ]
  },
  {
   "cell_type": "code",
   "execution_count": 3,
   "metadata": {
    "tags": []
   },
   "outputs": [],
   "source": [
    "# Utility functions:\n",
    "\n",
    "def convert_to_list(value):\n",
    "    \"\"\"\n",
    "    Function to convert a string representation of list to an actual Python list.\n",
    "    If the conversion fails (in the case of an actual list being passed, or any other object),\n",
    "    it returns the original input value.\n",
    "    \"\"\"\n",
    "    try:\n",
    "        return ast.literal_eval(value)\n",
    "    except (SyntaxError, ValueError):\n",
    "        return value\n",
    "\n",
    "\n",
    "def create_input(token_list,\n",
    "                 e1_start,\n",
    "                 e2_start,\n",
    "                 ner_list):\n",
    "    \"\"\"\n",
    "    Function to create a clean text input for the model using the token list, the start position of each entity\n",
    "    and the NER list.\n",
    "    \"\"\"\n",
    "    output_text = \"\"\n",
    "    for i in range(0, len(token_list)):\n",
    "        if i == e1_start:\n",
    "            text = str(ner_list[i]) + \" \" + str(token_list[i])\n",
    "        elif i == e2_start:\n",
    "            text = str(ner_list[i]) + \" \" + str(token_list[i])\n",
    "        else:\n",
    "            text = token_list[i]\n",
    "        output_text = output_text + \" \" + text\n",
    "    return output_text\n",
    "\n",
    "\n",
    "# Mapping constants:\n",
    "\n",
    "mapping = {\n",
    "    \"no_relation\": 0,\n",
    "    \"org:date:formed_on\": 1,\n",
    "    \"org:gpe:operations_in\": 2,\n",
    "    \"pers:org:member_of\": 3,\n",
    "    \"pers:org:employee_of\": 4,\n",
    "    \"pers:gov_agy:member_of\": 5,\n",
    "    \"org:org:acquired_by\": 6,\n",
    "    \"org:money:loss_of\": 7,\n",
    "    \"org:gpe:headquartered_in\": 8,\n",
    "    \"pers:univ:employee_of\": 9,\n",
    "    \"org:date:acquired_on\": 10,\n",
    "    \"pers:univ:attended\": 11,\n",
    "    \"org:gpe:formed_in\": 12,\n",
    "    \"org:money:profit_of\": 13,\n",
    "    \"org:money:cost_of\": 14,\n",
    "    \"org:org:subsidiary_of\": 15,\n",
    "    \"org:org:shares_of\": 16,\n",
    "    \"pers:org:founder_of\": 17,\n",
    "    \"pers:title:title\": 18,\n",
    "    \"org:money:revenue_of\": 19,\n",
    "    \"org:org:agreement_with\": 20,\n",
    "    \"pers:univ:member_of\": 21\n",
    "}\n",
    "\n",
    "mapping_reverse = {\n",
    "    0: \"no_relation\",\n",
    "    1: \"ORG-DATE\",\n",
    "    2: \"ORG-GPE\",\n",
    "    3: \"PERS-ORG\",\n",
    "    4: \"PERS-ORG\",\n",
    "    5: \"PERS-GOV_AGY\",\n",
    "    6: \"ORG-ORG\",\n",
    "    7: \"ORG-MONEY\",\n",
    "    8: \"ORG-GPE\",\n",
    "    9: \"PERS-UNIV\",\n",
    "    10: \"ORG-DATE\",\n",
    "    11: \"PERS-UNIV\",\n",
    "    12: \"ORG-GPE\",\n",
    "    13: \"ORG-MONEY\",\n",
    "    14: \"ORG-MONEY\",\n",
    "    15: \"ORG-ORG\",\n",
    "    16: \"ORG-ORG\",\n",
    "    17: \"PERS-ORG\",\n",
    "    18: \"PERS-TITLE\",\n",
    "    19:\"ORG-MONEY\",\n",
    "    20: \"ORG-ORG\",\n",
    "    21: \"PERS-UNIV\"}"
   ]
  },
  {
   "cell_type": "markdown",
   "metadata": {
    "tags": []
   },
   "source": [
    "## Data Loading and Preprocessing\n",
    "\n",
    "We first load the data and preprocess it for further analysis. We have four datasets which are traditionally used for the following porpuses:\n",
    "\n",
    "1. Training Dataset: The model learns from this data.\n",
    "2. Development (Dev) Dataset: Used to to fine-tune model parameters.\n",
    "3. Testing Dataset: Used to evaluate the model's final performance.\n",
    "4. Private Dataset: Unlabeled data for which we want the model to make predictions.\n",
    "\n",
    "However, in our approach, we combine 1, 2 and 3 into one big training dataset.\n",
    "\n",
    "The preprocessing includes conversion of the \"spacy_ner\" field to a list and creating clean text input for the model.\n"
   ]
  },
  {
   "cell_type": "markdown",
   "metadata": {
    "tags": []
   },
   "source": [
    "Continue,\n",
    "by placing the public json datasets in the folder `data/public/`,<br>\n",
    "and the private json dataset in the folder `data/private`."
   ]
  },
  {
   "cell_type": "code",
   "execution_count": 42,
   "metadata": {
    "executionInfo": {
     "elapsed": 4327,
     "status": "ok",
     "timestamp": 1687534884896,
     "user": {
      "displayName": "DIMITRIOS PETRIDIS",
      "userId": "14803618589141828199"
     },
     "user_tz": -120
    },
    "id": "BUhSUWdLZGJG",
    "tags": []
   },
   "outputs": [
    {
     "name": "stderr",
     "output_type": "stream",
     "text": [
      "100%|██████████| 20070/20070 [00:00<00:00, 42888.31it/s]\n",
      "100%|██████████| 4306/4306 [00:00<00:00, 33307.46it/s]\n",
      "100%|██████████| 4300/4300 [00:00<00:00, 39219.13it/s]\n"
     ]
    }
   ],
   "source": [
    "# Activate tqdm.padnas():\n",
    "tqdm.pandas()\n",
    "\n",
    "# Function to preprocess datasets:\n",
    "def preprocess_data(df):\n",
    "    # Convert the \"spacy_ner\" field into a list\n",
    "    df['spacy_ner'] = df[\"spacy_ner\"].apply(convert_to_list)\n",
    "    # Create a clean input for the model using the token, ner_list, and the start position of each entity\n",
    "    df[\"text\"] = df.progress_apply(\n",
    "        lambda row: create_input(token_list=row[\"token\"],\n",
    "                                 e1_start=row[\"e1_start\"],\n",
    "                                 e2_start=row[\"e2_start\"],\n",
    "                                 ner_list=row[\"spacy_ner\"]),\n",
    "        axis=1)\n",
    "    # Map the \"relation\" field to a numerical \"label\" field\n",
    "    df[\"label\"] = df[\"relation\"].map(mapping)\n",
    "    # Remove any rows with missing labels\n",
    "    df = df[df['label'].notna()]\n",
    "    df.label = df.label.astype(int)\n",
    "    return df\n",
    "\n",
    "\n",
    "# Load datasets:\n",
    "train = pd.read_json(\"data/public/train_refind_official.json\") # labeled\n",
    "dev = pd.read_json(\"data/public/dev_refind_official.json\") # labeled\n",
    "test = pd.read_json(\"data/public/test_refind_official.json\") # labeled\n",
    "private = pd.read_json(\"data/private/private_dataset.json\") # unlabeled\n",
    "\n",
    "\n",
    "# Preprocess datasets\"\n",
    "train = preprocess_data(train)\n",
    "dev = preprocess_data(dev)\n",
    "test = preprocess_data(test)"
   ]
  },
  {
   "cell_type": "code",
   "execution_count": 43,
   "metadata": {
    "colab": {
     "base_uri": "https://localhost:8080/"
    },
    "executionInfo": {
     "elapsed": 14,
     "status": "ok",
     "timestamp": 1687534885959,
     "user": {
      "displayName": "DIMITRIOS PETRIDIS",
      "userId": "14803618589141828199"
     },
     "user_tz": -120
    },
    "id": "awIm0uDnOEtX",
    "outputId": "9c81d2bc-2114-41c6-b87c-f361f60a2588",
    "tags": []
   },
   "outputs": [
    {
     "name": "stdout",
     "output_type": "stream",
     "text": [
      "0    [O, O, O, ORG, ORG, ORG, O, O, O, ORG, ORG, OR...\n",
      "Name: spacy_ner, dtype: object\n",
      "0    [O, O, O, O, O, O, O, O, O, O, O, O, O, O, O, ...\n",
      "Name: spacy_ner, dtype: object\n",
      "0    [O, O, O, O, O, O, O, O, O, O, O, O, O, O, O, ...\n",
      "Name: spacy_ner, dtype: object\n",
      "0    ['O', 'O', 'O', 'O', 'GOV_AGY', 'O', 'O', 'O',...\n",
      "Name: spacy_ner, dtype: object\n"
     ]
    },
    {
     "data": {
      "text/plain": [
       "[None, None, None, None]"
      ]
     },
     "execution_count": 43,
     "metadata": {},
     "output_type": "execute_result"
    }
   ],
   "source": [
    "# Confirm the conversion above:\n",
    "[print(c['spacy_ner'].head(1)) for c in [train, dev, test, private]]"
   ]
  },
  {
   "cell_type": "code",
   "execution_count": 44,
   "metadata": {
    "tags": []
   },
   "outputs": [
    {
     "name": "stderr",
     "output_type": "stream",
     "text": [
      "100%|██████████| 3069/3069 [00:00<00:00, 26700.24it/s]\n"
     ]
    }
   ],
   "source": [
    "# For the private dataset, we don't have any labeled relation, hence we will fill the label column with zeros.\n",
    "\n",
    "# Prepare the unlabeled (private) dataset separately:\n",
    "private['spacy_ner'] = private[\"spacy_ner\"].apply(convert_to_list)\n",
    "private[\"text\"] = private.progress_apply(\n",
    "    lambda row: create_input(token_list=row[\"token\"], e1_start=row[\"e1_start\"], e2_start=row[\"e2_start\"], ner_list=row[\"spacy_ner\"]), axis=1)\n",
    "private[\"label\"] = 0\n",
    "private = private[private['label'].notna()]\n",
    "private.label = private.label.astype(int)"
   ]
  },
  {
   "cell_type": "markdown",
   "metadata": {},
   "source": [
    "## Dataset Preparation\n",
    "\n",
    "Now that we've preprocessed the data, we'll select only the necessary columns in each dataset and check their lengths. Finally, we concatenate all labeled datasets to form a comprehensive training dataset.\n"
   ]
  },
  {
   "cell_type": "code",
   "execution_count": 47,
   "metadata": {
    "id": "6ev7w0LnPARg",
    "tags": []
   },
   "outputs": [
    {
     "name": "stdout",
     "output_type": "stream",
     "text": [
      "Length of Train dataset: 20070\n",
      "Length of Dev dataset: 4306\n",
      "Length of Test dataset: 4300\n",
      "Length of Private dataset: 3069\n",
      "Length of All Train dataset: 28676\n",
      "label\n",
      "0     13046\n",
      "18     4468\n",
      "2      4043\n",
      "4      2479\n",
      "20      935\n",
      "1       640\n",
      "3       630\n",
      "15      551\n",
      "16      408\n",
      "19      311\n",
      "7       202\n",
      "8       193\n",
      "10      186\n",
      "17      131\n",
      "12      115\n",
      "6        78\n",
      "9        76\n",
      "5        56\n",
      "11       43\n",
      "21       33\n",
      "13       29\n",
      "14       23\n",
      "Name: count, dtype: int64\n"
     ]
    }
   ],
   "source": [
    "# Function to format datasets:\n",
    "def format_data(df):\n",
    "    # Keep only the \"text\" and \"label\" columns and reset the index\n",
    "    df = df[[\"text\", \"label\"]].reset_index(drop=True)\n",
    "    return df\n",
    "\n",
    "# Format datasets:\n",
    "train_df = format_data(train)\n",
    "dev_df = format_data(dev)\n",
    "test_df = format_data(test)\n",
    "private_df = format_data(private)\n",
    "\n",
    "# Print lengths of each dataset:\n",
    "print(\"Length of Train dataset:\", len(train_df))\n",
    "print(\"Length of Dev dataset:\", len(dev_df))\n",
    "print(\"Length of Test dataset:\", len(test_df))\n",
    "print(\"Length of Private dataset:\", len(private_df))\n",
    "\n",
    "# Concatenate all the labeled datasets together to one training dataset:\n",
    "all_train_df = pd.concat([train_df, dev_df, test_df])\n",
    "print(\"Length of All Train dataset:\", len(all_train_df))\n",
    "\n",
    "# Check the labels distributions in the training dataset:\n",
    "label_distribution = all_train_df[\"label\"].value_counts(normalize=False)\n",
    "print(label_distribution)"
   ]
  },
  {
   "cell_type": "markdown",
   "metadata": {
    "colab": {
     "base_uri": "https://localhost:8080/"
    },
    "executionInfo": {
     "elapsed": 266,
     "status": "ok",
     "timestamp": 1687533410754,
     "user": {
      "displayName": "DIMITRIOS PETRIDIS",
      "userId": "14803618589141828199"
     },
     "user_tz": -120
    },
    "id": "IVYcSb-6P-TT",
    "outputId": "b1eedd2a-fabb-4900-ace1-2601aad646cd",
    "tags": []
   },
   "source": [
    "## Visualization of Label Distribution\n",
    "\n",
    "Let's visualize the distribution of the labels in our comprehensive training dataset. This will help us understand the balance of labels in our data."
   ]
  },
  {
   "cell_type": "code",
   "execution_count": 48,
   "metadata": {
    "colab": {
     "base_uri": "https://localhost:8080/"
    },
    "executionInfo": {
     "elapsed": 5,
     "status": "ok",
     "timestamp": 1687533415726,
     "user": {
      "displayName": "DIMITRIOS PETRIDIS",
      "userId": "14803618589141828199"
     },
     "user_tz": -120
    },
    "id": "gHtyA03lQNx3",
    "outputId": "fb75ca29-3a3b-4ac6-e9a6-79b692025917",
    "tags": []
   },
   "outputs": [
    {
     "data": {
      "image/png": "[encoded data removed]",
      "text/plain": [
       "<Figure size 1000x500 with 1 Axes>"
      ]
     },
     "metadata": {},
     "output_type": "display_data"
    }
   ],
   "source": [
    "# Sort the distribution in descending order:\n",
    "sorted_label_distribution = label_distribution.sort_values(ascending=False)\n",
    "\n",
    "# Create a figure and a bar plot:\n",
    "plt.figure(figsize=(10, 5))\n",
    "plt.bar(np.arange(len(sorted_label_distribution)), sorted_label_distribution.values)\n",
    "\n",
    "# Set xticks and xticklabels:\n",
    "plt.xticks(np.arange(len(sorted_label_distribution)), sorted_label_distribution.index, rotation='vertical')\n",
    "\n",
    "# Add labels and title:\n",
    "plt.xlabel('Relations')\n",
    "plt.ylabel('Number of Instances')\n",
    "plt.title('Distribution of Relations in the Predicted Dataset')\n",
    "\n",
    "# Display the plot:\n",
    "plt.show()"
   ]
  },
  {
   "cell_type": "code",
   "execution_count": 12,
   "metadata": {
    "colab": {
     "base_uri": "https://localhost:8080/",
     "height": 423
    },
    "executionInfo": {
     "elapsed": 10,
     "status": "ok",
     "timestamp": 1687533465586,
     "user": {
      "displayName": "DIMITRIOS PETRIDIS",
      "userId": "14803618589141828199"
     },
     "user_tz": -120
    },
    "id": "vMUndAEQ1RqR",
    "outputId": "08b09af4-e15c-4802-978b-b05372ea2701",
    "tags": []
   },
   "outputs": [
    {
     "data": {
      "text/html": [
       "<div>\n",
       "<style scoped>\n",
       "    .dataframe tbody tr th:only-of-type {\n",
       "        vertical-align: middle;\n",
       "    }\n",
       "\n",
       "    .dataframe tbody tr th {\n",
       "        vertical-align: top;\n",
       "    }\n",
       "\n",
       "    .dataframe thead th {\n",
       "        text-align: right;\n",
       "    }\n",
       "</style>\n",
       "<table border=\"1\" class=\"dataframe\">\n",
       "  <thead>\n",
       "    <tr style=\"text-align: right;\">\n",
       "      <th></th>\n",
       "      <th>text</th>\n",
       "      <th>label</th>\n",
       "    </tr>\n",
       "  </thead>\n",
       "  <tbody>\n",
       "    <tr>\n",
       "      <th>0</th>\n",
       "      <td>warrants to purchase ORG Lumos Networks Corp....</td>\n",
       "      <td>0</td>\n",
       "    </tr>\n",
       "    <tr>\n",
       "      <th>1</th>\n",
       "      <td>warrants to purchase ORG Lumos Networks Corp....</td>\n",
       "      <td>0</td>\n",
       "    </tr>\n",
       "    <tr>\n",
       "      <th>2</th>\n",
       "      <td>turn over to Global Gold at its offices in Ry...</td>\n",
       "      <td>0</td>\n",
       "    </tr>\n",
       "    <tr>\n",
       "      <th>3</th>\n",
       "      <td>ts Eighteen of FelCor Lodging LP Consolidated...</td>\n",
       "      <td>0</td>\n",
       "    </tr>\n",
       "    <tr>\n",
       "      <th>4</th>\n",
       "      <td>the ORG WFOE will waive and release you uncon...</td>\n",
       "      <td>0</td>\n",
       "    </tr>\n",
       "    <tr>\n",
       "      <th>...</th>\n",
       "      <td>...</td>\n",
       "      <td>...</td>\n",
       "    </tr>\n",
       "    <tr>\n",
       "      <th>4295</th>\n",
       "      <td>In June 2015 , EchoStar purchased an equity i...</td>\n",
       "      <td>20</td>\n",
       "    </tr>\n",
       "    <tr>\n",
       "      <th>4296</th>\n",
       "      <td>Future sales of ORG GERON CORP common stock ,...</td>\n",
       "      <td>20</td>\n",
       "    </tr>\n",
       "    <tr>\n",
       "      <th>4297</th>\n",
       "      <td>Effective January 2012 , ORG Hughes Satellite...</td>\n",
       "      <td>20</td>\n",
       "    </tr>\n",
       "    <tr>\n",
       "      <th>4298</th>\n",
       "      <td>ORG Revlon Holdings agreed to indemnify ORG R...</td>\n",
       "      <td>20</td>\n",
       "    </tr>\n",
       "    <tr>\n",
       "      <th>4299</th>\n",
       "      <td>Pursuant to the terms of the Asset Purchase A...</td>\n",
       "      <td>20</td>\n",
       "    </tr>\n",
       "  </tbody>\n",
       "</table>\n",
       "<p>28676 rows × 2 columns</p>\n",
       "</div>"
      ],
      "text/plain": [
       "                                                   text  label\n",
       "0      warrants to purchase ORG Lumos Networks Corp....      0\n",
       "1      warrants to purchase ORG Lumos Networks Corp....      0\n",
       "2      turn over to Global Gold at its offices in Ry...      0\n",
       "3      ts Eighteen of FelCor Lodging LP Consolidated...      0\n",
       "4      the ORG WFOE will waive and release you uncon...      0\n",
       "...                                                 ...    ...\n",
       "4295   In June 2015 , EchoStar purchased an equity i...     20\n",
       "4296   Future sales of ORG GERON CORP common stock ,...     20\n",
       "4297   Effective January 2012 , ORG Hughes Satellite...     20\n",
       "4298   ORG Revlon Holdings agreed to indemnify ORG R...     20\n",
       "4299   Pursuant to the terms of the Asset Purchase A...     20\n",
       "\n",
       "[28676 rows x 2 columns]"
      ]
     },
     "execution_count": 12,
     "metadata": {},
     "output_type": "execute_result"
    }
   ],
   "source": [
    "# Check the structure of the training dataset:\n",
    "all_train_df"
   ]
  },
  {
   "cell_type": "markdown",
   "metadata": {},
   "source": [
    "## Dataset Conversion\n",
    "\n",
    "To make the datasets compatible with Hugging Face's `Trainer`, we convert them into Dataset objects."
   ]
  },
  {
   "cell_type": "code",
   "execution_count": 13,
   "metadata": {
    "id": "5JJYKlTvf3yi",
    "tags": []
   },
   "outputs": [],
   "source": [
    "# Convert the datasets into \"Trainer-able\" Dataset objects:\n",
    "all_train_dataset = Dataset.from_pandas(all_train_df)\n",
    "private_dataset = Dataset.from_pandas(private_df)"
   ]
  },
  {
   "cell_type": "code",
   "execution_count": 14,
   "metadata": {
    "colab": {
     "base_uri": "https://localhost:8080/"
    },
    "executionInfo": {
     "elapsed": 376,
     "status": "ok",
     "timestamp": 1687362906797,
     "user": {
      "displayName": "Stefan Pasch",
      "userId": "05422724237601650335"
     },
     "user_tz": -120
    },
    "id": "KgR0y7DrQvw4",
    "outputId": "ff816682-7e8c-4c3f-a7c2-da8979fe029f",
    "tags": []
   },
   "outputs": [
    {
     "name": "stdout",
     "output_type": "stream",
     "text": [
      "Dataset({\n",
      "    features: ['text', 'label', '__index_level_0__'],\n",
      "    num_rows: 28676\n",
      "})\n",
      "Dataset({\n",
      "    features: ['text', 'label'],\n",
      "    num_rows: 3069\n",
      "})\n"
     ]
    }
   ],
   "source": [
    "# Check the structure of the converted training and private datasets:\n",
    "print(all_train_dataset)\n",
    "print(private_dataset)"
   ]
  },
  {
   "cell_type": "markdown",
   "metadata": {
    "colab": {
     "base_uri": "https://localhost:8080/"
    },
    "executionInfo": {
     "elapsed": 224,
     "status": "ok",
     "timestamp": 1687362913846,
     "user": {
      "displayName": "Stefan Pasch",
      "userId": "05422724237601650335"
     },
     "user_tz": -120
    },
    "id": "Cjyb-cOCMml0",
    "outputId": "9a8cb3d5-9f27-466b-f2e3-d03eb4b5a4d2",
    "tags": []
   },
   "source": [
    "## Tokenization\n",
    "\n",
    "Finally, we'll create a tokenizer for the \"roberta-large\" model and tokenize our datasets. Tokenization is the process of converting text into a format that the model can understand."
   ]
  },
  {
   "cell_type": "code",
   "execution_count": 15,
   "metadata": {
    "tags": []
   },
   "outputs": [
    {
     "data": {
      "application/vnd.jupyter.widget-view+json": {
       "model_id": "fd30fbc4750a49e3981b0efd713de045",
       "version_major": 2,
       "version_minor": 0
      },
      "text/plain": [
       "Map:   0%|          | 0/50 [00:00<?, ? examples/s]"
      ]
     },
     "metadata": {},
     "output_type": "display_data"
    },
    {
     "data": {
      "application/vnd.jupyter.widget-view+json": {
       "model_id": "e472f05e4296478f8df1bc349512984e",
       "version_major": 2,
       "version_minor": 0
      },
      "text/plain": [
       "Map:   0%|          | 0/3069 [00:00<?, ? examples/s]"
      ]
     },
     "metadata": {},
     "output_type": "display_data"
    }
   ],
   "source": [
    "# Create a tokenizer for the \"roberta-large\" model:\n",
    "tokenizer = AutoTokenizer.from_pretrained(\"roberta-large\")\n",
    "\n",
    "# Function to tokenize the datasets:\n",
    "def tokenize_function(examples):\n",
    "    return tokenizer(examples[\"text\"], padding=\"max_length\", truncation=True)\n",
    "\n",
    "# Tokenize datasets:\n",
    "all_train_tokenized = all_train_tokenized = all_train_dataset.map(tokenize_function, batched=True)\n",
    "private_test_tokenized = private_dataset.map(tokenize_function, batched=True)"
   ]
  },
  {
   "cell_type": "markdown",
   "metadata": {},
   "source": [
    "## Training the RoBERTa model\n",
    "\n",
    "Next, we are going to train our sequence classification model. The model we will be using is the `roberta-large` model. This is a large-sized variant of the RoBERTa model, which is itself a variant of the BERT model that uses a different training procedure."
   ]
  },
  {
   "cell_type": "code",
   "execution_count": 16,
   "metadata": {
    "tags": []
   },
   "outputs": [
    {
     "name": "stderr",
     "output_type": "stream",
     "text": [
      "Some weights of the model checkpoint at roberta-large were not used when initializing RobertaForSequenceClassification: ['lm_head.bias', 'lm_head.dense.bias', 'lm_head.layer_norm.weight', 'lm_head.layer_norm.bias', 'lm_head.dense.weight']\n",
      "- This IS expected if you are initializing RobertaForSequenceClassification from the checkpoint of a model trained on another task or with another architecture (e.g. initializing a BertForSequenceClassification model from a BertForPreTraining model).\n",
      "- This IS NOT expected if you are initializing RobertaForSequenceClassification from the checkpoint of a model that you expect to be exactly identical (initializing a BertForSequenceClassification model from a BertForSequenceClassification model).\n",
      "Some weights of RobertaForSequenceClassification were not initialized from the model checkpoint at roberta-large and are newly initialized: ['classifier.out_proj.bias', 'classifier.dense.weight', 'classifier.dense.bias', 'classifier.out_proj.weight']\n",
      "You should probably TRAIN this model on a down-stream task to be able to use it for predictions and inference.\n"
     ]
    }
   ],
   "source": [
    "model = AutoModelForSequenceClassification.from_pretrained(\"roberta-large\", \n",
    "                                                           num_labels=22)"
   ]
  },
  {
   "cell_type": "markdown",
   "metadata": {},
   "source": [
    "Now, we set up our training arguments. We use the Trainer class from Hugging Face's Transformers library, which provides a wide range of customization options for training.\n",
    "\n",
    "We'll train for 3 epochs with a learning rate of 1e-05, and a weight decay of 0.01.\n",
    "\n",
    "We're also setting save_steps to 5000, which means the trainer will save a checkpoint every 5000 steps. This can be useful in case the training process gets interrupted, so we don't lose all our progress."
   ]
  },
  {
   "cell_type": "code",
   "execution_count": 18,
   "metadata": {
    "id": "Z94NGGg3KkoL",
    "tags": []
   },
   "outputs": [],
   "source": [
    "training_args = TrainingArguments(\"test_trainer\",\n",
    "                                  weight_decay=0.01,\n",
    "                                  num_train_epochs=3.0,\n",
    "                                  learning_rate=1e-05,\n",
    "                                  save_steps=5000,\n",
    "                                  per_device_train_batch_size=16)"
   ]
  },
  {
   "cell_type": "markdown",
   "metadata": {},
   "source": [
    "Now we instantiate the Trainer with our model, training arguments, and our tokenized datasets."
   ]
  },
  {
   "cell_type": "code",
   "execution_count": 19,
   "metadata": {
    "id": "pt88nIP6K-Vq",
    "tags": []
   },
   "outputs": [],
   "source": [
    "trainer = Trainer(\n",
    "    model=model, args=training_args,\n",
    "    train_dataset=all_train_tokenized,\n",
    "    eval_dataset=private_test_tokenized\n",
    ")"
   ]
  },
  {
   "cell_type": "markdown",
   "metadata": {
    "tags": []
   },
   "source": [
    "Finally, we train our model."
   ]
  },
  {
   "cell_type": "code",
   "execution_count": 20,
   "metadata": {
    "colab": {
     "base_uri": "https://localhost:8080/",
     "height": 1000
    },
    "executionInfo": {
     "elapsed": 11920562,
     "status": "ok",
     "timestamp": 1687309998471,
     "user": {
      "displayName": "Stefan Pasch",
      "userId": "05422724237601650335"
     },
     "user_tz": -120
    },
    "id": "G8LfavfrLAQ7",
    "outputId": "5ed21fcf-1077-4b29-8dee-bdb25b95109a",
    "tags": []
   },
   "outputs": [
    {
     "name": "stderr",
     "output_type": "stream",
     "text": [
      "/home/studio-lab-user/.conda/envs/dev_env/lib/python3.11/site-packages/transformers/optimization.py:411: FutureWarning: This implementation of AdamW is deprecated and will be removed in a future version. Use the PyTorch implementation torch.optim.AdamW instead, or set `no_deprecation_warning=True` to disable this warning\n",
      "  warnings.warn(\n"
     ]
    },
    {
     "data": {
      "text/html": [
       "\n",
       "    <div>\n",
       "      \n",
       "      <progress value='75' max='75' style='width:300px; height:20px; vertical-align: middle;'></progress>\n",
       "      [75/75 00:49, Epoch 3/3]\n",
       "    </div>\n",
       "    <table border=\"1\" class=\"dataframe\">\n",
       "  <thead>\n",
       " <tr style=\"text-align: left;\">\n",
       "      <th>Step</th>\n",
       "      <th>Training Loss</th>\n",
       "    </tr>\n",
       "  </thead>\n",
       "  <tbody>\n",
       "  </tbody>\n",
       "</table><p>"
      ],
      "text/plain": [
       "<IPython.core.display.HTML object>"
      ]
     },
     "metadata": {},
     "output_type": "display_data"
    },
    {
     "data": {
      "text/plain": [
       "TrainOutput(global_step=75, training_loss=1.0704501342773438, metrics={'train_runtime': 52.3316, 'train_samples_per_second': 2.866, 'train_steps_per_second': 1.433, 'total_flos': 139799150899200.0, 'train_loss': 1.0704501342773438, 'epoch': 3.0})"
      ]
     },
     "execution_count": 20,
     "metadata": {},
     "output_type": "execute_result"
    }
   ],
   "source": [
    "trainer.train()"
   ]
  },
  {
   "cell_type": "markdown",
   "metadata": {
    "tags": []
   },
   "source": [
    "## Making Predictions"
   ]
  },
  {
   "cell_type": "code",
   "execution_count": 22,
   "metadata": {
    "colab": {
     "base_uri": "https://localhost:8080/",
     "height": 17
    },
    "executionInfo": {
     "elapsed": 40734,
     "status": "ok",
     "timestamp": 1687310039172,
     "user": {
      "displayName": "Stefan Pasch",
      "userId": "05422724237601650335"
     },
     "user_tz": -120
    },
    "id": "gckpqHgiolnZ",
    "outputId": "12422b7e-b306-4005-ea1a-5dbdcd62ace8",
    "tags": []
   },
   "outputs": [
    {
     "data": {
      "text/html": [],
      "text/plain": [
       "<IPython.core.display.HTML object>"
      ]
     },
     "metadata": {},
     "output_type": "display_data"
    },
    {
     "data": {
      "text/html": [
       "<div>\n",
       "<style scoped>\n",
       "    .dataframe tbody tr th:only-of-type {\n",
       "        vertical-align: middle;\n",
       "    }\n",
       "\n",
       "    .dataframe tbody tr th {\n",
       "        vertical-align: top;\n",
       "    }\n",
       "\n",
       "    .dataframe thead th {\n",
       "        text-align: right;\n",
       "    }\n",
       "</style>\n",
       "<table border=\"1\" class=\"dataframe\">\n",
       "  <thead>\n",
       "    <tr style=\"text-align: right;\">\n",
       "      <th></th>\n",
       "      <th>text</th>\n",
       "      <th>label</th>\n",
       "      <th>prediction</th>\n",
       "    </tr>\n",
       "  </thead>\n",
       "  <tbody>\n",
       "    <tr>\n",
       "      <th>0</th>\n",
       "      <td>Prior to entering the GOV_AGY Pentagon , Mr. ...</td>\n",
       "      <td>0</td>\n",
       "      <td>0</td>\n",
       "    </tr>\n",
       "    <tr>\n",
       "      <th>1</th>\n",
       "      <td>These actions will not result in ORG Ford Ind...</td>\n",
       "      <td>0</td>\n",
       "      <td>0</td>\n",
       "    </tr>\n",
       "    <tr>\n",
       "      <th>2</th>\n",
       "      <td>Interest Expense Interest expense increased f...</td>\n",
       "      <td>0</td>\n",
       "      <td>0</td>\n",
       "    </tr>\n",
       "    <tr>\n",
       "      <th>3</th>\n",
       "      <td>aGvHD Phase 1 Trial In March 2021 , results w...</td>\n",
       "      <td>0</td>\n",
       "      <td>0</td>\n",
       "    </tr>\n",
       "    <tr>\n",
       "      <th>4</th>\n",
       "      <td>ROYALTY PHARMA PLC NOTES TO THE CONSOLIDATED ...</td>\n",
       "      <td>0</td>\n",
       "      <td>0</td>\n",
       "    </tr>\n",
       "  </tbody>\n",
       "</table>\n",
       "</div>"
      ],
      "text/plain": [
       "                                                text  label  prediction\n",
       "0   Prior to entering the GOV_AGY Pentagon , Mr. ...      0           0\n",
       "1   These actions will not result in ORG Ford Ind...      0           0\n",
       "2   Interest Expense Interest expense increased f...      0           0\n",
       "3   aGvHD Phase 1 Trial In March 2021 , results w...      0           0\n",
       "4   ROYALTY PHARMA PLC NOTES TO THE CONSOLIDATED ...      0           0"
      ]
     },
     "execution_count": 22,
     "metadata": {},
     "output_type": "execute_result"
    }
   ],
   "source": [
    "# Using the trainer to predict on our test dataset:\n",
    "predict = trainer.predict(test_dataset = private_test_tokenized)\n",
    "\n",
    "# Create an empty list to hold our predictions:\n",
    "liste = []\n",
    "\n",
    "# For each prediction, find the index (class) with the highest score:\n",
    "for i in predict[0]:\n",
    "  max_val = -99\n",
    "  for x in range(len(predict[0][1])):\n",
    "    if i[x] > max_val:\n",
    "      max_val = i[x]\n",
    "      prediction = x\n",
    "  liste.append(prediction)\n",
    "\n",
    "# Adding our predictions to the private dataset:\n",
    "private_df['prediction'] = liste\n",
    "\n",
    "# Inspecting the first few rows of our dataset:\n",
    "private_df.head()"
   ]
  },
  {
   "cell_type": "markdown",
   "metadata": {},
   "source": [
    "## Creating Output File\n",
    "Now we will create the final output file which contains the prediction results. We will then import this file for further analysis."
   ]
  },
  {
   "cell_type": "code",
   "execution_count": 33,
   "metadata": {
    "tags": []
   },
   "outputs": [],
   "source": [
    "# Isolating our predictions into a new DataFrame:\n",
    "output = private_df[['prediction']]\n",
    "\n",
    "# Write to a CSV file:\n",
    "output.to_csv(\"data/output/predictions.csv\",\n",
    "              sep ='\\t',\n",
    "              header = False,\n",
    "              index= False)"
   ]
  },
  {
   "cell_type": "markdown",
   "metadata": {},
   "source": [
    "## Post-Processing Predictions"
   ]
  },
  {
   "cell_type": "code",
   "execution_count": 50,
   "metadata": {
    "id": "X5GCxjMCF9dz",
    "tags": []
   },
   "outputs": [
    {
     "name": "stderr",
     "output_type": "stream",
     "text": [
      "100%|██████████| 3069/3069 [00:00<00:00, 25859.30it/s]\n"
     ]
    },
    {
     "data": {
      "text/html": [
       "<div>\n",
       "<style scoped>\n",
       "    .dataframe tbody tr th:only-of-type {\n",
       "        vertical-align: middle;\n",
       "    }\n",
       "\n",
       "    .dataframe tbody tr th {\n",
       "        vertical-align: top;\n",
       "    }\n",
       "\n",
       "    .dataframe thead th {\n",
       "        text-align: right;\n",
       "    }\n",
       "</style>\n",
       "<table border=\"1\" class=\"dataframe\">\n",
       "  <thead>\n",
       "    <tr style=\"text-align: right;\">\n",
       "      <th></th>\n",
       "      <th>id</th>\n",
       "      <th>docid</th>\n",
       "      <th>relation</th>\n",
       "      <th>rel_group</th>\n",
       "      <th>token</th>\n",
       "      <th>e1_start</th>\n",
       "      <th>e1_end</th>\n",
       "      <th>e2_start</th>\n",
       "      <th>e2_end</th>\n",
       "      <th>e1_type</th>\n",
       "      <th>...</th>\n",
       "      <th>15</th>\n",
       "      <th>16</th>\n",
       "      <th>17</th>\n",
       "      <th>18</th>\n",
       "      <th>19</th>\n",
       "      <th>20</th>\n",
       "      <th>21</th>\n",
       "      <th>prediction</th>\n",
       "      <th>pred_relation</th>\n",
       "      <th>text</th>\n",
       "    </tr>\n",
       "  </thead>\n",
       "  <tbody>\n",
       "    <tr>\n",
       "      <th>0</th>\n",
       "      <td>1_William Cohen_30-32_Pentagon_4-5</td>\n",
       "      <td>2021</td>\n",
       "      <td></td>\n",
       "      <td>PERSON-GOV_AGY</td>\n",
       "      <td>[Prior, to, entering, the, Pentagon, ,, Mr., T...</td>\n",
       "      <td>30</td>\n",
       "      <td>32</td>\n",
       "      <td>4</td>\n",
       "      <td>5</td>\n",
       "      <td>PERSON</td>\n",
       "      <td>...</td>\n",
       "      <td>-0.390193</td>\n",
       "      <td>-0.533475</td>\n",
       "      <td>-0.328984</td>\n",
       "      <td>-0.532481</td>\n",
       "      <td>-1.139389</td>\n",
       "      <td>0.200098</td>\n",
       "      <td>-0.753552</td>\n",
       "      <td>0</td>\n",
       "      <td>no_relation</td>\n",
       "      <td>Prior to entering the GOV_AGY Pentagon , Mr. ...</td>\n",
       "    </tr>\n",
       "    <tr>\n",
       "      <th>1</th>\n",
       "      <td>267_Ford India_6-8_Sanand_25-26_6-8_25-26</td>\n",
       "      <td>2021</td>\n",
       "      <td></td>\n",
       "      <td>ORG-GPE</td>\n",
       "      <td>[These, actions, will, not, result, in, Ford, ...</td>\n",
       "      <td>6</td>\n",
       "      <td>8</td>\n",
       "      <td>25</td>\n",
       "      <td>26</td>\n",
       "      <td>ORG</td>\n",
       "      <td>...</td>\n",
       "      <td>-0.147122</td>\n",
       "      <td>-0.552815</td>\n",
       "      <td>0.070774</td>\n",
       "      <td>-0.730422</td>\n",
       "      <td>-0.791448</td>\n",
       "      <td>0.233352</td>\n",
       "      <td>-0.638023</td>\n",
       "      <td>0</td>\n",
       "      <td>no_relation</td>\n",
       "      <td>These actions will not result in ORG Ford Ind...</td>\n",
       "    </tr>\n",
       "    <tr>\n",
       "      <th>2</th>\n",
       "      <td>76_Ellie Mae_49-51_May 2020_31-33_49-51_31-33</td>\n",
       "      <td>2021</td>\n",
       "      <td></td>\n",
       "      <td>ORG-DATE</td>\n",
       "      <td>[Interest, Expense, Interest, expense, increas...</td>\n",
       "      <td>49</td>\n",
       "      <td>51</td>\n",
       "      <td>31</td>\n",
       "      <td>33</td>\n",
       "      <td>ORG</td>\n",
       "      <td>...</td>\n",
       "      <td>-0.013391</td>\n",
       "      <td>-0.642450</td>\n",
       "      <td>0.041890</td>\n",
       "      <td>-0.757049</td>\n",
       "      <td>-0.696738</td>\n",
       "      <td>0.219204</td>\n",
       "      <td>-0.649191</td>\n",
       "      <td>0</td>\n",
       "      <td>no_relation</td>\n",
       "      <td>Interest Expense Interest expense increased f...</td>\n",
       "    </tr>\n",
       "    <tr>\n",
       "      <th>3</th>\n",
       "      <td>326_Brian C. Betts_33-36_Investigator_13-14</td>\n",
       "      <td>2021</td>\n",
       "      <td></td>\n",
       "      <td>PERSON-TITLE</td>\n",
       "      <td>[aGvHD, Phase, 1, Trial, In, March, 2021, ,, r...</td>\n",
       "      <td>33</td>\n",
       "      <td>36</td>\n",
       "      <td>13</td>\n",
       "      <td>14</td>\n",
       "      <td>PERSON</td>\n",
       "      <td>...</td>\n",
       "      <td>-0.109742</td>\n",
       "      <td>-0.802094</td>\n",
       "      <td>-0.447290</td>\n",
       "      <td>-0.514643</td>\n",
       "      <td>-1.020846</td>\n",
       "      <td>0.373282</td>\n",
       "      <td>-0.827603</td>\n",
       "      <td>0</td>\n",
       "      <td>no_relation</td>\n",
       "      <td>aGvHD Phase 1 Trial In March 2021 , results w...</td>\n",
       "    </tr>\n",
       "    <tr>\n",
       "      <th>4</th>\n",
       "      <td>119_Gilead_49-50_2019_39-40_49-50_39-40</td>\n",
       "      <td>2021</td>\n",
       "      <td></td>\n",
       "      <td>ORG-DATE</td>\n",
       "      <td>[ROYALTY, PHARMA, PLC, NOTES, TO, THE, CONSOLI...</td>\n",
       "      <td>49</td>\n",
       "      <td>50</td>\n",
       "      <td>39</td>\n",
       "      <td>40</td>\n",
       "      <td>ORG</td>\n",
       "      <td>...</td>\n",
       "      <td>-0.338050</td>\n",
       "      <td>-0.686948</td>\n",
       "      <td>-0.484813</td>\n",
       "      <td>-0.525706</td>\n",
       "      <td>-1.151302</td>\n",
       "      <td>0.476228</td>\n",
       "      <td>-0.696910</td>\n",
       "      <td>0</td>\n",
       "      <td>no_relation</td>\n",
       "      <td>ROYALTY PHARMA PLC NOTES TO THE CONSOLIDATED ...</td>\n",
       "    </tr>\n",
       "  </tbody>\n",
       "</table>\n",
       "<p>5 rows × 42 columns</p>\n",
       "</div>"
      ],
      "text/plain": [
       "                                              id  docid relation  \\\n",
       "0             1_William Cohen_30-32_Pentagon_4-5   2021            \n",
       "1      267_Ford India_6-8_Sanand_25-26_6-8_25-26   2021            \n",
       "2  76_Ellie Mae_49-51_May 2020_31-33_49-51_31-33   2021            \n",
       "3    326_Brian C. Betts_33-36_Investigator_13-14   2021            \n",
       "4        119_Gilead_49-50_2019_39-40_49-50_39-40   2021            \n",
       "\n",
       "        rel_group                                              token  \\\n",
       "0  PERSON-GOV_AGY  [Prior, to, entering, the, Pentagon, ,, Mr., T...   \n",
       "1         ORG-GPE  [These, actions, will, not, result, in, Ford, ...   \n",
       "2        ORG-DATE  [Interest, Expense, Interest, expense, increas...   \n",
       "3    PERSON-TITLE  [aGvHD, Phase, 1, Trial, In, March, 2021, ,, r...   \n",
       "4        ORG-DATE  [ROYALTY, PHARMA, PLC, NOTES, TO, THE, CONSOLI...   \n",
       "\n",
       "   e1_start  e1_end  e2_start  e2_end e1_type  ...        15        16  \\\n",
       "0        30      32         4       5  PERSON  ... -0.390193 -0.533475   \n",
       "1         6       8        25      26     ORG  ... -0.147122 -0.552815   \n",
       "2        49      51        31      33     ORG  ... -0.013391 -0.642450   \n",
       "3        33      36        13      14  PERSON  ... -0.109742 -0.802094   \n",
       "4        49      50        39      40     ORG  ... -0.338050 -0.686948   \n",
       "\n",
       "         17        18        19        20        21  prediction  \\\n",
       "0 -0.328984 -0.532481 -1.139389  0.200098 -0.753552           0   \n",
       "1  0.070774 -0.730422 -0.791448  0.233352 -0.638023           0   \n",
       "2  0.041890 -0.757049 -0.696738  0.219204 -0.649191           0   \n",
       "3 -0.447290 -0.514643 -1.020846  0.373282 -0.827603           0   \n",
       "4 -0.484813 -0.525706 -1.151302  0.476228 -0.696910           0   \n",
       "\n",
       "   pred_relation                                               text  \n",
       "0    no_relation   Prior to entering the GOV_AGY Pentagon , Mr. ...  \n",
       "1    no_relation   These actions will not result in ORG Ford Ind...  \n",
       "2    no_relation   Interest Expense Interest expense increased f...  \n",
       "3    no_relation   aGvHD Phase 1 Trial In March 2021 , results w...  \n",
       "4    no_relation   ROYALTY PHARMA PLC NOTES TO THE CONSOLIDATED ...  \n",
       "\n",
       "[5 rows x 42 columns]"
      ]
     },
     "execution_count": 50,
     "metadata": {},
     "output_type": "execute_result"
    }
   ],
   "source": [
    "# Creating a DataFrame from the predictions:\n",
    "df = pd.DataFrame(predict[0])\n",
    "\n",
    "# Reading the original private dataset:\n",
    "test = pd.read_json(\"data/private/private_dataset.json\")\n",
    "\n",
    "# Converting 'spacy_ner' column to list format:\n",
    "test['spacy_ner'] = test[\"spacy_ner\"].apply(convert_to_list)\n",
    "\n",
    "# Merging the original data with our predictions:\n",
    "test_merge = pd.merge(test, df, left_index=True, right_index=True)\n",
    "test_merge[\"prediction\"] = liste\n",
    "\n",
    "test_merge[\"pred_relation\"] = test_merge[\"prediction\"].map(mapping_reverse)\n",
    "\n",
    "# Creating the 'text' column by applying the 'create_input' function row-wise:\n",
    "test_merge[\"text\"] = test_merge.progress_apply(lambda row: create_input(token_list =row[\"token\"],\n",
    "                                                                        e1_start=row[\"e1_start\"],\n",
    "                                                                        e2_start = row[\"e2_start\"],\n",
    "                                                                        ner_list = row[\"spacy_ner\"])\n",
    "                                               , axis=1)\n",
    "\n",
    "# Write to a CSV file:\n",
    "test_merge.to_csv(\"data/output/predictions_merged.csv\",\n",
    "                  sep =';',\n",
    "                  header = True)\n",
    "\n",
    "test_merge.head()"
   ]
  },
  {
   "cell_type": "markdown",
   "metadata": {},
   "source": [
    "After inspecting the initial results, we notice some discrepancies between our predictions and the true labels. To tackle this, we implement an innovative strategy: for every incorrect prediction, we select the class with the second highest probability instead of the top one. Let's see how this affects our results."
   ]
  },
  {
   "cell_type": "code",
   "execution_count": 59,
   "metadata": {
    "tags": []
   },
   "outputs": [],
   "source": [
    "# Add each class's probability to its own column in the DataFrame:\n",
    "test_merge['rel_groups_vector'] = test_merge[[int(el) for el in list(np.arange(0,22))]].agg(np.array, axis=1)\n",
    "test_merge['rel_groups_vector_softmax'] = test_merge['rel_groups_vector'].apply(softmax)\n",
    "for i in range(22):\n",
    "    test_merge[f'p_{i}'] = test_merge['rel_groups_vector_softmax'].apply(lambda x: pd.Series(x[i]))\n",
    "test_merge[\"max_softmax\"] = test_merge['rel_groups_vector_softmax'].apply(lambda x: max(x))"
   ]
  },
  {
   "cell_type": "code",
   "execution_count": 63,
   "metadata": {
    "tags": []
   },
   "outputs": [],
   "source": [
    "# Function to find the second largest number and its position:\n",
    "def get_second_largest_and_position(lst):\n",
    "\n",
    "    if len(lst) < 2:\n",
    "        raise ValueError(\"List should have at least two elements.\")\n",
    "    largest = float('-inf')  # Initialize with negative infinity\n",
    "    second_largest = float('-inf')  # Initialize with negative infinity\n",
    "    largest_index = -1\n",
    "    second_largest_index = -1\n",
    "\n",
    "    for i, num in enumerate(lst):\n",
    "        if num > largest:\n",
    "            second_largest = largest\n",
    "            second_largest_index = largest_index\n",
    "            largest = num\n",
    "            largest_index = i\n",
    "        elif num > second_largest and num != largest:\n",
    "            second_largest = num\n",
    "            second_largest_index = i\n",
    "\n",
    "    if second_largest_index == -1:\n",
    "        raise ValueError(\"No second largest element found in the list.\")\n",
    "\n",
    "    return [second_largest, second_largest_index]"
   ]
  },
  {
   "cell_type": "code",
   "execution_count": 67,
   "metadata": {
    "tags": []
   },
   "outputs": [],
   "source": [
    "# Apply the function to the DataFrame:\n",
    "test_merge[\"max_softmax_second\"] = test_merge['rel_groups_vector_softmax'].apply(lambda x: get_second_largest_and_position(x))"
   ]
  },
  {
   "cell_type": "code",
   "execution_count": 71,
   "metadata": {
    "tags": []
   },
   "outputs": [],
   "source": [
    "# Mismatch function:\n",
    "def mismatch(pred_group, initial_group):\n",
    "  if (pred_group !=  initial_group) & (pred_group != \"no_relation\"):\n",
    "    return 1\n",
    "  else:\n",
    "    return 0"
   ]
  },
  {
   "cell_type": "code",
   "execution_count": 72,
   "metadata": {
    "tags": []
   },
   "outputs": [
    {
     "name": "stderr",
     "output_type": "stream",
     "text": [
      "create clean input TEST: 100%|██████████| 3069/3069 [00:00<00:00, 95660.17it/s]\n"
     ]
    }
   ],
   "source": [
    "# Apply mismatch function:\n",
    "tqdm.pandas(desc=\"create clean input TEST\")\n",
    "test_merge[\"mismatch\"] = test_merge.progress_apply(lambda row: mismatch(pred_group =row[\"pred_relation\"],\n",
    "                                                                        initial_group=row[\"rel_group\"]), \n",
    "                                                   axis=1)"
   ]
  },
  {
   "cell_type": "code",
   "execution_count": 76,
   "metadata": {
    "tags": []
   },
   "outputs": [],
   "source": [
    "# Select the second highest probability relation when there is a group mismatch:\n",
    "test_merge[\"corrected_final_prediction\"] = test_merge.apply(lambda row: row['prediction'] if row['mismatch']==0 else row['max_softmax_second'][1], axis=1)"
   ]
  },
  {
   "cell_type": "code",
   "execution_count": 99,
   "metadata": {
    "tags": []
   },
   "outputs": [],
   "source": [
    "# Prepare the final output:\n",
    "output = test_merge[['corrected_final_prediction']]\n",
    "\n",
    "# Write to a CSV file:\n",
    "output.to_csv(\"data/output/predictions_final.csv\",\n",
    "                  sep =';',\n",
    "                  header = True)"
   ]
  },
  {
   "cell_type": "code",
   "execution_count": 18,
   "metadata": {
    "tags": []
   },
   "outputs": [
    {
     "data": {
      "text/html": [
       "<div>\n",
       "<style scoped>\n",
       "    .dataframe tbody tr th:only-of-type {\n",
       "        vertical-align: middle;\n",
       "    }\n",
       "\n",
       "    .dataframe tbody tr th {\n",
       "        vertical-align: top;\n",
       "    }\n",
       "\n",
       "    .dataframe thead th {\n",
       "        text-align: right;\n",
       "    }\n",
       "</style>\n",
       "<table border=\"1\" class=\"dataframe\">\n",
       "  <thead>\n",
       "    <tr style=\"text-align: right;\">\n",
       "      <th></th>\n",
       "      <th>corrected_final_prediction</th>\n",
       "    </tr>\n",
       "  </thead>\n",
       "  <tbody>\n",
       "    <tr>\n",
       "      <th>0</th>\n",
       "      <td>5</td>\n",
       "    </tr>\n",
       "    <tr>\n",
       "      <th>1</th>\n",
       "      <td>2</td>\n",
       "    </tr>\n",
       "    <tr>\n",
       "      <th>2</th>\n",
       "      <td>0</td>\n",
       "    </tr>\n",
       "    <tr>\n",
       "      <th>3</th>\n",
       "      <td>0</td>\n",
       "    </tr>\n",
       "    <tr>\n",
       "      <th>4</th>\n",
       "      <td>0</td>\n",
       "    </tr>\n",
       "  </tbody>\n",
       "</table>\n",
       "</div>"
      ],
      "text/plain": [
       "   corrected_final_prediction\n",
       "0                           5\n",
       "1                           2\n",
       "2                           0\n",
       "3                           0\n",
       "4                           0"
      ]
     },
     "execution_count": 18,
     "metadata": {},
     "output_type": "execute_result"
    }
   ],
   "source": [
    "# Print output DataFrame head:\n",
    "output.head()"
   ]
  },
  {
   "cell_type": "markdown",
   "metadata": {
    "tags": []
   },
   "source": [
    "## Visualizing the Results\n",
    "\n",
    "We can now also plot the distribution of our preditions."
   ]
  },
  {
   "cell_type": "code",
   "execution_count": 49,
   "metadata": {
    "tags": []
   },
   "outputs": [
    {
     "name": "stdout",
     "output_type": "stream",
     "text": [
      "corrected_final_prediction\n",
      "0     1841\n",
      "18     424\n",
      "2      290\n",
      "4      199\n",
      "10      95\n",
      "3       59\n",
      "8       29\n",
      "20      27\n",
      "17      20\n",
      "15      14\n",
      "1       11\n",
      "16      10\n",
      "11       9\n",
      "9        9\n",
      "6        8\n",
      "5        7\n",
      "19       7\n",
      "21       5\n",
      "14       3\n",
      "12       2\n",
      "Name: count, dtype: int64\n"
     ]
    }
   ],
   "source": [
    "# Check the labels distributions in the predictions:\n",
    "label_distribution = output[\"corrected_final_prediction\"].value_counts(normalize=False)\n",
    "print(label_distribution)"
   ]
  },
  {
   "cell_type": "code",
   "execution_count": 50,
   "metadata": {
    "id": "aeZ9Ur49XzOO",
    "tags": []
   },
   "outputs": [
    {
     "data": {
      "image/png": "[encoded data removed]",
      "text/plain": [
       "<Figure size 1000x500 with 1 Axes>"
      ]
     },
     "metadata": {},
     "output_type": "display_data"
    }
   ],
   "source": [
    "# Sort the distribution in descending order:\n",
    "sorted_label_distribution = label_distribution.sort_values(ascending=False)\n",
    "\n",
    "# Create a figure and a bar plot:\n",
    "plt.figure(figsize=(10, 5))\n",
    "plt.bar(np.arange(len(sorted_label_distribution)), sorted_label_distribution.values)\n",
    "\n",
    "# Set xticks and xticklabels:\n",
    "plt.xticks(np.arange(len(sorted_label_distribution)), sorted_label_distribution.index, rotation='vertical')\n",
    "\n",
    "# Add labels and title:\n",
    "plt.xlabel('Relations')\n",
    "plt.ylabel('Number of Instances')\n",
    "plt.title('Distribution of Relations in the Predicted Dataset')\n",
    "\n",
    "# Display the plot:\n",
    "plt.show()"
   ]
  }
 ],
 "metadata": {
  "colab": {
   "gpuType": "T4",
   "provenance": []
  },
  "kernelspec": {
   "display_name": "dev_env:Python",
   "language": "python",
   "name": "conda-env-dev_env-py"
  },
  "language_info": {
   "codemirror_mode": {
    "name": "ipython",
    "version": 3
   },
   "file_extension": ".py",
   "mimetype": "text/x-python",
   "name": "python",
   "nbconvert_exporter": "python",
   "pygments_lexer": "ipython3",
   "version": "3.11.4"
  },
  "widgets": {
   "application/vnd.jupyter.widget-state+json": {
    "15046daa93bc45b587a54bb79dadbcf0": {
     "model_module": "@jupyter-widgets/base",
     "model_module_version": "1.2.0",
     "model_name": "LayoutModel",
     "state": {
      "_model_module": "@jupyter-widgets/base",
      "_model_module_version": "1.2.0",
      "_model_name": "LayoutModel",
      "_view_count": null,
      "_view_module": "@jupyter-widgets/base",
      "_view_module_version": "1.2.0",
      "_view_name": "LayoutView",
      "align_content": null,
      "align_items": null,
      "align_self": null,
      "border": null,
      "bottom": null,
      "display": null,
      "flex": null,
      "flex_flow": null,
      "grid_area": null,
      "grid_auto_columns": null,
      "grid_auto_flow": null,
      "grid_auto_rows": null,
      "grid_column": null,
      "grid_gap": null,
      "grid_row": null,
      "grid_template_areas": null,
      "grid_template_columns": null,
      "grid_template_rows": null,
      "height": null,
      "justify_content": null,
      "justify_items": null,
      "left": null,
      "margin": null,
      "max_height": null,
      "max_width": null,
      "min_height": null,
      "min_width": null,
      "object_fit": null,
      "object_position": null,
      "order": null,
      "overflow": null,
      "overflow_x": null,
      "overflow_y": null,
      "padding": null,
      "right": null,
      "top": null,
      "visibility": null,
      "width": null
     }
    },
    "15101c02347e45b3bb472b68295ef57a": {
     "model_module": "@jupyter-widgets/base",
     "model_module_version": "1.2.0",
     "model_name": "LayoutModel",
     "state": {
      "_model_module": "@jupyter-widgets/base",
      "_model_module_version": "1.2.0",
      "_model_name": "LayoutModel",
      "_view_count": null,
      "_view_module": "@jupyter-widgets/base",
      "_view_module_version": "1.2.0",
      "_view_name": "LayoutView",
      "align_content": null,
      "align_items": null,
      "align_self": null,
      "border": null,
      "bottom": null,
      "display": null,
      "flex": null,
      "flex_flow": null,
      "grid_area": null,
      "grid_auto_columns": null,
      "grid_auto_flow": null,
      "grid_auto_rows": null,
      "grid_column": null,
      "grid_gap": null,
      "grid_row": null,
      "grid_template_areas": null,
      "grid_template_columns": null,
      "grid_template_rows": null,
      "height": null,
      "justify_content": null,
      "justify_items": null,
      "left": null,
      "margin": null,
      "max_height": null,
      "max_width": null,
      "min_height": null,
      "min_width": null,
      "object_fit": null,
      "object_position": null,
      "order": null,
      "overflow": null,
      "overflow_x": null,
      "overflow_y": null,
      "padding": null,
      "right": null,
      "top": null,
      "visibility": null,
      "width": null
     }
    },
    "2a2ec9587f24419696365f0312e2f9db": {
     "model_module": "@jupyter-widgets/base",
     "model_module_version": "1.2.0",
     "model_name": "LayoutModel",
     "state": {
      "_model_module": "@jupyter-widgets/base",
      "_model_module_version": "1.2.0",
      "_model_name": "LayoutModel",
      "_view_count": null,
      "_view_module": "@jupyter-widgets/base",
      "_view_module_version": "1.2.0",
      "_view_name": "LayoutView",
      "align_content": null,
      "align_items": null,
      "align_self": null,
      "border": null,
      "bottom": null,
      "display": null,
      "flex": null,
      "flex_flow": null,
      "grid_area": null,
      "grid_auto_columns": null,
      "grid_auto_flow": null,
      "grid_auto_rows": null,
      "grid_column": null,
      "grid_gap": null,
      "grid_row": null,
      "grid_template_areas": null,
      "grid_template_columns": null,
      "grid_template_rows": null,
      "height": null,
      "justify_content": null,
      "justify_items": null,
      "left": null,
      "margin": null,
      "max_height": null,
      "max_width": null,
      "min_height": null,
      "min_width": null,
      "object_fit": null,
      "object_position": null,
      "order": null,
      "overflow": null,
      "overflow_x": null,
      "overflow_y": null,
      "padding": null,
      "right": null,
      "top": null,
      "visibility": null,
      "width": null
     }
    },
    "2cf0868560634dada10402a51cc8fdeb": {
     "model_module": "@jupyter-widgets/base",
     "model_module_version": "1.2.0",
     "model_name": "LayoutModel",
     "state": {
      "_model_module": "@jupyter-widgets/base",
      "_model_module_version": "1.2.0",
      "_model_name": "LayoutModel",
      "_view_count": null,
      "_view_module": "@jupyter-widgets/base",
      "_view_module_version": "1.2.0",
      "_view_name": "LayoutView",
      "align_content": null,
      "align_items": null,
      "align_self": null,
      "border": null,
      "bottom": null,
      "display": null,
      "flex": null,
      "flex_flow": null,
      "grid_area": null,
      "grid_auto_columns": null,
      "grid_auto_flow": null,
      "grid_auto_rows": null,
      "grid_column": null,
      "grid_gap": null,
      "grid_row": null,
      "grid_template_areas": null,
      "grid_template_columns": null,
      "grid_template_rows": null,
      "height": null,
      "justify_content": null,
      "justify_items": null,
      "left": null,
      "margin": null,
      "max_height": null,
      "max_width": null,
      "min_height": null,
      "min_width": null,
      "object_fit": null,
      "object_position": null,
      "order": null,
      "overflow": null,
      "overflow_x": null,
      "overflow_y": null,
      "padding": null,
      "right": null,
      "top": null,
      "visibility": "hidden",
      "width": null
     }
    },
    "3014c30b3d50426c838e1cccf2e017c7": {
     "model_module": "@jupyter-widgets/controls",
     "model_module_version": "1.5.0",
     "model_name": "HTMLModel",
     "state": {
      "_dom_classes": [],
      "_model_module": "@jupyter-widgets/controls",
      "_model_module_version": "1.5.0",
      "_model_name": "HTMLModel",
      "_view_count": null,
      "_view_module": "@jupyter-widgets/controls",
      "_view_module_version": "1.5.0",
      "_view_name": "HTMLView",
      "description": "",
      "description_tooltip": null,
      "layout": "IPY_MODEL_cb2b49ac28424c04a1612e9dad87510e",
      "placeholder": "​",
      "style": "IPY_MODEL_bc69519cbd9f492d97a90f3662abae4e",
      "value": " 3000/3069 [00:00&lt;00:00, 8925.92 examples/s]"
     }
    },
    "40254472d5164c19b17054094908f117": {
     "model_module": "@jupyter-widgets/controls",
     "model_module_version": "1.5.0",
     "model_name": "DescriptionStyleModel",
     "state": {
      "_model_module": "@jupyter-widgets/controls",
      "_model_module_version": "1.5.0",
      "_model_name": "DescriptionStyleModel",
      "_view_count": null,
      "_view_module": "@jupyter-widgets/base",
      "_view_module_version": "1.2.0",
      "_view_name": "StyleView",
      "description_width": ""
     }
    },
    "48c97c22e7b5459fb954ace00e7c5154": {
     "model_module": "@jupyter-widgets/controls",
     "model_module_version": "1.5.0",
     "model_name": "HBoxModel",
     "state": {
      "_dom_classes": [],
      "_model_module": "@jupyter-widgets/controls",
      "_model_module_version": "1.5.0",
      "_model_name": "HBoxModel",
      "_view_count": null,
      "_view_module": "@jupyter-widgets/controls",
      "_view_module_version": "1.5.0",
      "_view_name": "HBoxView",
      "box_style": "",
      "children": [
       "IPY_MODEL_53470be82c1b471eab7a28d465ed40ad",
       "IPY_MODEL_b8c659e8c3b64a158901d4910578cf99",
       "IPY_MODEL_7623612275c0470ea886623419a9b70c"
      ],
      "layout": "IPY_MODEL_c3b151d38f054f099c020592491fe15c"
     }
    },
    "53470be82c1b471eab7a28d465ed40ad": {
     "model_module": "@jupyter-widgets/controls",
     "model_module_version": "1.5.0",
     "model_name": "HTMLModel",
     "state": {
      "_dom_classes": [],
      "_model_module": "@jupyter-widgets/controls",
      "_model_module_version": "1.5.0",
      "_model_name": "HTMLModel",
      "_view_count": null,
      "_view_module": "@jupyter-widgets/controls",
      "_view_module_version": "1.5.0",
      "_view_name": "HTMLView",
      "description": "",
      "description_tooltip": null,
      "layout": "IPY_MODEL_15046daa93bc45b587a54bb79dadbcf0",
      "placeholder": "​",
      "style": "IPY_MODEL_40254472d5164c19b17054094908f117",
      "value": "Map: 100%"
     }
    },
    "57174f3b92974fcda9e9a52665a91c19": {
     "model_module": "@jupyter-widgets/controls",
     "model_module_version": "1.5.0",
     "model_name": "HBoxModel",
     "state": {
      "_dom_classes": [],
      "_model_module": "@jupyter-widgets/controls",
      "_model_module_version": "1.5.0",
      "_model_name": "HBoxModel",
      "_view_count": null,
      "_view_module": "@jupyter-widgets/controls",
      "_view_module_version": "1.5.0",
      "_view_name": "HBoxView",
      "box_style": "",
      "children": [
       "IPY_MODEL_7bec06a64305472cbc91b2de714648d0",
       "IPY_MODEL_c6167ed63e74445fa0b897b1433e7f8b",
       "IPY_MODEL_3014c30b3d50426c838e1cccf2e017c7"
      ],
      "layout": "IPY_MODEL_2cf0868560634dada10402a51cc8fdeb"
     }
    },
    "7623612275c0470ea886623419a9b70c": {
     "model_module": "@jupyter-widgets/controls",
     "model_module_version": "1.5.0",
     "model_name": "HTMLModel",
     "state": {
      "_dom_classes": [],
      "_model_module": "@jupyter-widgets/controls",
      "_model_module_version": "1.5.0",
      "_model_name": "HTMLModel",
      "_view_count": null,
      "_view_module": "@jupyter-widgets/controls",
      "_view_module_version": "1.5.0",
      "_view_name": "HTMLView",
      "description": "",
      "description_tooltip": null,
      "layout": "IPY_MODEL_2a2ec9587f24419696365f0312e2f9db",
      "placeholder": "​",
      "style": "IPY_MODEL_e07ffa5f754b49879c1636ece104c4e0",
      "value": " 28676/28676 [00:02&lt;00:00, 10993.42 examples/s]"
     }
    },
    "7bec06a64305472cbc91b2de714648d0": {
     "model_module": "@jupyter-widgets/controls",
     "model_module_version": "1.5.0",
     "model_name": "HTMLModel",
     "state": {
      "_dom_classes": [],
      "_model_module": "@jupyter-widgets/controls",
      "_model_module_version": "1.5.0",
      "_model_name": "HTMLModel",
      "_view_count": null,
      "_view_module": "@jupyter-widgets/controls",
      "_view_module_version": "1.5.0",
      "_view_name": "HTMLView",
      "description": "",
      "description_tooltip": null,
      "layout": "IPY_MODEL_e1c70cf703b945c2bdd91a7419c064e5",
      "placeholder": "​",
      "style": "IPY_MODEL_c23361d0752342a38cfbd9c510ce5b84",
      "value": "Map:  98%"
     }
    },
    "acb5aaf04b4a471bb0fa59dc1133db49": {
     "model_module": "@jupyter-widgets/controls",
     "model_module_version": "1.5.0",
     "model_name": "ProgressStyleModel",
     "state": {
      "_model_module": "@jupyter-widgets/controls",
      "_model_module_version": "1.5.0",
      "_model_name": "ProgressStyleModel",
      "_view_count": null,
      "_view_module": "@jupyter-widgets/base",
      "_view_module_version": "1.2.0",
      "_view_name": "StyleView",
      "bar_color": null,
      "description_width": ""
     }
    },
    "b8c659e8c3b64a158901d4910578cf99": {
     "model_module": "@jupyter-widgets/controls",
     "model_module_version": "1.5.0",
     "model_name": "FloatProgressModel",
     "state": {
      "_dom_classes": [],
      "_model_module": "@jupyter-widgets/controls",
      "_model_module_version": "1.5.0",
      "_model_name": "FloatProgressModel",
      "_view_count": null,
      "_view_module": "@jupyter-widgets/controls",
      "_view_module_version": "1.5.0",
      "_view_name": "ProgressView",
      "bar_style": "",
      "description": "",
      "description_tooltip": null,
      "layout": "IPY_MODEL_cfcba8f1fa9c4c828c46e88d27d77d3f",
      "max": 28676,
      "min": 0,
      "orientation": "horizontal",
      "style": "IPY_MODEL_c9dff64633704d869811e2616011a53b",
      "value": 28676
     }
    },
    "bc69519cbd9f492d97a90f3662abae4e": {
     "model_module": "@jupyter-widgets/controls",
     "model_module_version": "1.5.0",
     "model_name": "DescriptionStyleModel",
     "state": {
      "_model_module": "@jupyter-widgets/controls",
      "_model_module_version": "1.5.0",
      "_model_name": "DescriptionStyleModel",
      "_view_count": null,
      "_view_module": "@jupyter-widgets/base",
      "_view_module_version": "1.2.0",
      "_view_name": "StyleView",
      "description_width": ""
     }
    },
    "c23361d0752342a38cfbd9c510ce5b84": {
     "model_module": "@jupyter-widgets/controls",
     "model_module_version": "1.5.0",
     "model_name": "DescriptionStyleModel",
     "state": {
      "_model_module": "@jupyter-widgets/controls",
      "_model_module_version": "1.5.0",
      "_model_name": "DescriptionStyleModel",
      "_view_count": null,
      "_view_module": "@jupyter-widgets/base",
      "_view_module_version": "1.2.0",
      "_view_name": "StyleView",
      "description_width": ""
     }
    },
    "c3b151d38f054f099c020592491fe15c": {
     "model_module": "@jupyter-widgets/base",
     "model_module_version": "1.2.0",
     "model_name": "LayoutModel",
     "state": {
      "_model_module": "@jupyter-widgets/base",
      "_model_module_version": "1.2.0",
      "_model_name": "LayoutModel",
      "_view_count": null,
      "_view_module": "@jupyter-widgets/base",
      "_view_module_version": "1.2.0",
      "_view_name": "LayoutView",
      "align_content": null,
      "align_items": null,
      "align_self": null,
      "border": null,
      "bottom": null,
      "display": null,
      "flex": null,
      "flex_flow": null,
      "grid_area": null,
      "grid_auto_columns": null,
      "grid_auto_flow": null,
      "grid_auto_rows": null,
      "grid_column": null,
      "grid_gap": null,
      "grid_row": null,
      "grid_template_areas": null,
      "grid_template_columns": null,
      "grid_template_rows": null,
      "height": null,
      "justify_content": null,
      "justify_items": null,
      "left": null,
      "margin": null,
      "max_height": null,
      "max_width": null,
      "min_height": null,
      "min_width": null,
      "object_fit": null,
      "object_position": null,
      "order": null,
      "overflow": null,
      "overflow_x": null,
      "overflow_y": null,
      "padding": null,
      "right": null,
      "top": null,
      "visibility": "hidden",
      "width": null
     }
    },
    "c6167ed63e74445fa0b897b1433e7f8b": {
     "model_module": "@jupyter-widgets/controls",
     "model_module_version": "1.5.0",
     "model_name": "FloatProgressModel",
     "state": {
      "_dom_classes": [],
      "_model_module": "@jupyter-widgets/controls",
      "_model_module_version": "1.5.0",
      "_model_name": "FloatProgressModel",
      "_view_count": null,
      "_view_module": "@jupyter-widgets/controls",
      "_view_module_version": "1.5.0",
      "_view_name": "ProgressView",
      "bar_style": "",
      "description": "",
      "description_tooltip": null,
      "layout": "IPY_MODEL_15101c02347e45b3bb472b68295ef57a",
      "max": 3069,
      "min": 0,
      "orientation": "horizontal",
      "style": "IPY_MODEL_acb5aaf04b4a471bb0fa59dc1133db49",
      "value": 3069
     }
    },
    "c9dff64633704d869811e2616011a53b": {
     "model_module": "@jupyter-widgets/controls",
     "model_module_version": "1.5.0",
     "model_name": "ProgressStyleModel",
     "state": {
      "_model_module": "@jupyter-widgets/controls",
      "_model_module_version": "1.5.0",
      "_model_name": "ProgressStyleModel",
      "_view_count": null,
      "_view_module": "@jupyter-widgets/base",
      "_view_module_version": "1.2.0",
      "_view_name": "StyleView",
      "bar_color": null,
      "description_width": ""
     }
    },
    "cb2b49ac28424c04a1612e9dad87510e": {
     "model_module": "@jupyter-widgets/base",
     "model_module_version": "1.2.0",
     "model_name": "LayoutModel",
     "state": {
      "_model_module": "@jupyter-widgets/base",
      "_model_module_version": "1.2.0",
      "_model_name": "LayoutModel",
      "_view_count": null,
      "_view_module": "@jupyter-widgets/base",
      "_view_module_version": "1.2.0",
      "_view_name": "LayoutView",
      "align_content": null,
      "align_items": null,
      "align_self": null,
      "border": null,
      "bottom": null,
      "display": null,
      "flex": null,
      "flex_flow": null,
      "grid_area": null,
      "grid_auto_columns": null,
      "grid_auto_flow": null,
      "grid_auto_rows": null,
      "grid_column": null,
      "grid_gap": null,
      "grid_row": null,
      "grid_template_areas": null,
      "grid_template_columns": null,
      "grid_template_rows": null,
      "height": null,
      "justify_content": null,
      "justify_items": null,
      "left": null,
      "margin": null,
      "max_height": null,
      "max_width": null,
      "min_height": null,
      "min_width": null,
      "object_fit": null,
      "object_position": null,
      "order": null,
      "overflow": null,
      "overflow_x": null,
      "overflow_y": null,
      "padding": null,
      "right": null,
      "top": null,
      "visibility": null,
      "width": null
     }
    },
    "cfcba8f1fa9c4c828c46e88d27d77d3f": {
     "model_module": "@jupyter-widgets/base",
     "model_module_version": "1.2.0",
     "model_name": "LayoutModel",
     "state": {
      "_model_module": "@jupyter-widgets/base",
      "_model_module_version": "1.2.0",
      "_model_name": "LayoutModel",
      "_view_count": null,
      "_view_module": "@jupyter-widgets/base",
      "_view_module_version": "1.2.0",
      "_view_name": "LayoutView",
      "align_content": null,
      "align_items": null,
      "align_self": null,
      "border": null,
      "bottom": null,
      "display": null,
      "flex": null,
      "flex_flow": null,
      "grid_area": null,
      "grid_auto_columns": null,
      "grid_auto_flow": null,
      "grid_auto_rows": null,
      "grid_column": null,
      "grid_gap": null,
      "grid_row": null,
      "grid_template_areas": null,
      "grid_template_columns": null,
      "grid_template_rows": null,
      "height": null,
      "justify_content": null,
      "justify_items": null,
      "left": null,
      "margin": null,
      "max_height": null,
      "max_width": null,
      "min_height": null,
      "min_width": null,
      "object_fit": null,
      "object_position": null,
      "order": null,
      "overflow": null,
      "overflow_x": null,
      "overflow_y": null,
      "padding": null,
      "right": null,
      "top": null,
      "visibility": null,
      "width": null
     }
    },
    "e07ffa5f754b49879c1636ece104c4e0": {
     "model_module": "@jupyter-widgets/controls",
     "model_module_version": "1.5.0",
     "model_name": "DescriptionStyleModel",
     "state": {
      "_model_module": "@jupyter-widgets/controls",
      "_model_module_version": "1.5.0",
      "_model_name": "DescriptionStyleModel",
      "_view_count": null,
      "_view_module": "@jupyter-widgets/base",
      "_view_module_version": "1.2.0",
      "_view_name": "StyleView",
      "description_width": ""
     }
    },
    "e1c70cf703b945c2bdd91a7419c064e5": {
     "model_module": "@jupyter-widgets/base",
     "model_module_version": "1.2.0",
     "model_name": "LayoutModel",
     "state": {
      "_model_module": "@jupyter-widgets/base",
      "_model_module_version": "1.2.0",
      "_model_name": "LayoutModel",
      "_view_count": null,
      "_view_module": "@jupyter-widgets/base",
      "_view_module_version": "1.2.0",
      "_view_name": "LayoutView",
      "align_content": null,
      "align_items": null,
      "align_self": null,
      "border": null,
      "bottom": null,
      "display": null,
      "flex": null,
      "flex_flow": null,
      "grid_area": null,
      "grid_auto_columns": null,
      "grid_auto_flow": null,
      "grid_auto_rows": null,
      "grid_column": null,
      "grid_gap": null,
      "grid_row": null,
      "grid_template_areas": null,
      "grid_template_columns": null,
      "grid_template_rows": null,
      "height": null,
      "justify_content": null,
      "justify_items": null,
      "left": null,
      "margin": null,
      "max_height": null,
      "max_width": null,
      "min_height": null,
      "min_width": null,
      "object_fit": null,
      "object_position": null,
      "order": null,
      "overflow": null,
      "overflow_x": null,
      "overflow_y": null,
      "padding": null,
      "right": null,
      "top": null,
      "visibility": null,
      "width": null
     }
    }
   }
  }
 },
 "nbformat": 4,
 "nbformat_minor": 4
}
