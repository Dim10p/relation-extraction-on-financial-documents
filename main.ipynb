{
 "cells": [
  {
   "cell_type": "markdown",
   "metadata": {},
   "source": [
    "<b>Authors:</b><br>\n",
    "Stefan Pasch<br>\n",
    "Dimitrios Petridis"
   ]
  },
  {
   "cell_type": "markdown",
   "metadata": {},
   "source": [
    "This Jupyter Notebook builds the core code for the model training on the public dataset, the parameters tuning, and the predictions on the private dataset."
   ]
  },
  {
   "cell_type": "markdown",
   "metadata": {},
   "source": [
    "First, install the required libraries and packages:"
   ]
  },
  {
   "cell_type": "code",
   "execution_count": null,
   "metadata": {},
   "outputs": [],
   "source": [
    "!pip install -r requirements.txt"
   ]
  },
  {
   "cell_type": "markdown",
   "metadata": {},
   "source": [
    "To start running the notebook, import all the necessary libraries, internal functions and constants:"
   ]
  },
  {
   "cell_type": "code",
   "execution_count": 4,
   "metadata": {
    "executionInfo": {
     "elapsed": 286,
     "status": "ok",
     "timestamp": 1687534140538,
     "user": {
      "displayName": "DIMITRIOS PETRIDIS",
      "userId": "14803618589141828199"
     },
     "user_tz": -120
    },
    "id": "e-C5E3fH_EKD",
    "tags": []
   },
   "outputs": [],
   "source": [
    "import os\n",
    "import pandas as pd\n",
    "import numpy as np\n",
    "from tqdm import tqdm\n",
    "from datasets import Dataset"
   ]
  },
  {
   "cell_type": "code",
   "execution_count": 5,
   "metadata": {
    "tags": []
   },
   "outputs": [],
   "source": [
    "from utils.utility_functions import convert_to_list, create_input\n",
    "from utils.constants import mapping"
   ]
  },
  {
   "cell_type": "code",
   "execution_count": 12,
   "metadata": {
    "tags": []
   },
   "outputs": [],
   "source": [
    "# Set CUDA_LAUNCH_BLOCKING equal to 1 to enables proper CUDA tracebacks in Google Colab:\n",
    "os.environ['CUDA_LAUNCH_BLOCKING'] = \"1\""
   ]
  },
  {
   "cell_type": "markdown",
   "metadata": {},
   "source": [
    "Now, import the necessary datasets and continue with the datasets' validations and preparation:"
   ]
  },
  {
   "cell_type": "code",
   "execution_count": 7,
   "metadata": {
    "executionInfo": {
     "elapsed": 4327,
     "status": "ok",
     "timestamp": 1687534884896,
     "user": {
      "displayName": "DIMITRIOS PETRIDIS",
      "userId": "14803618589141828199"
     },
     "user_tz": -120
    },
    "id": "BUhSUWdLZGJG",
    "tags": []
   },
   "outputs": [],
   "source": [
    "# Import the three labeled datasets:\n",
    "train = pd.read_json(\"data/public/train_refind_official.json\")\n",
    "dev = pd.read_json(\"data/public/dev_refind_official.json\")\n",
    "test = pd.read_json(\"data/public/test_refind_official.json\")"
   ]
  },
  {
   "cell_type": "code",
   "execution_count": 8,
   "metadata": {
    "tags": []
   },
   "outputs": [],
   "source": [
    "# Import the unlabeled dataset:\n",
    "private = pd.read_json(\"data/private/private_dataset.json\")"
   ]
  },
  {
   "cell_type": "code",
   "execution_count": 9,
   "metadata": {
    "executionInfo": {
     "elapsed": 1066,
     "status": "ok",
     "timestamp": 1687534885956,
     "user": {
      "displayName": "DIMITRIOS PETRIDIS",
      "userId": "14803618589141828199"
     },
     "user_tz": -120
    },
    "id": "7axos04kN2jr",
    "tags": []
   },
   "outputs": [],
   "source": [
    "# Apply conversion to list to the relevant column of each dataset:\n",
    "train['spacy_ner'] = train[\"spacy_ner\"].apply(convert_to_list)\n",
    "dev['spacy_ner'] = dev[\"spacy_ner\"].apply(convert_to_list)\n",
    "test['spacy_ner'] = test[\"spacy_ner\"].apply(convert_to_list)\n",
    "private['spacy_ner'] = private[\"spacy_ner\"].apply(convert_to_list)"
   ]
  },
  {
   "cell_type": "code",
   "execution_count": 10,
   "metadata": {
    "colab": {
     "base_uri": "https://localhost:8080/"
    },
    "executionInfo": {
     "elapsed": 14,
     "status": "ok",
     "timestamp": 1687534885959,
     "user": {
      "displayName": "DIMITRIOS PETRIDIS",
      "userId": "14803618589141828199"
     },
     "user_tz": -120
    },
    "id": "awIm0uDnOEtX",
    "outputId": "9c81d2bc-2114-41c6-b87c-f361f60a2588",
    "tags": []
   },
   "outputs": [
    {
     "name": "stdout",
     "output_type": "stream",
     "text": [
      "0    [O, O, O, ORG, ORG, ORG, O, O, O, ORG, ORG, OR...\n",
      "Name: spacy_ner, dtype: object\n",
      "0    [O, O, O, O, O, O, O, O, O, O, O, O, O, O, O, ...\n",
      "Name: spacy_ner, dtype: object\n",
      "0    [O, O, O, O, O, O, O, O, O, O, O, O, O, O, O, ...\n",
      "Name: spacy_ner, dtype: object\n",
      "0    [O, O, O, O, GOV_AGY, O, O, O, O, O, O, O, O, ...\n",
      "Name: spacy_ner, dtype: object\n"
     ]
    },
    {
     "data": {
      "text/plain": [
       "[None, None, None, None]"
      ]
     },
     "execution_count": 10,
     "metadata": {},
     "output_type": "execute_result"
    }
   ],
   "source": [
    "# Confirm the conversion above:\n",
    "[print(c['spacy_ner'].head(1)) for c in [train, dev, test, private]]"
   ]
  },
  {
   "cell_type": "code",
   "execution_count": 11,
   "metadata": {
    "colab": {
     "base_uri": "https://localhost:8080/"
    },
    "executionInfo": {
     "elapsed": 1940,
     "status": "ok",
     "timestamp": 1687534892334,
     "user": {
      "displayName": "DIMITRIOS PETRIDIS",
      "userId": "14803618589141828199"
     },
     "user_tz": -120
    },
    "id": "0S_p_XNXgUy6",
    "outputId": "e0b7bc3f-3e10-4f7f-d7b5-6566df09e4e6",
    "tags": []
   },
   "outputs": [
    {
     "name": "stderr",
     "output_type": "stream",
     "text": [
      "Create clean input TRAIN: 100%|██████████| 20070/20070 [00:00<00:00, 37069.24it/s]\n",
      "Create clean input DEV dataset: 100%|██████████| 4306/4306 [00:00<00:00, 35146.32it/s]\n",
      "Create clean input TEST dataset: 100%|██████████| 4300/4300 [00:00<00:00, 35119.69it/s]\n",
      "Create clean input PRIVATE dataset: 100%|██████████| 3069/3069 [00:00<00:00, 23253.16it/s]\n"
     ]
    }
   ],
   "source": [
    "# Prepare the input datasets by concatenating the text and adding the respective NER group before each entity:\n",
    "\n",
    "tqdm.pandas(desc=\"Create clean input TRAIN\")\n",
    "train[\"text\"] = train.progress_apply(\n",
    "    lambda row: create_input(token_list = row[\"token\"], e1_start=row[\"e1_start\"], e2_start = row[\"e2_start\"], ner_list = row[\"spacy_ner\"] ), axis=1)\n",
    "train[\"label\"] = train[\"relation\"].map(mapping)\n",
    "train = train[train['label'].notna()]\n",
    "train.label = train.label.astype(int)\n",
    "\n",
    "tqdm.pandas(desc=\"Create clean input DEV dataset\")\n",
    "dev[\"text\"] = dev.progress_apply(\n",
    "    lambda row: create_input(token_list =row[\"token\"], e1_start=row[\"e1_start\"], e2_start = row[\"e2_start\"], ner_list = row[\"spacy_ner\"] ), axis=1)\n",
    "dev[\"label\"] = dev[\"relation\"].map(mapping)\n",
    "dev = dev[dev['label'].notna()]\n",
    "dev.label = dev.label.astype(int)\n",
    "\n",
    "tqdm.pandas(desc=\"Create clean input TEST dataset\")\n",
    "test[\"text\"] = test.progress_apply(\n",
    "    lambda row: create_input(token_list =row[\"token\"], e1_start=row[\"e1_start\"], e2_start = row[\"e2_start\"], ner_list = row[\"spacy_ner\"] ), axis=1)\n",
    "test[\"label\"] = test[\"relation\"].map(mapping)\n",
    "test = test[test['label'].notna()]\n",
    "test.label = test.label.astype(int)\n",
    "\n",
    "tqdm.pandas(desc=\"Create clean input PRIVATE dataset\")\n",
    "private[\"text\"] = private.progress_apply(\n",
    "    lambda row: create_input(token_list =row[\"token\"], e1_start=row[\"e1_start\"], e2_start = row[\"e2_start\"], ner_list = row[\"spacy_ner\"] ), axis=1)\n",
    "private[\"label\"] = 0\n",
    "private = private[private['label'].notna()]\n",
    "private.label = private.label.astype(int)"
   ]
  },
  {
   "cell_type": "code",
   "execution_count": 13,
   "metadata": {
    "colab": {
     "base_uri": "https://localhost:8080/",
     "height": 53
    },
    "executionInfo": {
     "elapsed": 270,
     "status": "ok",
     "timestamp": 1687534894209,
     "user": {
      "displayName": "DIMITRIOS PETRIDIS",
      "userId": "14803618589141828199"
     },
     "user_tz": -120
    },
    "id": "eXViyq4tON4Y",
    "outputId": "2280d111-f36d-4934-9be2-51df27028d1a",
    "tags": []
   },
   "outputs": [
    {
     "name": "stdout",
     "output_type": "stream",
     "text": [
      " warrants to purchase ORG Lumos Networks Corp. common stock , ORG the Pamplona Entities ) .\n",
      "\n",
      " mortgage insurers with which they do business due to weakness in Essent Group Ltd. relative financial strength or other reasons , which could negatively affect Essent Group Ltd. level of ORG NIW and ORG Essent Group Ltd. market share .\n",
      "\n",
      " other changes in the financial condition or future prospects of issuers of securities that Best Hometown Bancorp , Inc. own , including ORG Best Hometown Bancorp , Inc. stock in the Federal Home Loan Bank ( FHLB ) of Chicago or ORG FHLB and .\n",
      "\n",
      " Prior to entering the GOV_AGY Pentagon , Mr. Tyrer served 21 years on Capitol Hill in a variety of congressional staff roles , including Chief of Staff to then - Senator PERSON William Cohen of Maine from 1989 - 1996 and campaign manager for U.S. Senator Susan Collins in her successful 1996 U.S. Senate campaign .\n",
      "\n"
     ]
    },
    {
     "data": {
      "text/plain": [
       "[None, None, None, None]"
      ]
     },
     "execution_count": 13,
     "metadata": {},
     "output_type": "execute_result"
    }
   ],
   "source": [
    "# Confirm the input preparation above:\n",
    "[print(c.text[0]+\"\\n\") for c in [train, dev, test, private]]"
   ]
  },
  {
   "cell_type": "code",
   "execution_count": 14,
   "metadata": {
    "id": "6ev7w0LnPARg",
    "tags": []
   },
   "outputs": [],
   "source": [
    "# Keep only the necessary columns in each dataset:\n",
    "train_df = train[[\"text\", \"label\"]].reset_index(drop = True)\n",
    "dev_df = dev[[\"text\", \"label\"]].reset_index(drop = True)\n",
    "test_df = test[[\"text\", \"label\"]].reset_index(drop = True)\n",
    "private_df = private[[\"text\", \"label\"]].reset_index(drop = True)"
   ]
  },
  {
   "cell_type": "code",
   "execution_count": 18,
   "metadata": {
    "colab": {
     "base_uri": "https://localhost:8080/"
    },
    "executionInfo": {
     "elapsed": 7,
     "status": "ok",
     "timestamp": 1687533405520,
     "user": {
      "displayName": "DIMITRIOS PETRIDIS",
      "userId": "14803618589141828199"
     },
     "user_tz": -120
    },
    "id": "HmDGLYsfPBJE",
    "outputId": "fa6baacb-2c91-4514-de6e-0b9fd9da4829",
    "tags": []
   },
   "outputs": [
    {
     "name": "stdout",
     "output_type": "stream",
     "text": [
      "20070\n",
      "4306\n",
      "4300\n",
      "3069\n"
     ]
    }
   ],
   "source": [
    "# Check the total length of each dataset:\n",
    "print(len(train_df))\n",
    "print(len(dev_df))\n",
    "print(len(test_df))\n",
    "print(len(private_df))"
   ]
  },
  {
   "cell_type": "code",
   "execution_count": 19,
   "metadata": {
    "colab": {
     "base_uri": "https://localhost:8080/"
    },
    "executionInfo": {
     "elapsed": 266,
     "status": "ok",
     "timestamp": 1687533410754,
     "user": {
      "displayName": "DIMITRIOS PETRIDIS",
      "userId": "14803618589141828199"
     },
     "user_tz": -120
    },
    "id": "IVYcSb-6P-TT",
    "outputId": "b1eedd2a-fabb-4900-ace1-2601aad646cd",
    "tags": []
   },
   "outputs": [],
   "source": [
    "# Concatenate all the labeled datasets together to one training dataset:\n",
    "all_train_df = pd.concat([train_df,\n",
    "                          dev_df,\n",
    "                          private_df])"
   ]
  },
  {
   "cell_type": "code",
   "execution_count": 20,
   "metadata": {
    "colab": {
     "base_uri": "https://localhost:8080/"
    },
    "executionInfo": {
     "elapsed": 5,
     "status": "ok",
     "timestamp": 1687533415726,
     "user": {
      "displayName": "DIMITRIOS PETRIDIS",
      "userId": "14803618589141828199"
     },
     "user_tz": -120
    },
    "id": "gHtyA03lQNx3",
    "outputId": "fb75ca29-3a3b-4ac6-e9a6-79b692025917",
    "tags": []
   },
   "outputs": [
    {
     "data": {
      "text/plain": [
       "27445"
      ]
     },
     "execution_count": 20,
     "metadata": {},
     "output_type": "execute_result"
    }
   ],
   "source": [
    "# Check the length of the training dataset:\n",
    "len(all_train_df)"
   ]
  },
  {
   "cell_type": "code",
   "execution_count": 23,
   "metadata": {
    "colab": {
     "base_uri": "https://localhost:8080/",
     "height": 423
    },
    "executionInfo": {
     "elapsed": 10,
     "status": "ok",
     "timestamp": 1687533465586,
     "user": {
      "displayName": "DIMITRIOS PETRIDIS",
      "userId": "14803618589141828199"
     },
     "user_tz": -120
    },
    "id": "vMUndAEQ1RqR",
    "outputId": "08b09af4-e15c-4802-978b-b05372ea2701",
    "tags": []
   },
   "outputs": [
    {
     "data": {
      "text/html": [
       "<div>\n",
       "<style scoped>\n",
       "    .dataframe tbody tr th:only-of-type {\n",
       "        vertical-align: middle;\n",
       "    }\n",
       "\n",
       "    .dataframe tbody tr th {\n",
       "        vertical-align: top;\n",
       "    }\n",
       "\n",
       "    .dataframe thead th {\n",
       "        text-align: right;\n",
       "    }\n",
       "</style>\n",
       "<table border=\"1\" class=\"dataframe\">\n",
       "  <thead>\n",
       "    <tr style=\"text-align: right;\">\n",
       "      <th></th>\n",
       "      <th>text</th>\n",
       "      <th>label</th>\n",
       "    </tr>\n",
       "  </thead>\n",
       "  <tbody>\n",
       "    <tr>\n",
       "      <th>0</th>\n",
       "      <td>warrants to purchase ORG Lumos Networks Corp....</td>\n",
       "      <td>0</td>\n",
       "    </tr>\n",
       "    <tr>\n",
       "      <th>1</th>\n",
       "      <td>warrants to purchase ORG Lumos Networks Corp....</td>\n",
       "      <td>0</td>\n",
       "    </tr>\n",
       "    <tr>\n",
       "      <th>2</th>\n",
       "      <td>turn over to Global Gold at its offices in Ry...</td>\n",
       "      <td>0</td>\n",
       "    </tr>\n",
       "    <tr>\n",
       "      <th>3</th>\n",
       "      <td>ts Eighteen of FelCor Lodging LP Consolidated...</td>\n",
       "      <td>0</td>\n",
       "    </tr>\n",
       "    <tr>\n",
       "      <th>4</th>\n",
       "      <td>the ORG WFOE will waive and release you uncon...</td>\n",
       "      <td>0</td>\n",
       "    </tr>\n",
       "    <tr>\n",
       "      <th>...</th>\n",
       "      <td>...</td>\n",
       "      <td>...</td>\n",
       "    </tr>\n",
       "    <tr>\n",
       "      <th>3064</th>\n",
       "      <td>In connection with the closing of the transac...</td>\n",
       "      <td>0</td>\n",
       "    </tr>\n",
       "    <tr>\n",
       "      <th>3065</th>\n",
       "      <td>The terms of the notes are the same as the re...</td>\n",
       "      <td>0</td>\n",
       "    </tr>\n",
       "    <tr>\n",
       "      <th>3066</th>\n",
       "      <td>In connection with the Company 's DATE 2016 O...</td>\n",
       "      <td>0</td>\n",
       "    </tr>\n",
       "    <tr>\n",
       "      <th>3067</th>\n",
       "      <td>Manitowoc , through its wholly - owned subsid...</td>\n",
       "      <td>0</td>\n",
       "    </tr>\n",
       "    <tr>\n",
       "      <th>3068</th>\n",
       "      <td>In connection with the Sponsor Acquisition Cl...</td>\n",
       "      <td>0</td>\n",
       "    </tr>\n",
       "  </tbody>\n",
       "</table>\n",
       "<p>27445 rows × 2 columns</p>\n",
       "</div>"
      ],
      "text/plain": [
       "                                                   text  label\n",
       "0      warrants to purchase ORG Lumos Networks Corp....      0\n",
       "1      warrants to purchase ORG Lumos Networks Corp....      0\n",
       "2      turn over to Global Gold at its offices in Ry...      0\n",
       "3      ts Eighteen of FelCor Lodging LP Consolidated...      0\n",
       "4      the ORG WFOE will waive and release you uncon...      0\n",
       "...                                                 ...    ...\n",
       "3064   In connection with the closing of the transac...      0\n",
       "3065   The terms of the notes are the same as the re...      0\n",
       "3066   In connection with the Company 's DATE 2016 O...      0\n",
       "3067   Manitowoc , through its wholly - owned subsid...      0\n",
       "3068   In connection with the Sponsor Acquisition Cl...      0\n",
       "\n",
       "[27445 rows x 2 columns]"
      ]
     },
     "execution_count": 23,
     "metadata": {},
     "output_type": "execute_result"
    }
   ],
   "source": [
    "# Check the structure of the training dataset:\n",
    "all_train_df"
   ]
  },
  {
   "cell_type": "code",
   "execution_count": 30,
   "metadata": {
    "id": "5JJYKlTvf3yi",
    "tags": []
   },
   "outputs": [],
   "source": [
    "# Convert the datasets into \"Trainer-able\" Dataset objects:\n",
    "all_train_dataset = Dataset.from_pandas(all_train_df)\n",
    "private_dataset = Dataset.from_pandas(private_df)"
   ]
  },
  {
   "cell_type": "code",
   "execution_count": null,
   "metadata": {
    "colab": {
     "base_uri": "https://localhost:8080/"
    },
    "executionInfo": {
     "elapsed": 376,
     "status": "ok",
     "timestamp": 1687362906797,
     "user": {
      "displayName": "Stefan Pasch",
      "userId": "05422724237601650335"
     },
     "user_tz": -120
    },
    "id": "KgR0y7DrQvw4",
    "outputId": "ff816682-7e8c-4c3f-a7c2-da8979fe029f"
   },
   "outputs": [
    {
     "data": {
      "text/plain": [
       "Dataset({\n",
       "    features: ['text', 'label', '__index_level_0__'],\n",
       "    num_rows: 28676\n",
       "})"
      ]
     },
     "execution_count": 19,
     "metadata": {},
     "output_type": "execute_result"
    }
   ],
   "source": [
    "# Check the structure of the converted training dataset:\n",
    "all_train_dataset"
   ]
  },
  {
   "cell_type": "code",
   "execution_count": 33,
   "metadata": {
    "colab": {
     "base_uri": "https://localhost:8080/",
     "height": 424
    },
    "executionInfo": {
     "elapsed": 263,
     "status": "ok",
     "timestamp": 1687362908243,
     "user": {
      "displayName": "Stefan Pasch",
      "userId": "05422724237601650335"
     },
     "user_tz": -120
    },
    "id": "3qQhFsi8OLgu",
    "outputId": "378a88f0-2143-4d94-9b35-6ef789b63857",
    "tags": []
   },
   "outputs": [
    {
     "data": {
      "text/plain": [
       "Dataset({\n",
       "    features: ['text', 'label'],\n",
       "    num_rows: 3069\n",
       "})"
      ]
     },
     "execution_count": 33,
     "metadata": {},
     "output_type": "execute_result"
    }
   ],
   "source": [
    "# Check the structure of the converted private dataset:\n",
    "private_dataset"
   ]
  },
  {
   "cell_type": "code",
   "execution_count": 34,
   "metadata": {
    "colab": {
     "base_uri": "https://localhost:8080/",
     "height": 424
    },
    "executionInfo": {
     "elapsed": 19,
     "status": "ok",
     "timestamp": 1687204383289,
     "user": {
      "displayName": "Stefan Pasch",
      "userId": "05422724237601650335"
     },
     "user_tz": -120
    },
    "id": "ZZgGXXt1N7gc",
    "outputId": "b45b2576-b3f8-4b73-9897-b624c4cd979b",
    "tags": []
   },
   "outputs": [
    {
     "data": {
      "text/html": [
       "<div>\n",
       "<style scoped>\n",
       "    .dataframe tbody tr th:only-of-type {\n",
       "        vertical-align: middle;\n",
       "    }\n",
       "\n",
       "    .dataframe tbody tr th {\n",
       "        vertical-align: top;\n",
       "    }\n",
       "\n",
       "    .dataframe thead th {\n",
       "        text-align: right;\n",
       "    }\n",
       "</style>\n",
       "<table border=\"1\" class=\"dataframe\">\n",
       "  <thead>\n",
       "    <tr style=\"text-align: right;\">\n",
       "      <th></th>\n",
       "      <th>text</th>\n",
       "      <th>label</th>\n",
       "    </tr>\n",
       "  </thead>\n",
       "  <tbody>\n",
       "    <tr>\n",
       "      <th>0</th>\n",
       "      <td>warrants to purchase ORG Lumos Networks Corp....</td>\n",
       "      <td>0</td>\n",
       "    </tr>\n",
       "    <tr>\n",
       "      <th>1</th>\n",
       "      <td>warrants to purchase ORG Lumos Networks Corp....</td>\n",
       "      <td>0</td>\n",
       "    </tr>\n",
       "    <tr>\n",
       "      <th>2</th>\n",
       "      <td>turn over to Global Gold at its offices in Ry...</td>\n",
       "      <td>0</td>\n",
       "    </tr>\n",
       "    <tr>\n",
       "      <th>3</th>\n",
       "      <td>ts Eighteen of FelCor Lodging LP Consolidated...</td>\n",
       "      <td>0</td>\n",
       "    </tr>\n",
       "    <tr>\n",
       "      <th>4</th>\n",
       "      <td>the ORG WFOE will waive and release you uncon...</td>\n",
       "      <td>0</td>\n",
       "    </tr>\n",
       "    <tr>\n",
       "      <th>...</th>\n",
       "      <td>...</td>\n",
       "      <td>...</td>\n",
       "    </tr>\n",
       "    <tr>\n",
       "      <th>20065</th>\n",
       "      <td>On April 15 , 2010 , ORG Demand Pooling , Inc...</td>\n",
       "      <td>20</td>\n",
       "    </tr>\n",
       "    <tr>\n",
       "      <th>20066</th>\n",
       "      <td>On July 17 , 2017 , ORG Greater Cannabis Comp...</td>\n",
       "      <td>20</td>\n",
       "    </tr>\n",
       "    <tr>\n",
       "      <th>20067</th>\n",
       "      <td>In November 2016 , ORG Xcede entered into ano...</td>\n",
       "      <td>20</td>\n",
       "    </tr>\n",
       "    <tr>\n",
       "      <th>20068</th>\n",
       "      <td>On August 5 , 2015 , ORG Achaogen Inc entered...</td>\n",
       "      <td>20</td>\n",
       "    </tr>\n",
       "    <tr>\n",
       "      <th>20069</th>\n",
       "      <td>As discussed in Note 6 , ORG Petro River Oil ...</td>\n",
       "      <td>20</td>\n",
       "    </tr>\n",
       "  </tbody>\n",
       "</table>\n",
       "<p>20070 rows × 2 columns</p>\n",
       "</div>"
      ],
      "text/plain": [
       "                                                    text  label\n",
       "0       warrants to purchase ORG Lumos Networks Corp....      0\n",
       "1       warrants to purchase ORG Lumos Networks Corp....      0\n",
       "2       turn over to Global Gold at its offices in Ry...      0\n",
       "3       ts Eighteen of FelCor Lodging LP Consolidated...      0\n",
       "4       the ORG WFOE will waive and release you uncon...      0\n",
       "...                                                  ...    ...\n",
       "20065   On April 15 , 2010 , ORG Demand Pooling , Inc...     20\n",
       "20066   On July 17 , 2017 , ORG Greater Cannabis Comp...     20\n",
       "20067   In November 2016 , ORG Xcede entered into ano...     20\n",
       "20068   On August 5 , 2015 , ORG Achaogen Inc entered...     20\n",
       "20069   As discussed in Note 6 , ORG Petro River Oil ...     20\n",
       "\n",
       "[20070 rows x 2 columns]"
      ]
     },
     "execution_count": 34,
     "metadata": {},
     "output_type": "execute_result"
    }
   ],
   "source": [
    "train_df"
   ]
  },
  {
   "cell_type": "code",
   "execution_count": 40,
   "metadata": {
    "colab": {
     "base_uri": "https://localhost:8080/"
    },
    "executionInfo": {
     "elapsed": 224,
     "status": "ok",
     "timestamp": 1687362913846,
     "user": {
      "displayName": "Stefan Pasch",
      "userId": "05422724237601650335"
     },
     "user_tz": -120
    },
    "id": "Cjyb-cOCMml0",
    "outputId": "9a8cb3d5-9f27-466b-f2e3-d03eb4b5a4d2",
    "tags": []
   },
   "outputs": [
    {
     "name": "stdout",
     "output_type": "stream",
     "text": [
      "label\n",
      "0     0.516014\n",
      "18    0.138349\n",
      "2     0.125269\n",
      "4     0.076699\n",
      "20    0.028931\n",
      "1     0.019821\n",
      "3     0.019494\n",
      "15    0.017052\n",
      "16    0.012643\n",
      "19    0.009619\n",
      "7     0.006231\n",
      "8     0.005976\n",
      "10    0.005903\n",
      "17    0.004044\n",
      "12    0.003571\n",
      "6     0.002405\n",
      "9     0.002332\n",
      "5     0.001749\n",
      "11    0.001312\n",
      "21    0.001020\n",
      "13    0.000874\n",
      "14    0.000692\n",
      "Name: proportion, dtype: float64\n"
     ]
    }
   ],
   "source": [
    "# Check the labels distributions in the training dataset:\n",
    "print(all_train_df[\"label\"].value_counts(normalize=True))"
   ]
  },
  {
   "cell_type": "code",
   "execution_count": 66,
   "metadata": {
    "executionInfo": {
     "elapsed": 4,
     "status": "ok",
     "timestamp": 1687534895384,
     "user": {
      "displayName": "DIMITRIOS PETRIDIS",
      "userId": "14803618589141828199"
     },
     "user_tz": -120
    },
    "id": "eNwyx07mhiXw",
    "tags": []
   },
   "outputs": [],
   "source": [
    "def tokenize_function(examples):\n",
    "    return tokenizer(examples[\"text\"], padding=\"max_length\", truncation=True)"
   ]
  },
  {
   "cell_type": "code",
   "execution_count": null,
   "metadata": {
    "colab": {
     "base_uri": "https://localhost:8080/",
     "height": 17,
     "referenced_widgets": [
      "48c97c22e7b5459fb954ace00e7c5154",
      "53470be82c1b471eab7a28d465ed40ad",
      "b8c659e8c3b64a158901d4910578cf99",
      "7623612275c0470ea886623419a9b70c",
      "c3b151d38f054f099c020592491fe15c",
      "15046daa93bc45b587a54bb79dadbcf0",
      "40254472d5164c19b17054094908f117",
      "cfcba8f1fa9c4c828c46e88d27d77d3f",
      "c9dff64633704d869811e2616011a53b",
      "2a2ec9587f24419696365f0312e2f9db",
      "e07ffa5f754b49879c1636ece104c4e0",
      "57174f3b92974fcda9e9a52665a91c19",
      "7bec06a64305472cbc91b2de714648d0",
      "c6167ed63e74445fa0b897b1433e7f8b",
      "3014c30b3d50426c838e1cccf2e017c7",
      "2cf0868560634dada10402a51cc8fdeb",
      "e1c70cf703b945c2bdd91a7419c064e5",
      "c23361d0752342a38cfbd9c510ce5b84",
      "15101c02347e45b3bb472b68295ef57a",
      "acb5aaf04b4a471bb0fa59dc1133db49",
      "cb2b49ac28424c04a1612e9dad87510e",
      "bc69519cbd9f492d97a90f3662abae4e"
     ]
    },
    "executionInfo": {
     "elapsed": 5413,
     "status": "ok",
     "timestamp": 1687298054788,
     "user": {
      "displayName": "Stefan Pasch",
      "userId": "05422724237601650335"
     },
     "user_tz": -120
    },
    "id": "itHJ7MwJJtoA",
    "outputId": "96eab910-9994-4aac-dec5-a2e0b7cc0268"
   },
   "outputs": [
    {
     "data": {
      "application/vnd.jupyter.widget-view+json": {
       "model_id": "48c97c22e7b5459fb954ace00e7c5154",
       "version_major": 2,
       "version_minor": 0
      },
      "text/plain": [
       "Map:   0%|          | 0/28676 [00:00<?, ? examples/s]"
      ]
     },
     "metadata": {},
     "output_type": "display_data"
    },
    {
     "data": {
      "application/vnd.jupyter.widget-view+json": {
       "model_id": "57174f3b92974fcda9e9a52665a91c19",
       "version_major": 2,
       "version_minor": 0
      },
      "text/plain": [
       "Map:   0%|          | 0/3069 [00:00<?, ? examples/s]"
      ]
     },
     "metadata": {},
     "output_type": "display_data"
    }
   ],
   "source": [
    "from transformers import AutoTokenizer\n",
    "\n",
    "tokenizer = AutoTokenizer.from_pretrained(\"roberta-large\")\n",
    "#tokenizer = AutoTokenizer.from_pretrained(\"bert-base-uncased\")\n",
    "##example\n",
    "#inputs = tokenizer(sentences, padding=\"max_length\", truncation=True)\n",
    "\n",
    "def tokenize_function(examples):\n",
    "    return tokenizer(examples[\"text\"], padding=\"max_length\",  max_length=200, truncation=True)\n",
    "\n",
    "all_train_tokenized = all_train_dataset.map(tokenize_function, batched=True)\n",
    "private_test_tokenized = private_test_dataset.map(tokenize_function, batched=True)"
   ]
  },
  {
   "cell_type": "code",
   "execution_count": null,
   "metadata": {
    "colab": {
     "base_uri": "https://localhost:8080/"
    },
    "executionInfo": {
     "elapsed": 7703,
     "status": "ok",
     "timestamp": 1687298062480,
     "user": {
      "displayName": "Stefan Pasch",
      "userId": "05422724237601650335"
     },
     "user_tz": -120
    },
    "id": "0A1av1bPKdmk",
    "outputId": "12cbcb87-533d-4640-e1bf-1943542e1416"
   },
   "outputs": [
    {
     "name": "stderr",
     "output_type": "stream",
     "text": [
      "Some weights of the model checkpoint at roberta-large were not used when initializing RobertaForSequenceClassification: ['lm_head.dense.weight', 'lm_head.dense.bias', 'lm_head.layer_norm.bias', 'lm_head.bias', 'lm_head.layer_norm.weight']\n",
      "- This IS expected if you are initializing RobertaForSequenceClassification from the checkpoint of a model trained on another task or with another architecture (e.g. initializing a BertForSequenceClassification model from a BertForPreTraining model).\n",
      "- This IS NOT expected if you are initializing RobertaForSequenceClassification from the checkpoint of a model that you expect to be exactly identical (initializing a BertForSequenceClassification model from a BertForSequenceClassification model).\n",
      "Some weights of RobertaForSequenceClassification were not initialized from the model checkpoint at roberta-large and are newly initialized: ['classifier.dense.weight', 'classifier.out_proj.bias', 'classifier.dense.bias', 'classifier.out_proj.weight']\n",
      "You should probably TRAIN this model on a down-stream task to be able to use it for predictions and inference.\n"
     ]
    }
   ],
   "source": [
    "from transformers import AutoModelForSequenceClassification\n",
    "\n",
    "#model = AutoModelForSequenceClassification.from_pretrained(\"bert-large-uncased\", num_labels=3, classifier_dropout = 0.1)\n",
    "\n",
    "#model = AutoModelForSequenceClassification.from_pretrained(\"roberta-base\", num_labels=22)\n",
    "model = AutoModelForSequenceClassification.from_pretrained(\"roberta-large\", num_labels=22)\n",
    "#model = AutoModelForSequenceClassification.from_pretrained(\"bert-base-uncased\", num_labels=22)\n"
   ]
  },
  {
   "cell_type": "code",
   "execution_count": null,
   "metadata": {
    "id": "Z94NGGg3KkoL"
   },
   "outputs": [],
   "source": [
    "from transformers import TrainingArguments\n",
    "\n",
    "training_args = TrainingArguments(\"test_trainer\", weight_decay=0.01,num_train_epochs=3.0, learning_rate=1e-05,  save_steps=5000, per_device_train_batch_size =16  )"
   ]
  },
  {
   "cell_type": "code",
   "execution_count": null,
   "metadata": {
    "id": "pt88nIP6K-Vq"
   },
   "outputs": [],
   "source": [
    "from transformers import Trainer\n",
    "\n",
    "trainer = Trainer(\n",
    "    model=model, args=training_args, train_dataset=all_train_tokenized, eval_dataset=private_test_tokenized\n",
    ")"
   ]
  },
  {
   "cell_type": "code",
   "execution_count": null,
   "metadata": {
    "colab": {
     "base_uri": "https://localhost:8080/",
     "height": 1000
    },
    "executionInfo": {
     "elapsed": 11920562,
     "status": "ok",
     "timestamp": 1687309998471,
     "user": {
      "displayName": "Stefan Pasch",
      "userId": "05422724237601650335"
     },
     "user_tz": -120
    },
    "id": "G8LfavfrLAQ7",
    "outputId": "5ed21fcf-1077-4b29-8dee-bdb25b95109a"
   },
   "outputs": [
    {
     "name": "stderr",
     "output_type": "stream",
     "text": [
      "/usr/local/lib/python3.10/dist-packages/transformers/optimization.py:411: FutureWarning: This implementation of AdamW is deprecated and will be removed in a future version. Use the PyTorch implementation torch.optim.AdamW instead, or set `no_deprecation_warning=True` to disable this warning\n",
      "  warnings.warn(\n"
     ]
    },
    {
     "data": {
      "text/html": [
       "\n",
       "    <div>\n",
       "      \n",
       "      <progress value='21516' max='21516' style='width:300px; height:20px; vertical-align: middle;'></progress>\n",
       "      [21516/21516 3:18:38, Epoch 12/12]\n",
       "    </div>\n",
       "    <table border=\"1\" class=\"dataframe\">\n",
       "  <thead>\n",
       " <tr style=\"text-align: left;\">\n",
       "      <th>Step</th>\n",
       "      <th>Training Loss</th>\n",
       "    </tr>\n",
       "  </thead>\n",
       "  <tbody>\n",
       "    <tr>\n",
       "      <td>500</td>\n",
       "      <td>0.936700</td>\n",
       "    </tr>\n",
       "    <tr>\n",
       "      <td>1000</td>\n",
       "      <td>0.484500</td>\n",
       "    </tr>\n",
       "    <tr>\n",
       "      <td>1500</td>\n",
       "      <td>0.437200</td>\n",
       "    </tr>\n",
       "    <tr>\n",
       "      <td>2000</td>\n",
       "      <td>0.372100</td>\n",
       "    </tr>\n",
       "    <tr>\n",
       "      <td>2500</td>\n",
       "      <td>0.353700</td>\n",
       "    </tr>\n",
       "    <tr>\n",
       "      <td>3000</td>\n",
       "      <td>0.340500</td>\n",
       "    </tr>\n",
       "    <tr>\n",
       "      <td>3500</td>\n",
       "      <td>0.334300</td>\n",
       "    </tr>\n",
       "    <tr>\n",
       "      <td>4000</td>\n",
       "      <td>0.286800</td>\n",
       "    </tr>\n",
       "    <tr>\n",
       "      <td>4500</td>\n",
       "      <td>0.277600</td>\n",
       "    </tr>\n",
       "    <tr>\n",
       "      <td>5000</td>\n",
       "      <td>0.291000</td>\n",
       "    </tr>\n",
       "    <tr>\n",
       "      <td>5500</td>\n",
       "      <td>0.256600</td>\n",
       "    </tr>\n",
       "    <tr>\n",
       "      <td>6000</td>\n",
       "      <td>0.223400</td>\n",
       "    </tr>\n",
       "    <tr>\n",
       "      <td>6500</td>\n",
       "      <td>0.242100</td>\n",
       "    </tr>\n",
       "    <tr>\n",
       "      <td>7000</td>\n",
       "      <td>0.254900</td>\n",
       "    </tr>\n",
       "    <tr>\n",
       "      <td>7500</td>\n",
       "      <td>0.208100</td>\n",
       "    </tr>\n",
       "    <tr>\n",
       "      <td>8000</td>\n",
       "      <td>0.194800</td>\n",
       "    </tr>\n",
       "    <tr>\n",
       "      <td>8500</td>\n",
       "      <td>0.209200</td>\n",
       "    </tr>\n",
       "    <tr>\n",
       "      <td>9000</td>\n",
       "      <td>0.196600</td>\n",
       "    </tr>\n",
       "    <tr>\n",
       "      <td>9500</td>\n",
       "      <td>0.162200</td>\n",
       "    </tr>\n",
       "    <tr>\n",
       "      <td>10000</td>\n",
       "      <td>0.168800</td>\n",
       "    </tr>\n",
       "    <tr>\n",
       "      <td>10500</td>\n",
       "      <td>0.192300</td>\n",
       "    </tr>\n",
       "    <tr>\n",
       "      <td>11000</td>\n",
       "      <td>0.165000</td>\n",
       "    </tr>\n",
       "    <tr>\n",
       "      <td>11500</td>\n",
       "      <td>0.160300</td>\n",
       "    </tr>\n",
       "    <tr>\n",
       "      <td>12000</td>\n",
       "      <td>0.159700</td>\n",
       "    </tr>\n",
       "    <tr>\n",
       "      <td>12500</td>\n",
       "      <td>0.163700</td>\n",
       "    </tr>\n",
       "    <tr>\n",
       "      <td>13000</td>\n",
       "      <td>0.115800</td>\n",
       "    </tr>\n",
       "    <tr>\n",
       "      <td>13500</td>\n",
       "      <td>0.136300</td>\n",
       "    </tr>\n",
       "    <tr>\n",
       "      <td>14000</td>\n",
       "      <td>0.141900</td>\n",
       "    </tr>\n",
       "    <tr>\n",
       "      <td>14500</td>\n",
       "      <td>0.133700</td>\n",
       "    </tr>\n",
       "    <tr>\n",
       "      <td>15000</td>\n",
       "      <td>0.113900</td>\n",
       "    </tr>\n",
       "    <tr>\n",
       "      <td>15500</td>\n",
       "      <td>0.116900</td>\n",
       "    </tr>\n",
       "    <tr>\n",
       "      <td>16000</td>\n",
       "      <td>0.122500</td>\n",
       "    </tr>\n",
       "    <tr>\n",
       "      <td>16500</td>\n",
       "      <td>0.096800</td>\n",
       "    </tr>\n",
       "    <tr>\n",
       "      <td>17000</td>\n",
       "      <td>0.089700</td>\n",
       "    </tr>\n",
       "    <tr>\n",
       "      <td>17500</td>\n",
       "      <td>0.110100</td>\n",
       "    </tr>\n",
       "    <tr>\n",
       "      <td>18000</td>\n",
       "      <td>0.100000</td>\n",
       "    </tr>\n",
       "    <tr>\n",
       "      <td>18500</td>\n",
       "      <td>0.071700</td>\n",
       "    </tr>\n",
       "    <tr>\n",
       "      <td>19000</td>\n",
       "      <td>0.092600</td>\n",
       "    </tr>\n",
       "    <tr>\n",
       "      <td>19500</td>\n",
       "      <td>0.090100</td>\n",
       "    </tr>\n",
       "    <tr>\n",
       "      <td>20000</td>\n",
       "      <td>0.084000</td>\n",
       "    </tr>\n",
       "    <tr>\n",
       "      <td>20500</td>\n",
       "      <td>0.065000</td>\n",
       "    </tr>\n",
       "    <tr>\n",
       "      <td>21000</td>\n",
       "      <td>0.070500</td>\n",
       "    </tr>\n",
       "    <tr>\n",
       "      <td>21500</td>\n",
       "      <td>0.069300</td>\n",
       "    </tr>\n",
       "  </tbody>\n",
       "</table><p>"
      ],
      "text/plain": [
       "<IPython.core.display.HTML object>"
      ]
     },
     "metadata": {},
     "output_type": "display_data"
    },
    {
     "data": {
      "text/plain": [
       "TrainOutput(global_step=21516, training_loss=0.20668797076668166, metrics={'train_runtime': 11920.0015, 'train_samples_per_second': 28.868, 'train_steps_per_second': 1.805, 'total_flos': 1.252775140995456e+17, 'train_loss': 0.20668797076668166, 'epoch': 12.0})"
      ]
     },
     "execution_count": 25,
     "metadata": {},
     "output_type": "execute_result"
    }
   ],
   "source": [
    "trainer.train()"
   ]
  },
  {
   "cell_type": "code",
   "execution_count": null,
   "metadata": {
    "colab": {
     "base_uri": "https://localhost:8080/",
     "height": 17
    },
    "executionInfo": {
     "elapsed": 40734,
     "status": "ok",
     "timestamp": 1687310039172,
     "user": {
      "displayName": "Stefan Pasch",
      "userId": "05422724237601650335"
     },
     "user_tz": -120
    },
    "id": "gckpqHgiolnZ",
    "outputId": "12422b7e-b306-4005-ea1a-5dbdcd62ace8"
   },
   "outputs": [
    {
     "data": {
      "text/html": [],
      "text/plain": [
       "<IPython.core.display.HTML object>"
      ]
     },
     "metadata": {},
     "output_type": "display_data"
    }
   ],
   "source": [
    "\n",
    "predict = trainer.predict(test_dataset = private_test_tokenized)"
   ]
  },
  {
   "cell_type": "code",
   "execution_count": null,
   "metadata": {
    "id": "q4gdpyhkU9Rn"
   },
   "outputs": [],
   "source": [
    "liste = []\n",
    "for i in predict[0]:\n",
    "  max_val = -99\n",
    "  for x in range(0,len(predict[0][1])):\n",
    "    if i[x] > max_val:\n",
    "      max_val = i[x]\n",
    "      prediction = x\n",
    "  liste.append(prediction)\n",
    "\n"
   ]
  },
  {
   "cell_type": "code",
   "execution_count": null,
   "metadata": {
    "id": "-omVzpzgEIdh"
   },
   "outputs": [],
   "source": [
    "#val_df['prediction'] = liste\n",
    "#test_df['prediction'] = liste\n",
    "private_test_df['prediction'] = liste"
   ]
  },
  {
   "cell_type": "code",
   "execution_count": null,
   "metadata": {
    "id": "tYHXkN8DHrY2"
   },
   "outputs": [],
   "source": []
  },
  {
   "cell_type": "code",
   "execution_count": null,
   "metadata": {
    "colab": {
     "base_uri": "https://localhost:8080/",
     "height": 424
    },
    "executionInfo": {
     "elapsed": 70,
     "status": "ok",
     "timestamp": 1687310039176,
     "user": {
      "displayName": "Stefan Pasch",
      "userId": "05422724237601650335"
     },
     "user_tz": -120
    },
    "id": "RcGoAzUxEKZw",
    "outputId": "94e15e6e-671a-4cc7-8441-d0eee1dfbbde"
   },
   "outputs": [
    {
     "data": {
      "text/html": [
       "\n",
       "  <div id=\"df-e4ecd9c0-57d7-4a57-90d6-da6a2420ce59\">\n",
       "    <div class=\"colab-df-container\">\n",
       "      <div>\n",
       "<style scoped>\n",
       "    .dataframe tbody tr th:only-of-type {\n",
       "        vertical-align: middle;\n",
       "    }\n",
       "\n",
       "    .dataframe tbody tr th {\n",
       "        vertical-align: top;\n",
       "    }\n",
       "\n",
       "    .dataframe thead th {\n",
       "        text-align: right;\n",
       "    }\n",
       "</style>\n",
       "<table border=\"1\" class=\"dataframe\">\n",
       "  <thead>\n",
       "    <tr style=\"text-align: right;\">\n",
       "      <th></th>\n",
       "      <th>text</th>\n",
       "      <th>label</th>\n",
       "      <th>prediction</th>\n",
       "    </tr>\n",
       "  </thead>\n",
       "  <tbody>\n",
       "    <tr>\n",
       "      <th>0</th>\n",
       "      <td>Prior to entering the GOV_AGY Pentagon , Mr. ...</td>\n",
       "      <td>0</td>\n",
       "      <td>5</td>\n",
       "    </tr>\n",
       "    <tr>\n",
       "      <th>1</th>\n",
       "      <td>These actions will not result in ORG Ford Ind...</td>\n",
       "      <td>0</td>\n",
       "      <td>2</td>\n",
       "    </tr>\n",
       "    <tr>\n",
       "      <th>2</th>\n",
       "      <td>Interest Expense Interest expense increased f...</td>\n",
       "      <td>0</td>\n",
       "      <td>0</td>\n",
       "    </tr>\n",
       "    <tr>\n",
       "      <th>3</th>\n",
       "      <td>aGvHD Phase 1 Trial In March 2021 , results w...</td>\n",
       "      <td>0</td>\n",
       "      <td>0</td>\n",
       "    </tr>\n",
       "    <tr>\n",
       "      <th>4</th>\n",
       "      <td>ROYALTY PHARMA PLC NOTES TO THE CONSOLIDATED ...</td>\n",
       "      <td>0</td>\n",
       "      <td>0</td>\n",
       "    </tr>\n",
       "    <tr>\n",
       "      <th>...</th>\n",
       "      <td>...</td>\n",
       "      <td>...</td>\n",
       "      <td>...</td>\n",
       "    </tr>\n",
       "    <tr>\n",
       "      <th>3064</th>\n",
       "      <td>In connection with the closing of the transac...</td>\n",
       "      <td>0</td>\n",
       "      <td>0</td>\n",
       "    </tr>\n",
       "    <tr>\n",
       "      <th>3065</th>\n",
       "      <td>The terms of the notes are the same as the re...</td>\n",
       "      <td>0</td>\n",
       "      <td>18</td>\n",
       "    </tr>\n",
       "    <tr>\n",
       "      <th>3066</th>\n",
       "      <td>In connection with the Company 's DATE 2016 O...</td>\n",
       "      <td>0</td>\n",
       "      <td>10</td>\n",
       "    </tr>\n",
       "    <tr>\n",
       "      <th>3067</th>\n",
       "      <td>Manitowoc , through its wholly - owned subsid...</td>\n",
       "      <td>0</td>\n",
       "      <td>0</td>\n",
       "    </tr>\n",
       "    <tr>\n",
       "      <th>3068</th>\n",
       "      <td>In connection with the Sponsor Acquisition Cl...</td>\n",
       "      <td>0</td>\n",
       "      <td>0</td>\n",
       "    </tr>\n",
       "  </tbody>\n",
       "</table>\n",
       "<p>3069 rows × 3 columns</p>\n",
       "</div>\n",
       "      <button class=\"colab-df-convert\" onclick=\"convertToInteractive('df-e4ecd9c0-57d7-4a57-90d6-da6a2420ce59')\"\n",
       "              title=\"Convert this dataframe to an interactive table.\"\n",
       "              style=\"display:none;\">\n",
       "        \n",
       "  <svg xmlns=\"http://www.w3.org/2000/svg\" height=\"24px\"viewBox=\"0 0 24 24\"\n",
       "       width=\"24px\">\n",
       "    <path d=\"M0 0h24v24H0V0z\" fill=\"none\"/>\n",
       "    <path d=\"M18.56 5.44l.94 2.06.94-2.06 2.06-.94-2.06-.94-.94-2.06-.94 2.06-2.06.94zm-11 1L8.5 8.5l.94-2.06 2.06-.94-2.06-.94L8.5 2.5l-.94 2.06-2.06.94zm10 10l.94 2.06.94-2.06 2.06-.94-2.06-.94-.94-2.06-.94 2.06-2.06.94z\"/><path d=\"M17.41 7.96l-1.37-1.37c-.4-.4-.92-.59-1.43-.59-.52 0-1.04.2-1.43.59L10.3 9.45l-7.72 7.72c-.78.78-.78 2.05 0 2.83L4 21.41c.39.39.9.59 1.41.59.51 0 1.02-.2 1.41-.59l7.78-7.78 2.81-2.81c.8-.78.8-2.07 0-2.86zM5.41 20L4 18.59l7.72-7.72 1.47 1.35L5.41 20z\"/>\n",
       "  </svg>\n",
       "      </button>\n",
       "      \n",
       "  <style>\n",
       "    .colab-df-container {\n",
       "      display:flex;\n",
       "      flex-wrap:wrap;\n",
       "      gap: 12px;\n",
       "    }\n",
       "\n",
       "    .colab-df-convert {\n",
       "      background-color: #E8F0FE;\n",
       "      border: none;\n",
       "      border-radius: 50%;\n",
       "      cursor: pointer;\n",
       "      display: none;\n",
       "      fill: #1967D2;\n",
       "      height: 32px;\n",
       "      padding: 0 0 0 0;\n",
       "      width: 32px;\n",
       "    }\n",
       "\n",
       "    .colab-df-convert:hover {\n",
       "      background-color: #E2EBFA;\n",
       "      box-shadow: 0px 1px 2px rgba(60, 64, 67, 0.3), 0px 1px 3px 1px rgba(60, 64, 67, 0.15);\n",
       "      fill: #174EA6;\n",
       "    }\n",
       "\n",
       "    [theme=dark] .colab-df-convert {\n",
       "      background-color: #3B4455;\n",
       "      fill: #D2E3FC;\n",
       "    }\n",
       "\n",
       "    [theme=dark] .colab-df-convert:hover {\n",
       "      background-color: #434B5C;\n",
       "      box-shadow: 0px 1px 3px 1px rgba(0, 0, 0, 0.15);\n",
       "      filter: drop-shadow(0px 1px 2px rgba(0, 0, 0, 0.3));\n",
       "      fill: #FFFFFF;\n",
       "    }\n",
       "  </style>\n",
       "\n",
       "      <script>\n",
       "        const buttonEl =\n",
       "          document.querySelector('#df-e4ecd9c0-57d7-4a57-90d6-da6a2420ce59 button.colab-df-convert');\n",
       "        buttonEl.style.display =\n",
       "          google.colab.kernel.accessAllowed ? 'block' : 'none';\n",
       "\n",
       "        async function convertToInteractive(key) {\n",
       "          const element = document.querySelector('#df-e4ecd9c0-57d7-4a57-90d6-da6a2420ce59');\n",
       "          const dataTable =\n",
       "            await google.colab.kernel.invokeFunction('convertToInteractive',\n",
       "                                                     [key], {});\n",
       "          if (!dataTable) return;\n",
       "\n",
       "          const docLinkHtml = 'Like what you see? Visit the ' +\n",
       "            '<a target=\"_blank\" href=https://colab.research.google.com/notebooks/data_table.ipynb>data table notebook</a>'\n",
       "            + ' to learn more about interactive tables.';\n",
       "          element.innerHTML = '';\n",
       "          dataTable['output_type'] = 'display_data';\n",
       "          await google.colab.output.renderOutput(dataTable, element);\n",
       "          const docLink = document.createElement('div');\n",
       "          docLink.innerHTML = docLinkHtml;\n",
       "          element.appendChild(docLink);\n",
       "        }\n",
       "      </script>\n",
       "    </div>\n",
       "  </div>\n",
       "  "
      ],
      "text/plain": [
       "                                                   text  label  prediction\n",
       "0      Prior to entering the GOV_AGY Pentagon , Mr. ...      0           5\n",
       "1      These actions will not result in ORG Ford Ind...      0           2\n",
       "2      Interest Expense Interest expense increased f...      0           0\n",
       "3      aGvHD Phase 1 Trial In March 2021 , results w...      0           0\n",
       "4      ROYALTY PHARMA PLC NOTES TO THE CONSOLIDATED ...      0           0\n",
       "...                                                 ...    ...         ...\n",
       "3064   In connection with the closing of the transac...      0           0\n",
       "3065   The terms of the notes are the same as the re...      0          18\n",
       "3066   In connection with the Company 's DATE 2016 O...      0          10\n",
       "3067   Manitowoc , through its wholly - owned subsid...      0           0\n",
       "3068   In connection with the Sponsor Acquisition Cl...      0           0\n",
       "\n",
       "[3069 rows x 3 columns]"
      ]
     },
     "execution_count": 29,
     "metadata": {},
     "output_type": "execute_result"
    }
   ],
   "source": [
    "private_test_df"
   ]
  },
  {
   "cell_type": "code",
   "execution_count": null,
   "metadata": {
    "colab": {
     "base_uri": "https://localhost:8080/",
     "height": 53
    },
    "executionInfo": {
     "elapsed": 68,
     "status": "ok",
     "timestamp": 1687310039177,
     "user": {
      "displayName": "Stefan Pasch",
      "userId": "05422724237601650335"
     },
     "user_tz": -120
    },
    "id": "8T4r1YciTth8",
    "outputId": "a6cb7ec1-546b-4d6f-e428-cb9f7b22c14e"
   },
   "outputs": [
    {
     "data": {
      "application/vnd.google.colaboratory.intrinsic+json": {
       "type": "string"
      },
      "text/plain": [
       "' The terms of the notes are the same as the rest of the lender group We paid PERSON Ed Anakar , our TITLE director of operations – club division , employment compensation of $ 655,289 , $ 502,404 , and $ 550,000 during the fiscal years ended September 30 , 2021 , 2020 , and 2019 , respectively .'"
      ]
     },
     "execution_count": 30,
     "metadata": {},
     "output_type": "execute_result"
    }
   ],
   "source": [
    "private_test_df[\"text\"][3065]"
   ]
  },
  {
   "cell_type": "code",
   "execution_count": null,
   "metadata": {
    "id": "X04Ht_8SIVvV"
   },
   "outputs": [],
   "source": [
    "output = private_test_df[['prediction']]"
   ]
  },
  {
   "cell_type": "code",
   "execution_count": null,
   "metadata": {
    "colab": {
     "base_uri": "https://localhost:8080/",
     "height": 424
    },
    "executionInfo": {
     "elapsed": 67,
     "status": "ok",
     "timestamp": 1687310039179,
     "user": {
      "displayName": "Stefan Pasch",
      "userId": "05422724237601650335"
     },
     "user_tz": -120
    },
    "id": "wB_t7TYOi6k6",
    "outputId": "32926c25-6f54-44c0-8b7b-731f96bd470e"
   },
   "outputs": [
    {
     "data": {
      "text/html": [
       "\n",
       "  <div id=\"df-7e6e9929-5eb0-48fe-b41b-eb409e05513c\">\n",
       "    <div class=\"colab-df-container\">\n",
       "      <div>\n",
       "<style scoped>\n",
       "    .dataframe tbody tr th:only-of-type {\n",
       "        vertical-align: middle;\n",
       "    }\n",
       "\n",
       "    .dataframe tbody tr th {\n",
       "        vertical-align: top;\n",
       "    }\n",
       "\n",
       "    .dataframe thead th {\n",
       "        text-align: right;\n",
       "    }\n",
       "</style>\n",
       "<table border=\"1\" class=\"dataframe\">\n",
       "  <thead>\n",
       "    <tr style=\"text-align: right;\">\n",
       "      <th></th>\n",
       "      <th>prediction</th>\n",
       "    </tr>\n",
       "  </thead>\n",
       "  <tbody>\n",
       "    <tr>\n",
       "      <th>0</th>\n",
       "      <td>5</td>\n",
       "    </tr>\n",
       "    <tr>\n",
       "      <th>1</th>\n",
       "      <td>2</td>\n",
       "    </tr>\n",
       "    <tr>\n",
       "      <th>2</th>\n",
       "      <td>0</td>\n",
       "    </tr>\n",
       "    <tr>\n",
       "      <th>3</th>\n",
       "      <td>0</td>\n",
       "    </tr>\n",
       "    <tr>\n",
       "      <th>4</th>\n",
       "      <td>0</td>\n",
       "    </tr>\n",
       "    <tr>\n",
       "      <th>...</th>\n",
       "      <td>...</td>\n",
       "    </tr>\n",
       "    <tr>\n",
       "      <th>3064</th>\n",
       "      <td>0</td>\n",
       "    </tr>\n",
       "    <tr>\n",
       "      <th>3065</th>\n",
       "      <td>18</td>\n",
       "    </tr>\n",
       "    <tr>\n",
       "      <th>3066</th>\n",
       "      <td>10</td>\n",
       "    </tr>\n",
       "    <tr>\n",
       "      <th>3067</th>\n",
       "      <td>0</td>\n",
       "    </tr>\n",
       "    <tr>\n",
       "      <th>3068</th>\n",
       "      <td>0</td>\n",
       "    </tr>\n",
       "  </tbody>\n",
       "</table>\n",
       "<p>3069 rows × 1 columns</p>\n",
       "</div>\n",
       "      <button class=\"colab-df-convert\" onclick=\"convertToInteractive('df-7e6e9929-5eb0-48fe-b41b-eb409e05513c')\"\n",
       "              title=\"Convert this dataframe to an interactive table.\"\n",
       "              style=\"display:none;\">\n",
       "        \n",
       "  <svg xmlns=\"http://www.w3.org/2000/svg\" height=\"24px\"viewBox=\"0 0 24 24\"\n",
       "       width=\"24px\">\n",
       "    <path d=\"M0 0h24v24H0V0z\" fill=\"none\"/>\n",
       "    <path d=\"M18.56 5.44l.94 2.06.94-2.06 2.06-.94-2.06-.94-.94-2.06-.94 2.06-2.06.94zm-11 1L8.5 8.5l.94-2.06 2.06-.94-2.06-.94L8.5 2.5l-.94 2.06-2.06.94zm10 10l.94 2.06.94-2.06 2.06-.94-2.06-.94-.94-2.06-.94 2.06-2.06.94z\"/><path d=\"M17.41 7.96l-1.37-1.37c-.4-.4-.92-.59-1.43-.59-.52 0-1.04.2-1.43.59L10.3 9.45l-7.72 7.72c-.78.78-.78 2.05 0 2.83L4 21.41c.39.39.9.59 1.41.59.51 0 1.02-.2 1.41-.59l7.78-7.78 2.81-2.81c.8-.78.8-2.07 0-2.86zM5.41 20L4 18.59l7.72-7.72 1.47 1.35L5.41 20z\"/>\n",
       "  </svg>\n",
       "      </button>\n",
       "      \n",
       "  <style>\n",
       "    .colab-df-container {\n",
       "      display:flex;\n",
       "      flex-wrap:wrap;\n",
       "      gap: 12px;\n",
       "    }\n",
       "\n",
       "    .colab-df-convert {\n",
       "      background-color: #E8F0FE;\n",
       "      border: none;\n",
       "      border-radius: 50%;\n",
       "      cursor: pointer;\n",
       "      display: none;\n",
       "      fill: #1967D2;\n",
       "      height: 32px;\n",
       "      padding: 0 0 0 0;\n",
       "      width: 32px;\n",
       "    }\n",
       "\n",
       "    .colab-df-convert:hover {\n",
       "      background-color: #E2EBFA;\n",
       "      box-shadow: 0px 1px 2px rgba(60, 64, 67, 0.3), 0px 1px 3px 1px rgba(60, 64, 67, 0.15);\n",
       "      fill: #174EA6;\n",
       "    }\n",
       "\n",
       "    [theme=dark] .colab-df-convert {\n",
       "      background-color: #3B4455;\n",
       "      fill: #D2E3FC;\n",
       "    }\n",
       "\n",
       "    [theme=dark] .colab-df-convert:hover {\n",
       "      background-color: #434B5C;\n",
       "      box-shadow: 0px 1px 3px 1px rgba(0, 0, 0, 0.15);\n",
       "      filter: drop-shadow(0px 1px 2px rgba(0, 0, 0, 0.3));\n",
       "      fill: #FFFFFF;\n",
       "    }\n",
       "  </style>\n",
       "\n",
       "      <script>\n",
       "        const buttonEl =\n",
       "          document.querySelector('#df-7e6e9929-5eb0-48fe-b41b-eb409e05513c button.colab-df-convert');\n",
       "        buttonEl.style.display =\n",
       "          google.colab.kernel.accessAllowed ? 'block' : 'none';\n",
       "\n",
       "        async function convertToInteractive(key) {\n",
       "          const element = document.querySelector('#df-7e6e9929-5eb0-48fe-b41b-eb409e05513c');\n",
       "          const dataTable =\n",
       "            await google.colab.kernel.invokeFunction('convertToInteractive',\n",
       "                                                     [key], {});\n",
       "          if (!dataTable) return;\n",
       "\n",
       "          const docLinkHtml = 'Like what you see? Visit the ' +\n",
       "            '<a target=\"_blank\" href=https://colab.research.google.com/notebooks/data_table.ipynb>data table notebook</a>'\n",
       "            + ' to learn more about interactive tables.';\n",
       "          element.innerHTML = '';\n",
       "          dataTable['output_type'] = 'display_data';\n",
       "          await google.colab.output.renderOutput(dataTable, element);\n",
       "          const docLink = document.createElement('div');\n",
       "          docLink.innerHTML = docLinkHtml;\n",
       "          element.appendChild(docLink);\n",
       "        }\n",
       "      </script>\n",
       "    </div>\n",
       "  </div>\n",
       "  "
      ],
      "text/plain": [
       "      prediction\n",
       "0              5\n",
       "1              2\n",
       "2              0\n",
       "3              0\n",
       "4              0\n",
       "...          ...\n",
       "3064           0\n",
       "3065          18\n",
       "3066          10\n",
       "3067           0\n",
       "3068           0\n",
       "\n",
       "[3069 rows x 1 columns]"
      ]
     },
     "execution_count": 32,
     "metadata": {},
     "output_type": "execute_result"
    }
   ],
   "source": [
    "output"
   ]
  },
  {
   "cell_type": "code",
   "execution_count": null,
   "metadata": {
    "id": "cfFZoJEXHyus"
   },
   "outputs": [],
   "source": [
    "output.to_csv(\"/content/drive/MyDrive/DataMonkeys/submission_files/private6ne12.csv\", sep ='\\t', header = False, index= False)"
   ]
  },
  {
   "cell_type": "code",
   "execution_count": null,
   "metadata": {
    "colab": {
     "base_uri": "https://localhost:8080/"
    },
    "executionInfo": {
     "elapsed": 470,
     "status": "ok",
     "timestamp": 1687294037992,
     "user": {
      "displayName": "Stefan Pasch",
      "userId": "05422724237601650335"
     },
     "user_tz": -120
    },
    "id": "psn5GCvQUDGV",
    "outputId": "6f720129-1e8a-4f60-82ed-9e62fcc0b20e"
   },
   "outputs": [
    {
     "data": {
      "text/plain": [
       "3069"
      ]
     },
     "execution_count": 30,
     "metadata": {},
     "output_type": "execute_result"
    }
   ],
   "source": [
    "len(output)"
   ]
  },
  {
   "cell_type": "code",
   "execution_count": null,
   "metadata": {
    "id": "X5GCxjMCF9dz"
   },
   "outputs": [],
   "source": [
    "df = pd.DataFrame(predict[0])"
   ]
  },
  {
   "cell_type": "code",
   "execution_count": null,
   "metadata": {
    "id": "7YIkBsd6F5Vd"
   },
   "outputs": [],
   "source": [
    "test = pd.read_json(\"/content/drive/MyDrive/DataMonkeys/raw_data/private_dataset.json\")\n",
    "\n",
    "test['spacy_ner'] = test[\"spacy_ner\"].apply(convert_to_list)"
   ]
  },
  {
   "cell_type": "code",
   "execution_count": null,
   "metadata": {
    "id": "BfE38M9hFvnK"
   },
   "outputs": [],
   "source": [
    "test_merge = pd.merge(test, df, left_index=True, right_index=True)\n",
    "test_merge[\"prediction\"] = liste\n"
   ]
  },
  {
   "cell_type": "code",
   "execution_count": null,
   "metadata": {
    "id": "1gOBs4tkGxww"
   },
   "outputs": [],
   "source": [
    "mapping_reverse = { 0: \"no_relation\",\n",
    "            1: \"ORG-DATE\",\n",
    "            2: \"ORG-GPE\",\n",
    "            3: \"PERS-ORG\",\n",
    "            4: \"PERS-ORG\",\n",
    "            5: \"PERS-GOV_AGY\",\n",
    "            6: \"ORG-ORG\",\n",
    "            7: \"ORG-MONEY\",\n",
    "            8: \"ORG-GPE\",\n",
    "            9: \"PERS-UNIV\",\n",
    "            10: \"ORG-DATE\",\n",
    "            11: \"PERS-UNIV\",\n",
    "            12: \"ORG-GPE\",\n",
    "            13: \"ORG-MONEY\",\n",
    "            14: \"ORG-MONEY\",\n",
    "            15: \"ORG-ORG\",\n",
    "            16: \"ORG-ORG\",\n",
    "            17: \"PERS-ORG\",\n",
    "            18: \"PERS-TITLE\",\n",
    "            19:\"ORG-MONEY\" ,\n",
    "            20: \"ORG-ORG\",\n",
    "            21: \"PERS-UNIV\"}"
   ]
  },
  {
   "cell_type": "code",
   "execution_count": null,
   "metadata": {
    "id": "mYS7JngEG3Ts"
   },
   "outputs": [],
   "source": [
    "test_merge[\"pred_relation\"] = test_merge[\"prediction\"].map(mapping_reverse)"
   ]
  },
  {
   "cell_type": "code",
   "execution_count": null,
   "metadata": {
    "colab": {
     "base_uri": "https://localhost:8080/"
    },
    "executionInfo": {
     "elapsed": 11,
     "status": "ok",
     "timestamp": 1687310039777,
     "user": {
      "displayName": "Stefan Pasch",
      "userId": "05422724237601650335"
     },
     "user_tz": -120
    },
    "id": "Dh7WU4XHG6QG",
    "outputId": "1802c3e4-c0b7-433d-cb5a-f050e485255b"
   },
   "outputs": [
    {
     "name": "stderr",
     "output_type": "stream",
     "text": [
      "create clean input TEST: 100%|██████████| 3069/3069 [00:00<00:00, 23176.41it/s]\n"
     ]
    }
   ],
   "source": [
    "tqdm.pandas(desc=\"create clean input TEST\")\n",
    "test_merge[\"text\"] = test_merge.progress_apply(lambda row: create_input(token_list =row[\"token\"], e1_start=row[\"e1_start\"], e2_start = row[\"e2_start\"], ner_list = row[\"spacy_ner\"] ), axis=1)"
   ]
  },
  {
   "cell_type": "code",
   "execution_count": null,
   "metadata": {
    "colab": {
     "base_uri": "https://localhost:8080/",
     "height": 71
    },
    "executionInfo": {
     "elapsed": 9,
     "status": "ok",
     "timestamp": 1687294172335,
     "user": {
      "displayName": "Stefan Pasch",
      "userId": "05422724237601650335"
     },
     "user_tz": -120
    },
    "id": "gLNvfJFtVSx_",
    "outputId": "f11ea783-be19-4ada-b84a-e075e68b40b7"
   },
   "outputs": [
    {
     "data": {
      "application/vnd.google.colaboratory.intrinsic+json": {
       "type": "string"
      },
      "text/plain": [
       "' aGvHD Phase 1 Trial In March 2021 , results were published from an TITLE Investigator Sponsored Phase 1 study conducted by Joseph Pidala , MD , PhD ( Moffitt Cancer Center ) , and PERSON Brian C. Betts , MD ( Masonic Cancer Center at the University of Minnesota ) , evaluating pacritinib , an investigational oral kinase inhibitor with specificity for JAK2 , for the prevention of acute graft - versus - host disease ( aGvHD ) .'"
      ]
     },
     "execution_count": 37,
     "metadata": {},
     "output_type": "execute_result"
    }
   ],
   "source": [
    "test_merge[\"text\"][3]"
   ]
  },
  {
   "cell_type": "code",
   "execution_count": null,
   "metadata": {
    "colab": {
     "base_uri": "https://localhost:8080/"
    },
    "executionInfo": {
     "elapsed": 6,
     "status": "ok",
     "timestamp": 1687294173773,
     "user": {
      "displayName": "Stefan Pasch",
      "userId": "05422724237601650335"
     },
     "user_tz": -120
    },
    "id": "2cbMRgD5Kfvs",
    "outputId": "07d4d32c-b565-4cfd-daf0-d485815ef08c"
   },
   "outputs": [
    {
     "data": {
      "text/plain": [
       "33"
      ]
     },
     "execution_count": 38,
     "metadata": {},
     "output_type": "execute_result"
    }
   ],
   "source": [
    "test_merge[\"e1_start\"][3]"
   ]
  },
  {
   "cell_type": "code",
   "execution_count": null,
   "metadata": {
    "colab": {
     "base_uri": "https://localhost:8080/"
    },
    "executionInfo": {
     "elapsed": 737,
     "status": "ok",
     "timestamp": 1687294176710,
     "user": {
      "displayName": "Stefan Pasch",
      "userId": "05422724237601650335"
     },
     "user_tz": -120
    },
    "id": "_a5OZkRnKjAP",
    "outputId": "7d0cca78-9d1d-4a22-8179-77366f720c20"
   },
   "outputs": [
    {
     "data": {
      "text/plain": [
       "13"
      ]
     },
     "execution_count": 39,
     "metadata": {},
     "output_type": "execute_result"
    }
   ],
   "source": [
    "test_merge[\"e2_start\"][3]"
   ]
  },
  {
   "cell_type": "code",
   "execution_count": null,
   "metadata": {
    "colab": {
     "base_uri": "https://localhost:8080/"
    },
    "executionInfo": {
     "elapsed": 856,
     "status": "ok",
     "timestamp": 1687294180876,
     "user": {
      "displayName": "Stefan Pasch",
      "userId": "05422724237601650335"
     },
     "user_tz": -120
    },
    "id": "yw0g7lT1KaTR",
    "outputId": "773e65de-d11e-4758-c9a4-169372d06156"
   },
   "outputs": [
    {
     "data": {
      "text/plain": [
       "['O',\n",
       " 'O',\n",
       " 'O',\n",
       " 'O',\n",
       " 'O',\n",
       " 'O',\n",
       " 'O',\n",
       " 'O',\n",
       " 'O',\n",
       " 'O',\n",
       " 'O',\n",
       " 'O',\n",
       " 'O',\n",
       " 'TITLE',\n",
       " 'O',\n",
       " 'O',\n",
       " 'O',\n",
       " 'O',\n",
       " 'O',\n",
       " 'O',\n",
       " 'O',\n",
       " 'O',\n",
       " 'O',\n",
       " 'O',\n",
       " 'O',\n",
       " 'O',\n",
       " 'O',\n",
       " 'O',\n",
       " 'O',\n",
       " 'O',\n",
       " 'O',\n",
       " 'O',\n",
       " 'O',\n",
       " 'PERSON',\n",
       " 'PERSON',\n",
       " 'PERSON',\n",
       " 'O',\n",
       " 'O',\n",
       " 'O',\n",
       " 'O',\n",
       " 'O',\n",
       " 'O',\n",
       " 'O',\n",
       " 'O',\n",
       " 'O',\n",
       " 'O',\n",
       " 'O',\n",
       " 'O',\n",
       " 'O',\n",
       " 'O',\n",
       " 'O',\n",
       " 'O',\n",
       " 'O',\n",
       " 'O',\n",
       " 'O',\n",
       " 'O',\n",
       " 'O',\n",
       " 'O',\n",
       " 'O',\n",
       " 'O',\n",
       " 'O',\n",
       " 'O',\n",
       " 'O',\n",
       " 'O',\n",
       " 'O',\n",
       " 'O',\n",
       " 'O',\n",
       " 'O',\n",
       " 'O',\n",
       " 'O',\n",
       " 'O',\n",
       " 'O',\n",
       " 'O',\n",
       " 'O',\n",
       " 'O',\n",
       " 'O',\n",
       " 'O']"
      ]
     },
     "execution_count": 40,
     "metadata": {},
     "output_type": "execute_result"
    }
   ],
   "source": [
    "test_merge[\"spacy_ner\"][3]"
   ]
  },
  {
   "cell_type": "code",
   "execution_count": null,
   "metadata": {
    "id": "fGJ4_xxWM8cm"
   },
   "outputs": [],
   "source": [
    "import ast\n",
    "\n",
    "def convert_to_list(value):\n",
    "    try:\n",
    "        return ast.literal_eval(value)\n",
    "    except (SyntaxError, ValueError):\n",
    "        return value\n",
    "\n",
    "# Apply conversion function to the column\n",
    "test['spacy_ner'] = test_merge[\"spacy_ner\"].apply(convert_to_list)\n"
   ]
  },
  {
   "cell_type": "code",
   "execution_count": null,
   "metadata": {
    "id": "TET3AZwSJ-Zq"
   },
   "outputs": [],
   "source": []
  },
  {
   "cell_type": "code",
   "execution_count": null,
   "metadata": {
    "id": "o1Pjo8pLHDsk"
   },
   "outputs": [],
   "source": [
    "test_merge.to_csv(\"/content/drive/MyDrive/DataMonkeys/output_files/output6ne12.csv\", sep =';', header = True)"
   ]
  },
  {
   "cell_type": "code",
   "execution_count": null,
   "metadata": {
    "colab": {
     "base_uri": "https://localhost:8080/",
     "height": 1000
    },
    "executionInfo": {
     "elapsed": 10,
     "status": "ok",
     "timestamp": 1687286439753,
     "user": {
      "displayName": "Stefan Pasch",
      "userId": "05422724237601650335"
     },
     "user_tz": -120
    },
    "id": "dxyag-gYGNDV",
    "outputId": "34466453-ea43-4911-ccb1-c24de9c937b4"
   },
   "outputs": [
    {
     "data": {
      "text/html": [
       "\n",
       "  <div id=\"df-ba07dcc5-590a-478d-97ea-73dc0eb50ac7\">\n",
       "    <div class=\"colab-df-container\">\n",
       "      <div>\n",
       "<style scoped>\n",
       "    .dataframe tbody tr th:only-of-type {\n",
       "        vertical-align: middle;\n",
       "    }\n",
       "\n",
       "    .dataframe tbody tr th {\n",
       "        vertical-align: top;\n",
       "    }\n",
       "\n",
       "    .dataframe thead th {\n",
       "        text-align: right;\n",
       "    }\n",
       "</style>\n",
       "<table border=\"1\" class=\"dataframe\">\n",
       "  <thead>\n",
       "    <tr style=\"text-align: right;\">\n",
       "      <th></th>\n",
       "      <th>id</th>\n",
       "      <th>docid</th>\n",
       "      <th>relation</th>\n",
       "      <th>rel_group</th>\n",
       "      <th>token</th>\n",
       "      <th>e1_start</th>\n",
       "      <th>e1_end</th>\n",
       "      <th>e2_start</th>\n",
       "      <th>e2_end</th>\n",
       "      <th>e1_type</th>\n",
       "      <th>...</th>\n",
       "      <th>15</th>\n",
       "      <th>16</th>\n",
       "      <th>17</th>\n",
       "      <th>18</th>\n",
       "      <th>19</th>\n",
       "      <th>20</th>\n",
       "      <th>21</th>\n",
       "      <th>prediction</th>\n",
       "      <th>pred_relation</th>\n",
       "      <th>text</th>\n",
       "    </tr>\n",
       "  </thead>\n",
       "  <tbody>\n",
       "    <tr>\n",
       "      <th>0</th>\n",
       "      <td>1_William Cohen_30-32_Pentagon_4-5</td>\n",
       "      <td>2021</td>\n",
       "      <td></td>\n",
       "      <td>PERSON-GOV_AGY</td>\n",
       "      <td>[Prior, to, entering, the, Pentagon, ,, Mr., T...</td>\n",
       "      <td>30</td>\n",
       "      <td>32</td>\n",
       "      <td>4</td>\n",
       "      <td>5</td>\n",
       "      <td>PERSON</td>\n",
       "      <td>...</td>\n",
       "      <td>-1.391628</td>\n",
       "      <td>0.073100</td>\n",
       "      <td>-0.788721</td>\n",
       "      <td>3.709137</td>\n",
       "      <td>-1.852387</td>\n",
       "      <td>1.393929</td>\n",
       "      <td>-0.681351</td>\n",
       "      <td>0</td>\n",
       "      <td>no_relation</td>\n",
       "      <td>Prior to entering the , Pentagon , Mr. Tyrer ...</td>\n",
       "    </tr>\n",
       "    <tr>\n",
       "      <th>1</th>\n",
       "      <td>267_Ford India_6-8_Sanand_25-26_6-8_25-26</td>\n",
       "      <td>2021</td>\n",
       "      <td></td>\n",
       "      <td>ORG-GPE</td>\n",
       "      <td>[These, actions, will, not, result, in, Ford, ...</td>\n",
       "      <td>6</td>\n",
       "      <td>8</td>\n",
       "      <td>25</td>\n",
       "      <td>26</td>\n",
       "      <td>ORG</td>\n",
       "      <td>...</td>\n",
       "      <td>0.002865</td>\n",
       "      <td>-0.935565</td>\n",
       "      <td>-1.230419</td>\n",
       "      <td>-1.355157</td>\n",
       "      <td>-0.559362</td>\n",
       "      <td>-1.131405</td>\n",
       "      <td>-1.632586</td>\n",
       "      <td>2</td>\n",
       "      <td>ORG-GPE</td>\n",
       "      <td>These actions will not result in ORG Ford Ind...</td>\n",
       "    </tr>\n",
       "    <tr>\n",
       "      <th>2</th>\n",
       "      <td>76_Ellie Mae_49-51_May 2020_31-33_49-51_31-33</td>\n",
       "      <td>2021</td>\n",
       "      <td></td>\n",
       "      <td>ORG-DATE</td>\n",
       "      <td>[Interest, Expense, Interest, expense, increas...</td>\n",
       "      <td>49</td>\n",
       "      <td>51</td>\n",
       "      <td>31</td>\n",
       "      <td>33</td>\n",
       "      <td>ORG</td>\n",
       "      <td>...</td>\n",
       "      <td>-0.158951</td>\n",
       "      <td>0.309201</td>\n",
       "      <td>-1.781407</td>\n",
       "      <td>0.100739</td>\n",
       "      <td>-0.109399</td>\n",
       "      <td>0.079705</td>\n",
       "      <td>-2.124119</td>\n",
       "      <td>0</td>\n",
       "      <td>no_relation</td>\n",
       "      <td>Interest Expense Interest expense increased f...</td>\n",
       "    </tr>\n",
       "    <tr>\n",
       "      <th>3</th>\n",
       "      <td>326_Brian C. Betts_33-36_Investigator_13-14</td>\n",
       "      <td>2021</td>\n",
       "      <td></td>\n",
       "      <td>PERSON-TITLE</td>\n",
       "      <td>[aGvHD, Phase, 1, Trial, In, March, 2021, ,, r...</td>\n",
       "      <td>33</td>\n",
       "      <td>36</td>\n",
       "      <td>13</td>\n",
       "      <td>14</td>\n",
       "      <td>PERSON</td>\n",
       "      <td>...</td>\n",
       "      <td>-0.882330</td>\n",
       "      <td>0.504513</td>\n",
       "      <td>-1.944406</td>\n",
       "      <td>1.241539</td>\n",
       "      <td>-1.188621</td>\n",
       "      <td>2.309536</td>\n",
       "      <td>-1.544500</td>\n",
       "      <td>0</td>\n",
       "      <td>no_relation</td>\n",
       "      <td>aGvHD Phase 1 Trial In March 2021 , results w...</td>\n",
       "    </tr>\n",
       "    <tr>\n",
       "      <th>4</th>\n",
       "      <td>119_Gilead_49-50_2019_39-40_49-50_39-40</td>\n",
       "      <td>2021</td>\n",
       "      <td></td>\n",
       "      <td>ORG-DATE</td>\n",
       "      <td>[ROYALTY, PHARMA, PLC, NOTES, TO, THE, CONSOLI...</td>\n",
       "      <td>49</td>\n",
       "      <td>50</td>\n",
       "      <td>39</td>\n",
       "      <td>40</td>\n",
       "      <td>ORG</td>\n",
       "      <td>...</td>\n",
       "      <td>0.439898</td>\n",
       "      <td>2.018108</td>\n",
       "      <td>-1.884603</td>\n",
       "      <td>0.215939</td>\n",
       "      <td>-0.588170</td>\n",
       "      <td>1.005893</td>\n",
       "      <td>-2.486440</td>\n",
       "      <td>0</td>\n",
       "      <td>no_relation</td>\n",
       "      <td>ROYALTY PHARMA PLC NOTES TO THE CONSOLIDATED ...</td>\n",
       "    </tr>\n",
       "    <tr>\n",
       "      <th>...</th>\n",
       "      <td>...</td>\n",
       "      <td>...</td>\n",
       "      <td>...</td>\n",
       "      <td>...</td>\n",
       "      <td>...</td>\n",
       "      <td>...</td>\n",
       "      <td>...</td>\n",
       "      <td>...</td>\n",
       "      <td>...</td>\n",
       "      <td>...</td>\n",
       "      <td>...</td>\n",
       "      <td>...</td>\n",
       "      <td>...</td>\n",
       "      <td>...</td>\n",
       "      <td>...</td>\n",
       "      <td>...</td>\n",
       "      <td>...</td>\n",
       "      <td>...</td>\n",
       "      <td>...</td>\n",
       "      <td>...</td>\n",
       "      <td>...</td>\n",
       "    </tr>\n",
       "    <tr>\n",
       "      <th>3064</th>\n",
       "      <td>279_Ballantyne Strong_100-102_Firefly_77-78_10...</td>\n",
       "      <td>2021</td>\n",
       "      <td></td>\n",
       "      <td>ORG-ORG</td>\n",
       "      <td>[In, connection, with, the, closing, of, the, ...</td>\n",
       "      <td>100</td>\n",
       "      <td>102</td>\n",
       "      <td>77</td>\n",
       "      <td>78</td>\n",
       "      <td>ORG</td>\n",
       "      <td>...</td>\n",
       "      <td>0.558981</td>\n",
       "      <td>3.373878</td>\n",
       "      <td>-1.588498</td>\n",
       "      <td>0.058236</td>\n",
       "      <td>-1.105172</td>\n",
       "      <td>3.573465</td>\n",
       "      <td>-1.682987</td>\n",
       "      <td>0</td>\n",
       "      <td>no_relation</td>\n",
       "      <td>In connection with the closing of the transac...</td>\n",
       "    </tr>\n",
       "    <tr>\n",
       "      <th>3065</th>\n",
       "      <td>609_Ed Anakar_17-19_director_21-22</td>\n",
       "      <td>2021</td>\n",
       "      <td></td>\n",
       "      <td>PERSON-TITLE</td>\n",
       "      <td>[The, terms, of, the, notes, are, the, same, a...</td>\n",
       "      <td>17</td>\n",
       "      <td>19</td>\n",
       "      <td>21</td>\n",
       "      <td>22</td>\n",
       "      <td>PERSON</td>\n",
       "      <td>...</td>\n",
       "      <td>-1.068050</td>\n",
       "      <td>0.313445</td>\n",
       "      <td>-1.586685</td>\n",
       "      <td>2.492488</td>\n",
       "      <td>-0.565019</td>\n",
       "      <td>0.358121</td>\n",
       "      <td>-2.069442</td>\n",
       "      <td>0</td>\n",
       "      <td>no_relation</td>\n",
       "      <td>The terms of the notes are the same as the re...</td>\n",
       "    </tr>\n",
       "    <tr>\n",
       "      <th>3066</th>\n",
       "      <td>446_Kairos_7-8_2016_6-7_7-8_6-7</td>\n",
       "      <td>2021</td>\n",
       "      <td></td>\n",
       "      <td>ORG-DATE</td>\n",
       "      <td>[In, connection, with, the, Company, 's, 2016,...</td>\n",
       "      <td>7</td>\n",
       "      <td>8</td>\n",
       "      <td>6</td>\n",
       "      <td>7</td>\n",
       "      <td>ORG</td>\n",
       "      <td>...</td>\n",
       "      <td>0.063080</td>\n",
       "      <td>0.768268</td>\n",
       "      <td>-1.781236</td>\n",
       "      <td>0.236747</td>\n",
       "      <td>-0.160180</td>\n",
       "      <td>0.288439</td>\n",
       "      <td>-1.996445</td>\n",
       "      <td>0</td>\n",
       "      <td>no_relation</td>\n",
       "      <td>In connection with the Company 's DATE 2016 O...</td>\n",
       "    </tr>\n",
       "    <tr>\n",
       "      <th>3067</th>\n",
       "      <td>1069_Manitowoc_44-45_Potain_53-54_44-45_53-54</td>\n",
       "      <td>2021</td>\n",
       "      <td></td>\n",
       "      <td>ORG-ORG</td>\n",
       "      <td>[Manitowoc, ,, through, its, wholly, -, owned,...</td>\n",
       "      <td>44</td>\n",
       "      <td>45</td>\n",
       "      <td>53</td>\n",
       "      <td>54</td>\n",
       "      <td>ORG</td>\n",
       "      <td>...</td>\n",
       "      <td>1.930038</td>\n",
       "      <td>0.428860</td>\n",
       "      <td>-1.664649</td>\n",
       "      <td>-0.546335</td>\n",
       "      <td>-0.924684</td>\n",
       "      <td>0.779358</td>\n",
       "      <td>-2.595990</td>\n",
       "      <td>0</td>\n",
       "      <td>no_relation</td>\n",
       "      <td>Manitowoc , through its wholly - owned subsid...</td>\n",
       "    </tr>\n",
       "    <tr>\n",
       "      <th>3068</th>\n",
       "      <td>32_Worldwide Vision Limited_48-51_$ 2.3 billio...</td>\n",
       "      <td>2021</td>\n",
       "      <td></td>\n",
       "      <td>ORG-MONEY</td>\n",
       "      <td>[In, connection, with, the, Sponsor, Acquisiti...</td>\n",
       "      <td>48</td>\n",
       "      <td>51</td>\n",
       "      <td>56</td>\n",
       "      <td>59</td>\n",
       "      <td>ORG</td>\n",
       "      <td>...</td>\n",
       "      <td>-0.284295</td>\n",
       "      <td>1.510574</td>\n",
       "      <td>-1.578654</td>\n",
       "      <td>-0.402465</td>\n",
       "      <td>1.924201</td>\n",
       "      <td>0.640488</td>\n",
       "      <td>-1.642931</td>\n",
       "      <td>0</td>\n",
       "      <td>no_relation</td>\n",
       "      <td>In connection with the Sponsor Acquisition Cl...</td>\n",
       "    </tr>\n",
       "  </tbody>\n",
       "</table>\n",
       "<p>3069 rows × 42 columns</p>\n",
       "</div>\n",
       "      <button class=\"colab-df-convert\" onclick=\"convertToInteractive('df-ba07dcc5-590a-478d-97ea-73dc0eb50ac7')\"\n",
       "              title=\"Convert this dataframe to an interactive table.\"\n",
       "              style=\"display:none;\">\n",
       "        \n",
       "  <svg xmlns=\"http://www.w3.org/2000/svg\" height=\"24px\"viewBox=\"0 0 24 24\"\n",
       "       width=\"24px\">\n",
       "    <path d=\"M0 0h24v24H0V0z\" fill=\"none\"/>\n",
       "    <path d=\"M18.56 5.44l.94 2.06.94-2.06 2.06-.94-2.06-.94-.94-2.06-.94 2.06-2.06.94zm-11 1L8.5 8.5l.94-2.06 2.06-.94-2.06-.94L8.5 2.5l-.94 2.06-2.06.94zm10 10l.94 2.06.94-2.06 2.06-.94-2.06-.94-.94-2.06-.94 2.06-2.06.94z\"/><path d=\"M17.41 7.96l-1.37-1.37c-.4-.4-.92-.59-1.43-.59-.52 0-1.04.2-1.43.59L10.3 9.45l-7.72 7.72c-.78.78-.78 2.05 0 2.83L4 21.41c.39.39.9.59 1.41.59.51 0 1.02-.2 1.41-.59l7.78-7.78 2.81-2.81c.8-.78.8-2.07 0-2.86zM5.41 20L4 18.59l7.72-7.72 1.47 1.35L5.41 20z\"/>\n",
       "  </svg>\n",
       "      </button>\n",
       "      \n",
       "  <style>\n",
       "    .colab-df-container {\n",
       "      display:flex;\n",
       "      flex-wrap:wrap;\n",
       "      gap: 12px;\n",
       "    }\n",
       "\n",
       "    .colab-df-convert {\n",
       "      background-color: #E8F0FE;\n",
       "      border: none;\n",
       "      border-radius: 50%;\n",
       "      cursor: pointer;\n",
       "      display: none;\n",
       "      fill: #1967D2;\n",
       "      height: 32px;\n",
       "      padding: 0 0 0 0;\n",
       "      width: 32px;\n",
       "    }\n",
       "\n",
       "    .colab-df-convert:hover {\n",
       "      background-color: #E2EBFA;\n",
       "      box-shadow: 0px 1px 2px rgba(60, 64, 67, 0.3), 0px 1px 3px 1px rgba(60, 64, 67, 0.15);\n",
       "      fill: #174EA6;\n",
       "    }\n",
       "\n",
       "    [theme=dark] .colab-df-convert {\n",
       "      background-color: #3B4455;\n",
       "      fill: #D2E3FC;\n",
       "    }\n",
       "\n",
       "    [theme=dark] .colab-df-convert:hover {\n",
       "      background-color: #434B5C;\n",
       "      box-shadow: 0px 1px 3px 1px rgba(0, 0, 0, 0.15);\n",
       "      filter: drop-shadow(0px 1px 2px rgba(0, 0, 0, 0.3));\n",
       "      fill: #FFFFFF;\n",
       "    }\n",
       "  </style>\n",
       "\n",
       "      <script>\n",
       "        const buttonEl =\n",
       "          document.querySelector('#df-ba07dcc5-590a-478d-97ea-73dc0eb50ac7 button.colab-df-convert');\n",
       "        buttonEl.style.display =\n",
       "          google.colab.kernel.accessAllowed ? 'block' : 'none';\n",
       "\n",
       "        async function convertToInteractive(key) {\n",
       "          const element = document.querySelector('#df-ba07dcc5-590a-478d-97ea-73dc0eb50ac7');\n",
       "          const dataTable =\n",
       "            await google.colab.kernel.invokeFunction('convertToInteractive',\n",
       "                                                     [key], {});\n",
       "          if (!dataTable) return;\n",
       "\n",
       "          const docLinkHtml = 'Like what you see? Visit the ' +\n",
       "            '<a target=\"_blank\" href=https://colab.research.google.com/notebooks/data_table.ipynb>data table notebook</a>'\n",
       "            + ' to learn more about interactive tables.';\n",
       "          element.innerHTML = '';\n",
       "          dataTable['output_type'] = 'display_data';\n",
       "          await google.colab.output.renderOutput(dataTable, element);\n",
       "          const docLink = document.createElement('div');\n",
       "          docLink.innerHTML = docLinkHtml;\n",
       "          element.appendChild(docLink);\n",
       "        }\n",
       "      </script>\n",
       "    </div>\n",
       "  </div>\n",
       "  "
      ],
      "text/plain": [
       "                                                     id  docid relation  \\\n",
       "0                    1_William Cohen_30-32_Pentagon_4-5   2021            \n",
       "1             267_Ford India_6-8_Sanand_25-26_6-8_25-26   2021            \n",
       "2         76_Ellie Mae_49-51_May 2020_31-33_49-51_31-33   2021            \n",
       "3           326_Brian C. Betts_33-36_Investigator_13-14   2021            \n",
       "4               119_Gilead_49-50_2019_39-40_49-50_39-40   2021            \n",
       "...                                                 ...    ...      ...   \n",
       "3064  279_Ballantyne Strong_100-102_Firefly_77-78_10...   2021            \n",
       "3065                 609_Ed Anakar_17-19_director_21-22   2021            \n",
       "3066                    446_Kairos_7-8_2016_6-7_7-8_6-7   2021            \n",
       "3067      1069_Manitowoc_44-45_Potain_53-54_44-45_53-54   2021            \n",
       "3068  32_Worldwide Vision Limited_48-51_$ 2.3 billio...   2021            \n",
       "\n",
       "           rel_group                                              token  \\\n",
       "0     PERSON-GOV_AGY  [Prior, to, entering, the, Pentagon, ,, Mr., T...   \n",
       "1            ORG-GPE  [These, actions, will, not, result, in, Ford, ...   \n",
       "2           ORG-DATE  [Interest, Expense, Interest, expense, increas...   \n",
       "3       PERSON-TITLE  [aGvHD, Phase, 1, Trial, In, March, 2021, ,, r...   \n",
       "4           ORG-DATE  [ROYALTY, PHARMA, PLC, NOTES, TO, THE, CONSOLI...   \n",
       "...              ...                                                ...   \n",
       "3064         ORG-ORG  [In, connection, with, the, closing, of, the, ...   \n",
       "3065    PERSON-TITLE  [The, terms, of, the, notes, are, the, same, a...   \n",
       "3066        ORG-DATE  [In, connection, with, the, Company, 's, 2016,...   \n",
       "3067         ORG-ORG  [Manitowoc, ,, through, its, wholly, -, owned,...   \n",
       "3068       ORG-MONEY  [In, connection, with, the, Sponsor, Acquisiti...   \n",
       "\n",
       "      e1_start  e1_end  e2_start  e2_end e1_type  ...        15        16  \\\n",
       "0           30      32         4       5  PERSON  ... -1.391628  0.073100   \n",
       "1            6       8        25      26     ORG  ...  0.002865 -0.935565   \n",
       "2           49      51        31      33     ORG  ... -0.158951  0.309201   \n",
       "3           33      36        13      14  PERSON  ... -0.882330  0.504513   \n",
       "4           49      50        39      40     ORG  ...  0.439898  2.018108   \n",
       "...        ...     ...       ...     ...     ...  ...       ...       ...   \n",
       "3064       100     102        77      78     ORG  ...  0.558981  3.373878   \n",
       "3065        17      19        21      22  PERSON  ... -1.068050  0.313445   \n",
       "3066         7       8         6       7     ORG  ...  0.063080  0.768268   \n",
       "3067        44      45        53      54     ORG  ...  1.930038  0.428860   \n",
       "3068        48      51        56      59     ORG  ... -0.284295  1.510574   \n",
       "\n",
       "            17        18        19        20        21  prediction  \\\n",
       "0    -0.788721  3.709137 -1.852387  1.393929 -0.681351           0   \n",
       "1    -1.230419 -1.355157 -0.559362 -1.131405 -1.632586           2   \n",
       "2    -1.781407  0.100739 -0.109399  0.079705 -2.124119           0   \n",
       "3    -1.944406  1.241539 -1.188621  2.309536 -1.544500           0   \n",
       "4    -1.884603  0.215939 -0.588170  1.005893 -2.486440           0   \n",
       "...        ...       ...       ...       ...       ...         ...   \n",
       "3064 -1.588498  0.058236 -1.105172  3.573465 -1.682987           0   \n",
       "3065 -1.586685  2.492488 -0.565019  0.358121 -2.069442           0   \n",
       "3066 -1.781236  0.236747 -0.160180  0.288439 -1.996445           0   \n",
       "3067 -1.664649 -0.546335 -0.924684  0.779358 -2.595990           0   \n",
       "3068 -1.578654 -0.402465  1.924201  0.640488 -1.642931           0   \n",
       "\n",
       "      pred_relation                                               text  \n",
       "0       no_relation   Prior to entering the , Pentagon , Mr. Tyrer ...  \n",
       "1           ORG-GPE   These actions will not result in ORG Ford Ind...  \n",
       "2       no_relation   Interest Expense Interest expense increased f...  \n",
       "3       no_relation   aGvHD Phase 1 Trial In March 2021 , results w...  \n",
       "4       no_relation   ROYALTY PHARMA PLC NOTES TO THE CONSOLIDATED ...  \n",
       "...             ...                                                ...  \n",
       "3064    no_relation   In connection with the closing of the transac...  \n",
       "3065    no_relation   The terms of the notes are the same as the re...  \n",
       "3066    no_relation   In connection with the Company 's DATE 2016 O...  \n",
       "3067    no_relation   Manitowoc , through its wholly - owned subsid...  \n",
       "3068    no_relation   In connection with the Sponsor Acquisition Cl...  \n",
       "\n",
       "[3069 rows x 42 columns]"
      ]
     },
     "execution_count": 51,
     "metadata": {},
     "output_type": "execute_result"
    }
   ],
   "source": [
    "test_merge"
   ]
  },
  {
   "cell_type": "code",
   "execution_count": null,
   "metadata": {
    "colab": {
     "base_uri": "https://localhost:8080/"
    },
    "executionInfo": {
     "elapsed": 401,
     "status": "ok",
     "timestamp": 1682018952068,
     "user": {
      "displayName": "Stefan Pasch",
      "userId": "05422724237601650335"
     },
     "user_tz": -120
    },
    "id": "uRhhLta25MNI",
    "outputId": "afce4c5a-e31e-49ce-894d-e19f7c4be6c1"
   },
   "outputs": [
    {
     "name": "stdout",
     "output_type": "stream",
     "text": [
      "REPORT:\n",
      "              precision    recall  f1-score   support\n",
      "\n",
      "           0       0.80      0.74      0.77      1953\n",
      "           1       0.67      0.90      0.77        96\n",
      "           2       0.88      0.85      0.86       605\n",
      "           3       0.11      0.07      0.09        95\n",
      "           4       0.53      0.96      0.68       374\n",
      "           5       0.00      0.00      0.00         8\n",
      "           6       0.00      0.00      0.00        12\n",
      "           7       0.00      0.00      0.00        31\n",
      "           8       0.78      0.24      0.37        29\n",
      "           9       0.00      0.00      0.00        12\n",
      "          10       0.00      0.00      0.00        24\n",
      "          11       0.00      0.00      0.00         7\n",
      "          12       0.00      0.00      0.00        17\n",
      "          13       0.00      0.00      0.00         5\n",
      "          14       0.00      0.00      0.00         4\n",
      "          15       0.43      0.66      0.52        83\n",
      "          16       0.00      0.00      0.00        61\n",
      "          17       0.00      0.00      0.00        20\n",
      "          18       0.97      0.90      0.93       671\n",
      "          19       0.28      0.72      0.40        47\n",
      "          20       0.39      0.43      0.41       141\n",
      "          21       0.00      0.00      0.00         5\n",
      "\n",
      "    accuracy                           0.74      4300\n",
      "   macro avg       0.27      0.29      0.26      4300\n",
      "weighted avg       0.73      0.74      0.73      4300\n",
      "\n",
      "\n"
     ]
    },
    {
     "name": "stderr",
     "output_type": "stream",
     "text": [
      "/usr/local/lib/python3.9/dist-packages/sklearn/metrics/_classification.py:1344: UndefinedMetricWarning: Precision and F-score are ill-defined and being set to 0.0 in labels with no predicted samples. Use `zero_division` parameter to control this behavior.\n",
      "  _warn_prf(average, modifier, msg_start, len(result))\n",
      "/usr/local/lib/python3.9/dist-packages/sklearn/metrics/_classification.py:1344: UndefinedMetricWarning: Precision and F-score are ill-defined and being set to 0.0 in labels with no predicted samples. Use `zero_division` parameter to control this behavior.\n",
      "  _warn_prf(average, modifier, msg_start, len(result))\n",
      "/usr/local/lib/python3.9/dist-packages/sklearn/metrics/_classification.py:1344: UndefinedMetricWarning: Precision and F-score are ill-defined and being set to 0.0 in labels with no predicted samples. Use `zero_division` parameter to control this behavior.\n",
      "  _warn_prf(average, modifier, msg_start, len(result))\n"
     ]
    }
   ],
   "source": [
    "from sklearn.metrics import classification_report,confusion_matrix\n",
    "print(\"REPORT:\")\n",
    "print(classification_report(test_df[\"label\"],test_df[\"prediction\"]))\n",
    "print(\"\")"
   ]
  },
  {
   "cell_type": "code",
   "execution_count": null,
   "metadata": {
    "colab": {
     "base_uri": "https://localhost:8080/"
    },
    "executionInfo": {
     "elapsed": 822,
     "status": "ok",
     "timestamp": 1682014974834,
     "user": {
      "displayName": "Stefan Pasch",
      "userId": "05422724237601650335"
     },
     "user_tz": -120
    },
    "id": "fCHD6kkE50CS",
    "outputId": "bf965f76-9673-42c3-9f37-561ee286ce1e"
   },
   "outputs": [
    {
     "name": "stdout",
     "output_type": "stream",
     "text": [
      "prediction    0   1    2   3    4   5   6   7   8   9   10  11  12  15  16  \\\n",
      "label                                                                        \n",
      "0           1446  24   34  30  138   0   8  10   2   0  22   0   1  52  59   \n",
      "1              9  87    0   0    0   0   0   0   0   0   0   0   0   0   0   \n",
      "2             85   0  491   0    0   0   0   0  13   0   0   0  15   0   0   \n",
      "3              3   0    0  11   73   0   0   0   0   0   0   0   0   0   0   \n",
      "4              1   0    0  15  355   0   0   0   0   0   0   0   0   0   0   \n",
      "5              4   0    0   0    3   1   0   0   0   0   0   0   0   0   0   \n",
      "6              4   0    0   0    0   0   2   0   0   0   0   0   0   1   5   \n",
      "7              3   0    0   0    0   0   0  28   0   0   0   0   0   0   0   \n",
      "8              0   0    6   0    0   0   0   0  23   0   0   0   0   0   0   \n",
      "9              1   0    0   0    0   0   0   0   0   9   0   0   0   0   0   \n",
      "10            11   0    0   0    0   0   0   0   0   0  13   0   0   0   0   \n",
      "11             0   0    0   0    0   0   0   0   0   1   0   6   0   0   0   \n",
      "12             1   0    8   0    0   0   0   0   0   0   0   0   8   0   0   \n",
      "13             0   0    0   0    0   0   0   3   0   0   0   0   0   0   0   \n",
      "14             1   0    0   0    0   0   0   1   0   0   0   0   0   0   0   \n",
      "15            24   0    0   0    0   0   0   0   0   0   0   0   0  53   3   \n",
      "16            33   0    0   0    0   0   0   0   0   0   0   0   0   2  15   \n",
      "17             0   0    0   3   12   0   0   0   0   0   0   0   0   0   0   \n",
      "18           107   0    0   0    0   0   0   0   0   0   0   0   0   0   0   \n",
      "19             6   0    0   0    0   0   0   0   0   0   0   0   0   0   0   \n",
      "20            75   0    0   0    0   0   0   0   0   0   0   0   0   1   9   \n",
      "21             1   0    0   0    0   0   0   0   0   0   0   0   0   0   0   \n",
      "\n",
      "prediction  17   18  19  20  21  \n",
      "label                            \n",
      "0            5    9  30  83   0  \n",
      "1            0    0   0   0   0  \n",
      "2            0    0   0   1   0  \n",
      "3            8    0   0   0   0  \n",
      "4            3    0   0   0   0  \n",
      "5            0    0   0   0   0  \n",
      "6            0    0   0   0   0  \n",
      "7            0    0   0   0   0  \n",
      "8            0    0   0   0   0  \n",
      "9            0    0   0   0   2  \n",
      "10           0    0   0   0   0  \n",
      "11           0    0   0   0   0  \n",
      "12           0    0   0   0   0  \n",
      "13           0    0   2   0   0  \n",
      "14           0    0   2   0   0  \n",
      "15           0    0   0   3   0  \n",
      "16           0    0   0  11   0  \n",
      "17           5    0   0   0   0  \n",
      "18           0  564   0   0   0  \n",
      "19           0    0  41   0   0  \n",
      "20           0    0   0  56   0  \n",
      "21           0    0   0   0   4  \n"
     ]
    }
   ],
   "source": [
    "confusion_matrix = pd.crosstab(test_df[\"label\"], test_df[\"prediction\"])\n",
    "print(confusion_matrix)"
   ]
  },
  {
   "cell_type": "code",
   "execution_count": null,
   "metadata": {
    "id": "hQhgHevgHi7w"
   },
   "outputs": [],
   "source": [
    "test_df.to_excel(\"/content/drive/MyDrive/..\")"
   ]
  },
  {
   "cell_type": "code",
   "execution_count": null,
   "metadata": {
    "id": "ouhWw8-kwWaX"
   },
   "outputs": [],
   "source": [
    "results_pair = []\n",
    "for i in range(0,len(test_df)-1):\n",
    "  if test_df[\"label\"][i] == liste[i]:\n",
    "    results_pair.append(1)\n",
    "  else:\n",
    "    results_pair.append(0)"
   ]
  },
  {
   "cell_type": "code",
   "execution_count": null,
   "metadata": {
    "id": "G8VdfH1iE-R4"
   },
   "outputs": [],
   "source": [
    "results_pair"
   ]
  },
  {
   "cell_type": "code",
   "execution_count": null,
   "metadata": {
    "colab": {
     "base_uri": "https://localhost:8080/"
    },
    "executionInfo": {
     "elapsed": 240,
     "status": "ok",
     "timestamp": 1639146869833,
     "user": {
      "displayName": "Stefan Pasch",
      "photoUrl": "https://lh3.googleusercontent.com/a/default-user=s64",
      "userId": "05422724237601650335"
     },
     "user_tz": -60
    },
    "id": "ug_nZMNbxAgt",
    "outputId": "882ae367-430a-4895-892c-fc1d7f89cc08"
   },
   "outputs": [
    {
     "data": {
      "text/plain": [
       "0.6264455087022545"
      ]
     },
     "execution_count": 138,
     "metadata": {},
     "output_type": "execute_result"
    }
   ],
   "source": [
    "statistics.mean(results_pair)"
   ]
  },
  {
   "cell_type": "code",
   "execution_count": null,
   "metadata": {
    "colab": {
     "base_uri": "https://localhost:8080/"
    },
    "executionInfo": {
     "elapsed": 251,
     "status": "ok",
     "timestamp": 1639146674896,
     "user": {
      "displayName": "Stefan Pasch",
      "photoUrl": "https://lh3.googleusercontent.com/a/default-user=s64",
      "userId": "05422724237601650335"
     },
     "user_tz": -60
    },
    "id": "RNePjkKLrtYn",
    "outputId": "5edc0776-5eac-4f85-fb01-2ae7afce2b5d"
   },
   "outputs": [
    {
     "data": {
      "text/plain": [
       "8562"
      ]
     },
     "execution_count": 131,
     "metadata": {},
     "output_type": "execute_result"
    }
   ],
   "source": [
    "len(liste)"
   ]
  },
  {
   "cell_type": "code",
   "execution_count": null,
   "metadata": {
    "colab": {
     "base_uri": "https://localhost:8080/"
    },
    "executionInfo": {
     "elapsed": 14,
     "status": "ok",
     "timestamp": 1639137584793,
     "user": {
      "displayName": "Stefan Pasch",
      "photoUrl": "https://lh3.googleusercontent.com/a/default-user=s64",
      "userId": "05422724237601650335"
     },
     "user_tz": -60
    },
    "id": "sjnuuHLnM8cE",
    "outputId": "3ef3b1ef-cd3a-40c3-86ef-1adb7196f64f"
   },
   "outputs": [
    {
     "name": "stderr",
     "output_type": "stream",
     "text": [
      "PyTorch: setting up devices\n",
      "The default value for the training argument `--report_to` will change in v5 (from all installed integrations to none). In v5, you will need to use `--report_to all` to get the same behavior as now. You should start updating your code and make this info disappear :-).\n"
     ]
    }
   ],
   "source": [
    "from transformers import TrainingArguments\n",
    "\n",
    "training_args = TrainingArguments(\"test_trainer\", evaluation_strategy=\"epoch\")"
   ]
  },
  {
   "cell_type": "code",
   "execution_count": null,
   "metadata": {
    "colab": {
     "base_uri": "https://localhost:8080/"
    },
    "executionInfo": {
     "elapsed": 4676,
     "status": "ok",
     "timestamp": 1669479554988,
     "user": {
      "displayName": "Stefan Pasch",
      "userId": "05422724237601650335"
     },
     "user_tz": -60
    },
    "id": "SxtQJhcpNt7w",
    "outputId": "f8cecb60-6bf6-4185-d99c-16c670179b9a"
   },
   "outputs": [
    {
     "name": "stderr",
     "output_type": "stream",
     "text": [
      "Configuration saved in /content/drive/MyDrive/seb_stef/models/roberta_large_hierarchy/config.json\n",
      "Model weights saved in /content/drive/MyDrive/seb_stef/models/roberta_large_hierarchy/pytorch_model.bin\n"
     ]
    }
   ],
   "source": [
    "model.save_pretrained(\"/content/drive/MyDrive/..\")"
   ]
  },
  {
   "cell_type": "code",
   "execution_count": null,
   "metadata": {
    "colab": {
     "base_uri": "https://localhost:8080/"
    },
    "executionInfo": {
     "elapsed": 35,
     "status": "ok",
     "timestamp": 1669479554989,
     "user": {
      "displayName": "Stefan Pasch",
      "userId": "05422724237601650335"
     },
     "user_tz": -60
    },
    "id": "pGA4hV0gON3l",
    "outputId": "05f8c025-138b-4d49-dba3-9232379f94c5"
   },
   "outputs": [
    {
     "name": "stderr",
     "output_type": "stream",
     "text": [
      "tokenizer config file saved in /content/drive/MyDrive/seb_stef/models/roberta_large_hierarchy/tokenizer_config.json\n",
      "Special tokens file saved in /content/drive/MyDrive/seb_stef/models/roberta_large_hierarchy/special_tokens_map.json\n"
     ]
    },
    {
     "data": {
      "text/plain": [
       "('/content/drive/MyDrive/seb_stef/models/roberta_large_hierarchy/tokenizer_config.json',\n",
       " '/content/drive/MyDrive/seb_stef/models/roberta_large_hierarchy/special_tokens_map.json',\n",
       " '/content/drive/MyDrive/seb_stef/models/roberta_large_hierarchy/vocab.json',\n",
       " '/content/drive/MyDrive/seb_stef/models/roberta_large_hierarchy/merges.txt',\n",
       " '/content/drive/MyDrive/seb_stef/models/roberta_large_hierarchy/added_tokens.json',\n",
       " '/content/drive/MyDrive/seb_stef/models/roberta_large_hierarchy/tokenizer.json')"
      ]
     },
     "execution_count": 19,
     "metadata": {},
     "output_type": "execute_result"
    }
   ],
   "source": [
    "tokenizer.save_pretrained(\"/content/drive/MyDrive//..\")"
   ]
  },
  {
   "cell_type": "code",
   "execution_count": null,
   "metadata": {
    "colab": {
     "base_uri": "https://localhost:8080/"
    },
    "executionInfo": {
     "elapsed": 829,
     "status": "ok",
     "timestamp": 1669473446278,
     "user": {
      "displayName": "Stefan Pasch",
      "userId": "05422724237601650335"
     },
     "user_tz": -60
    },
    "id": "szGrT5ysOppl",
    "outputId": "d71254c5-fcaa-4f31-ee85-7030feca32a9"
   },
   "outputs": [
    {
     "name": "stderr",
     "output_type": "stream",
     "text": [
      "loading file vocab.json\n",
      "loading file merges.txt\n",
      "loading file tokenizer.json\n",
      "loading file added_tokens.json\n",
      "loading file special_tokens_map.json\n",
      "loading file tokenizer_config.json\n"
     ]
    }
   ],
   "source": [
    "tokenizer = AutoTokenizer.from_pretrained(\"/content/drive/MyDrive/..\")"
   ]
  },
  {
   "cell_type": "code",
   "execution_count": null,
   "metadata": {
    "colab": {
     "base_uri": "https://localhost:8080/"
    },
    "executionInfo": {
     "elapsed": 6162,
     "status": "ok",
     "timestamp": 1669473456280,
     "user": {
      "displayName": "Stefan Pasch",
      "userId": "05422724237601650335"
     },
     "user_tz": -60
    },
    "id": "1Hf02BwEOwOM",
    "outputId": "5f1be3ca-5262-4a83-9b20-a141e9722ca2"
   },
   "outputs": [
    {
     "name": "stderr",
     "output_type": "stream",
     "text": [
      "loading configuration file /content/drive/MyDrive/seb_stef/models/RoBERTa_large_best_fit/config.json\n",
      "Model config RobertaConfig {\n",
      "  \"_name_or_path\": \"/content/drive/MyDrive/seb_stef/models/RoBERTa_large_best_fit/\",\n",
      "  \"architectures\": [\n",
      "    \"RobertaForSequenceClassification\"\n",
      "  ],\n",
      "  \"attention_probs_dropout_prob\": 0.1,\n",
      "  \"bos_token_id\": 0,\n",
      "  \"classifier_dropout\": null,\n",
      "  \"eos_token_id\": 2,\n",
      "  \"hidden_act\": \"gelu\",\n",
      "  \"hidden_dropout_prob\": 0.1,\n",
      "  \"hidden_size\": 1024,\n",
      "  \"id2label\": {\n",
      "    \"0\": \"clan\",\n",
      "    \"1\": \"adhocracy\",\n",
      "    \"2\": \"market\",\n",
      "    \"3\": \"hierarchy\"\n",
      "  },\n",
      "  \"initializer_range\": 0.02,\n",
      "  \"intermediate_size\": 4096,\n",
      "  \"label2id\": {\n",
      "    \"adhocracy\": 1,\n",
      "    \"clan\": 0,\n",
      "    \"hierarchy\": 3,\n",
      "    \"market\": 2\n",
      "  },\n",
      "  \"layer_norm_eps\": 1e-05,\n",
      "  \"max_position_embeddings\": 514,\n",
      "  \"model_type\": \"roberta\",\n",
      "  \"num_attention_heads\": 16,\n",
      "  \"num_hidden_layers\": 24,\n",
      "  \"pad_token_id\": 1,\n",
      "  \"position_embedding_type\": \"absolute\",\n",
      "  \"problem_type\": \"single_label_classification\",\n",
      "  \"torch_dtype\": \"float32\",\n",
      "  \"transformers_version\": \"4.24.0\",\n",
      "  \"type_vocab_size\": 1,\n",
      "  \"use_cache\": true,\n",
      "  \"vocab_size\": 50265\n",
      "}\n",
      "\n",
      "loading weights file /content/drive/MyDrive/seb_stef/models/RoBERTa_large_best_fit/pytorch_model.bin\n",
      "All model checkpoint weights were used when initializing RobertaForSequenceClassification.\n",
      "\n",
      "All the weights of RobertaForSequenceClassification were initialized from the model checkpoint at /content/drive/MyDrive/seb_stef/models/RoBERTa_large_best_fit/.\n",
      "If your task is similar to the task the model of the checkpoint was trained on, you can already use RobertaForSequenceClassification for predictions without further training.\n"
     ]
    }
   ],
   "source": [
    "model = AutoModelForSequenceClassification.from_pretrained(\"/content/drive/MyDrive/..\", num_labels=4)"
   ]
  },
  {
   "cell_type": "code",
   "execution_count": null,
   "metadata": {
    "id": "aeZ9Ur49XzOO"
   },
   "outputs": [],
   "source": []
  }
 ],
 "metadata": {
  "colab": {
   "gpuType": "T4",
   "provenance": []
  },
  "kernelspec": {
   "display_name": "default:Python",
   "language": "python",
   "name": "conda-env-default-py"
  },
  "language_info": {
   "codemirror_mode": {
    "name": "ipython",
    "version": 3
   },
   "file_extension": ".py",
   "mimetype": "text/x-python",
   "name": "python",
   "nbconvert_exporter": "python",
   "pygments_lexer": "ipython3",
   "version": "3.9.16"
  },
  "widgets": {
   "application/vnd.jupyter.widget-state+json": {
    "15046daa93bc45b587a54bb79dadbcf0": {
     "model_module": "@jupyter-widgets/base",
     "model_module_version": "1.2.0",
     "model_name": "LayoutModel",
     "state": {
      "_model_module": "@jupyter-widgets/base",
      "_model_module_version": "1.2.0",
      "_model_name": "LayoutModel",
      "_view_count": null,
      "_view_module": "@jupyter-widgets/base",
      "_view_module_version": "1.2.0",
      "_view_name": "LayoutView",
      "align_content": null,
      "align_items": null,
      "align_self": null,
      "border": null,
      "bottom": null,
      "display": null,
      "flex": null,
      "flex_flow": null,
      "grid_area": null,
      "grid_auto_columns": null,
      "grid_auto_flow": null,
      "grid_auto_rows": null,
      "grid_column": null,
      "grid_gap": null,
      "grid_row": null,
      "grid_template_areas": null,
      "grid_template_columns": null,
      "grid_template_rows": null,
      "height": null,
      "justify_content": null,
      "justify_items": null,
      "left": null,
      "margin": null,
      "max_height": null,
      "max_width": null,
      "min_height": null,
      "min_width": null,
      "object_fit": null,
      "object_position": null,
      "order": null,
      "overflow": null,
      "overflow_x": null,
      "overflow_y": null,
      "padding": null,
      "right": null,
      "top": null,
      "visibility": null,
      "width": null
     }
    },
    "15101c02347e45b3bb472b68295ef57a": {
     "model_module": "@jupyter-widgets/base",
     "model_module_version": "1.2.0",
     "model_name": "LayoutModel",
     "state": {
      "_model_module": "@jupyter-widgets/base",
      "_model_module_version": "1.2.0",
      "_model_name": "LayoutModel",
      "_view_count": null,
      "_view_module": "@jupyter-widgets/base",
      "_view_module_version": "1.2.0",
      "_view_name": "LayoutView",
      "align_content": null,
      "align_items": null,
      "align_self": null,
      "border": null,
      "bottom": null,
      "display": null,
      "flex": null,
      "flex_flow": null,
      "grid_area": null,
      "grid_auto_columns": null,
      "grid_auto_flow": null,
      "grid_auto_rows": null,
      "grid_column": null,
      "grid_gap": null,
      "grid_row": null,
      "grid_template_areas": null,
      "grid_template_columns": null,
      "grid_template_rows": null,
      "height": null,
      "justify_content": null,
      "justify_items": null,
      "left": null,
      "margin": null,
      "max_height": null,
      "max_width": null,
      "min_height": null,
      "min_width": null,
      "object_fit": null,
      "object_position": null,
      "order": null,
      "overflow": null,
      "overflow_x": null,
      "overflow_y": null,
      "padding": null,
      "right": null,
      "top": null,
      "visibility": null,
      "width": null
     }
    },
    "2a2ec9587f24419696365f0312e2f9db": {
     "model_module": "@jupyter-widgets/base",
     "model_module_version": "1.2.0",
     "model_name": "LayoutModel",
     "state": {
      "_model_module": "@jupyter-widgets/base",
      "_model_module_version": "1.2.0",
      "_model_name": "LayoutModel",
      "_view_count": null,
      "_view_module": "@jupyter-widgets/base",
      "_view_module_version": "1.2.0",
      "_view_name": "LayoutView",
      "align_content": null,
      "align_items": null,
      "align_self": null,
      "border": null,
      "bottom": null,
      "display": null,
      "flex": null,
      "flex_flow": null,
      "grid_area": null,
      "grid_auto_columns": null,
      "grid_auto_flow": null,
      "grid_auto_rows": null,
      "grid_column": null,
      "grid_gap": null,
      "grid_row": null,
      "grid_template_areas": null,
      "grid_template_columns": null,
      "grid_template_rows": null,
      "height": null,
      "justify_content": null,
      "justify_items": null,
      "left": null,
      "margin": null,
      "max_height": null,
      "max_width": null,
      "min_height": null,
      "min_width": null,
      "object_fit": null,
      "object_position": null,
      "order": null,
      "overflow": null,
      "overflow_x": null,
      "overflow_y": null,
      "padding": null,
      "right": null,
      "top": null,
      "visibility": null,
      "width": null
     }
    },
    "2cf0868560634dada10402a51cc8fdeb": {
     "model_module": "@jupyter-widgets/base",
     "model_module_version": "1.2.0",
     "model_name": "LayoutModel",
     "state": {
      "_model_module": "@jupyter-widgets/base",
      "_model_module_version": "1.2.0",
      "_model_name": "LayoutModel",
      "_view_count": null,
      "_view_module": "@jupyter-widgets/base",
      "_view_module_version": "1.2.0",
      "_view_name": "LayoutView",
      "align_content": null,
      "align_items": null,
      "align_self": null,
      "border": null,
      "bottom": null,
      "display": null,
      "flex": null,
      "flex_flow": null,
      "grid_area": null,
      "grid_auto_columns": null,
      "grid_auto_flow": null,
      "grid_auto_rows": null,
      "grid_column": null,
      "grid_gap": null,
      "grid_row": null,
      "grid_template_areas": null,
      "grid_template_columns": null,
      "grid_template_rows": null,
      "height": null,
      "justify_content": null,
      "justify_items": null,
      "left": null,
      "margin": null,
      "max_height": null,
      "max_width": null,
      "min_height": null,
      "min_width": null,
      "object_fit": null,
      "object_position": null,
      "order": null,
      "overflow": null,
      "overflow_x": null,
      "overflow_y": null,
      "padding": null,
      "right": null,
      "top": null,
      "visibility": "hidden",
      "width": null
     }
    },
    "3014c30b3d50426c838e1cccf2e017c7": {
     "model_module": "@jupyter-widgets/controls",
     "model_module_version": "1.5.0",
     "model_name": "HTMLModel",
     "state": {
      "_dom_classes": [],
      "_model_module": "@jupyter-widgets/controls",
      "_model_module_version": "1.5.0",
      "_model_name": "HTMLModel",
      "_view_count": null,
      "_view_module": "@jupyter-widgets/controls",
      "_view_module_version": "1.5.0",
      "_view_name": "HTMLView",
      "description": "",
      "description_tooltip": null,
      "layout": "IPY_MODEL_cb2b49ac28424c04a1612e9dad87510e",
      "placeholder": "​",
      "style": "IPY_MODEL_bc69519cbd9f492d97a90f3662abae4e",
      "value": " 3000/3069 [00:00&lt;00:00, 8925.92 examples/s]"
     }
    },
    "40254472d5164c19b17054094908f117": {
     "model_module": "@jupyter-widgets/controls",
     "model_module_version": "1.5.0",
     "model_name": "DescriptionStyleModel",
     "state": {
      "_model_module": "@jupyter-widgets/controls",
      "_model_module_version": "1.5.0",
      "_model_name": "DescriptionStyleModel",
      "_view_count": null,
      "_view_module": "@jupyter-widgets/base",
      "_view_module_version": "1.2.0",
      "_view_name": "StyleView",
      "description_width": ""
     }
    },
    "48c97c22e7b5459fb954ace00e7c5154": {
     "model_module": "@jupyter-widgets/controls",
     "model_module_version": "1.5.0",
     "model_name": "HBoxModel",
     "state": {
      "_dom_classes": [],
      "_model_module": "@jupyter-widgets/controls",
      "_model_module_version": "1.5.0",
      "_model_name": "HBoxModel",
      "_view_count": null,
      "_view_module": "@jupyter-widgets/controls",
      "_view_module_version": "1.5.0",
      "_view_name": "HBoxView",
      "box_style": "",
      "children": [
       "IPY_MODEL_53470be82c1b471eab7a28d465ed40ad",
       "IPY_MODEL_b8c659e8c3b64a158901d4910578cf99",
       "IPY_MODEL_7623612275c0470ea886623419a9b70c"
      ],
      "layout": "IPY_MODEL_c3b151d38f054f099c020592491fe15c"
     }
    },
    "53470be82c1b471eab7a28d465ed40ad": {
     "model_module": "@jupyter-widgets/controls",
     "model_module_version": "1.5.0",
     "model_name": "HTMLModel",
     "state": {
      "_dom_classes": [],
      "_model_module": "@jupyter-widgets/controls",
      "_model_module_version": "1.5.0",
      "_model_name": "HTMLModel",
      "_view_count": null,
      "_view_module": "@jupyter-widgets/controls",
      "_view_module_version": "1.5.0",
      "_view_name": "HTMLView",
      "description": "",
      "description_tooltip": null,
      "layout": "IPY_MODEL_15046daa93bc45b587a54bb79dadbcf0",
      "placeholder": "​",
      "style": "IPY_MODEL_40254472d5164c19b17054094908f117",
      "value": "Map: 100%"
     }
    },
    "57174f3b92974fcda9e9a52665a91c19": {
     "model_module": "@jupyter-widgets/controls",
     "model_module_version": "1.5.0",
     "model_name": "HBoxModel",
     "state": {
      "_dom_classes": [],
      "_model_module": "@jupyter-widgets/controls",
      "_model_module_version": "1.5.0",
      "_model_name": "HBoxModel",
      "_view_count": null,
      "_view_module": "@jupyter-widgets/controls",
      "_view_module_version": "1.5.0",
      "_view_name": "HBoxView",
      "box_style": "",
      "children": [
       "IPY_MODEL_7bec06a64305472cbc91b2de714648d0",
       "IPY_MODEL_c6167ed63e74445fa0b897b1433e7f8b",
       "IPY_MODEL_3014c30b3d50426c838e1cccf2e017c7"
      ],
      "layout": "IPY_MODEL_2cf0868560634dada10402a51cc8fdeb"
     }
    },
    "7623612275c0470ea886623419a9b70c": {
     "model_module": "@jupyter-widgets/controls",
     "model_module_version": "1.5.0",
     "model_name": "HTMLModel",
     "state": {
      "_dom_classes": [],
      "_model_module": "@jupyter-widgets/controls",
      "_model_module_version": "1.5.0",
      "_model_name": "HTMLModel",
      "_view_count": null,
      "_view_module": "@jupyter-widgets/controls",
      "_view_module_version": "1.5.0",
      "_view_name": "HTMLView",
      "description": "",
      "description_tooltip": null,
      "layout": "IPY_MODEL_2a2ec9587f24419696365f0312e2f9db",
      "placeholder": "​",
      "style": "IPY_MODEL_e07ffa5f754b49879c1636ece104c4e0",
      "value": " 28676/28676 [00:02&lt;00:00, 10993.42 examples/s]"
     }
    },
    "7bec06a64305472cbc91b2de714648d0": {
     "model_module": "@jupyter-widgets/controls",
     "model_module_version": "1.5.0",
     "model_name": "HTMLModel",
     "state": {
      "_dom_classes": [],
      "_model_module": "@jupyter-widgets/controls",
      "_model_module_version": "1.5.0",
      "_model_name": "HTMLModel",
      "_view_count": null,
      "_view_module": "@jupyter-widgets/controls",
      "_view_module_version": "1.5.0",
      "_view_name": "HTMLView",
      "description": "",
      "description_tooltip": null,
      "layout": "IPY_MODEL_e1c70cf703b945c2bdd91a7419c064e5",
      "placeholder": "​",
      "style": "IPY_MODEL_c23361d0752342a38cfbd9c510ce5b84",
      "value": "Map:  98%"
     }
    },
    "acb5aaf04b4a471bb0fa59dc1133db49": {
     "model_module": "@jupyter-widgets/controls",
     "model_module_version": "1.5.0",
     "model_name": "ProgressStyleModel",
     "state": {
      "_model_module": "@jupyter-widgets/controls",
      "_model_module_version": "1.5.0",
      "_model_name": "ProgressStyleModel",
      "_view_count": null,
      "_view_module": "@jupyter-widgets/base",
      "_view_module_version": "1.2.0",
      "_view_name": "StyleView",
      "bar_color": null,
      "description_width": ""
     }
    },
    "b8c659e8c3b64a158901d4910578cf99": {
     "model_module": "@jupyter-widgets/controls",
     "model_module_version": "1.5.0",
     "model_name": "FloatProgressModel",
     "state": {
      "_dom_classes": [],
      "_model_module": "@jupyter-widgets/controls",
      "_model_module_version": "1.5.0",
      "_model_name": "FloatProgressModel",
      "_view_count": null,
      "_view_module": "@jupyter-widgets/controls",
      "_view_module_version": "1.5.0",
      "_view_name": "ProgressView",
      "bar_style": "",
      "description": "",
      "description_tooltip": null,
      "layout": "IPY_MODEL_cfcba8f1fa9c4c828c46e88d27d77d3f",
      "max": 28676,
      "min": 0,
      "orientation": "horizontal",
      "style": "IPY_MODEL_c9dff64633704d869811e2616011a53b",
      "value": 28676
     }
    },
    "bc69519cbd9f492d97a90f3662abae4e": {
     "model_module": "@jupyter-widgets/controls",
     "model_module_version": "1.5.0",
     "model_name": "DescriptionStyleModel",
     "state": {
      "_model_module": "@jupyter-widgets/controls",
      "_model_module_version": "1.5.0",
      "_model_name": "DescriptionStyleModel",
      "_view_count": null,
      "_view_module": "@jupyter-widgets/base",
      "_view_module_version": "1.2.0",
      "_view_name": "StyleView",
      "description_width": ""
     }
    },
    "c23361d0752342a38cfbd9c510ce5b84": {
     "model_module": "@jupyter-widgets/controls",
     "model_module_version": "1.5.0",
     "model_name": "DescriptionStyleModel",
     "state": {
      "_model_module": "@jupyter-widgets/controls",
      "_model_module_version": "1.5.0",
      "_model_name": "DescriptionStyleModel",
      "_view_count": null,
      "_view_module": "@jupyter-widgets/base",
      "_view_module_version": "1.2.0",
      "_view_name": "StyleView",
      "description_width": ""
     }
    },
    "c3b151d38f054f099c020592491fe15c": {
     "model_module": "@jupyter-widgets/base",
     "model_module_version": "1.2.0",
     "model_name": "LayoutModel",
     "state": {
      "_model_module": "@jupyter-widgets/base",
      "_model_module_version": "1.2.0",
      "_model_name": "LayoutModel",
      "_view_count": null,
      "_view_module": "@jupyter-widgets/base",
      "_view_module_version": "1.2.0",
      "_view_name": "LayoutView",
      "align_content": null,
      "align_items": null,
      "align_self": null,
      "border": null,
      "bottom": null,
      "display": null,
      "flex": null,
      "flex_flow": null,
      "grid_area": null,
      "grid_auto_columns": null,
      "grid_auto_flow": null,
      "grid_auto_rows": null,
      "grid_column": null,
      "grid_gap": null,
      "grid_row": null,
      "grid_template_areas": null,
      "grid_template_columns": null,
      "grid_template_rows": null,
      "height": null,
      "justify_content": null,
      "justify_items": null,
      "left": null,
      "margin": null,
      "max_height": null,
      "max_width": null,
      "min_height": null,
      "min_width": null,
      "object_fit": null,
      "object_position": null,
      "order": null,
      "overflow": null,
      "overflow_x": null,
      "overflow_y": null,
      "padding": null,
      "right": null,
      "top": null,
      "visibility": "hidden",
      "width": null
     }
    },
    "c6167ed63e74445fa0b897b1433e7f8b": {
     "model_module": "@jupyter-widgets/controls",
     "model_module_version": "1.5.0",
     "model_name": "FloatProgressModel",
     "state": {
      "_dom_classes": [],
      "_model_module": "@jupyter-widgets/controls",
      "_model_module_version": "1.5.0",
      "_model_name": "FloatProgressModel",
      "_view_count": null,
      "_view_module": "@jupyter-widgets/controls",
      "_view_module_version": "1.5.0",
      "_view_name": "ProgressView",
      "bar_style": "",
      "description": "",
      "description_tooltip": null,
      "layout": "IPY_MODEL_15101c02347e45b3bb472b68295ef57a",
      "max": 3069,
      "min": 0,
      "orientation": "horizontal",
      "style": "IPY_MODEL_acb5aaf04b4a471bb0fa59dc1133db49",
      "value": 3069
     }
    },
    "c9dff64633704d869811e2616011a53b": {
     "model_module": "@jupyter-widgets/controls",
     "model_module_version": "1.5.0",
     "model_name": "ProgressStyleModel",
     "state": {
      "_model_module": "@jupyter-widgets/controls",
      "_model_module_version": "1.5.0",
      "_model_name": "ProgressStyleModel",
      "_view_count": null,
      "_view_module": "@jupyter-widgets/base",
      "_view_module_version": "1.2.0",
      "_view_name": "StyleView",
      "bar_color": null,
      "description_width": ""
     }
    },
    "cb2b49ac28424c04a1612e9dad87510e": {
     "model_module": "@jupyter-widgets/base",
     "model_module_version": "1.2.0",
     "model_name": "LayoutModel",
     "state": {
      "_model_module": "@jupyter-widgets/base",
      "_model_module_version": "1.2.0",
      "_model_name": "LayoutModel",
      "_view_count": null,
      "_view_module": "@jupyter-widgets/base",
      "_view_module_version": "1.2.0",
      "_view_name": "LayoutView",
      "align_content": null,
      "align_items": null,
      "align_self": null,
      "border": null,
      "bottom": null,
      "display": null,
      "flex": null,
      "flex_flow": null,
      "grid_area": null,
      "grid_auto_columns": null,
      "grid_auto_flow": null,
      "grid_auto_rows": null,
      "grid_column": null,
      "grid_gap": null,
      "grid_row": null,
      "grid_template_areas": null,
      "grid_template_columns": null,
      "grid_template_rows": null,
      "height": null,
      "justify_content": null,
      "justify_items": null,
      "left": null,
      "margin": null,
      "max_height": null,
      "max_width": null,
      "min_height": null,
      "min_width": null,
      "object_fit": null,
      "object_position": null,
      "order": null,
      "overflow": null,
      "overflow_x": null,
      "overflow_y": null,
      "padding": null,
      "right": null,
      "top": null,
      "visibility": null,
      "width": null
     }
    },
    "cfcba8f1fa9c4c828c46e88d27d77d3f": {
     "model_module": "@jupyter-widgets/base",
     "model_module_version": "1.2.0",
     "model_name": "LayoutModel",
     "state": {
      "_model_module": "@jupyter-widgets/base",
      "_model_module_version": "1.2.0",
      "_model_name": "LayoutModel",
      "_view_count": null,
      "_view_module": "@jupyter-widgets/base",
      "_view_module_version": "1.2.0",
      "_view_name": "LayoutView",
      "align_content": null,
      "align_items": null,
      "align_self": null,
      "border": null,
      "bottom": null,
      "display": null,
      "flex": null,
      "flex_flow": null,
      "grid_area": null,
      "grid_auto_columns": null,
      "grid_auto_flow": null,
      "grid_auto_rows": null,
      "grid_column": null,
      "grid_gap": null,
      "grid_row": null,
      "grid_template_areas": null,
      "grid_template_columns": null,
      "grid_template_rows": null,
      "height": null,
      "justify_content": null,
      "justify_items": null,
      "left": null,
      "margin": null,
      "max_height": null,
      "max_width": null,
      "min_height": null,
      "min_width": null,
      "object_fit": null,
      "object_position": null,
      "order": null,
      "overflow": null,
      "overflow_x": null,
      "overflow_y": null,
      "padding": null,
      "right": null,
      "top": null,
      "visibility": null,
      "width": null
     }
    },
    "e07ffa5f754b49879c1636ece104c4e0": {
     "model_module": "@jupyter-widgets/controls",
     "model_module_version": "1.5.0",
     "model_name": "DescriptionStyleModel",
     "state": {
      "_model_module": "@jupyter-widgets/controls",
      "_model_module_version": "1.5.0",
      "_model_name": "DescriptionStyleModel",
      "_view_count": null,
      "_view_module": "@jupyter-widgets/base",
      "_view_module_version": "1.2.0",
      "_view_name": "StyleView",
      "description_width": ""
     }
    },
    "e1c70cf703b945c2bdd91a7419c064e5": {
     "model_module": "@jupyter-widgets/base",
     "model_module_version": "1.2.0",
     "model_name": "LayoutModel",
     "state": {
      "_model_module": "@jupyter-widgets/base",
      "_model_module_version": "1.2.0",
      "_model_name": "LayoutModel",
      "_view_count": null,
      "_view_module": "@jupyter-widgets/base",
      "_view_module_version": "1.2.0",
      "_view_name": "LayoutView",
      "align_content": null,
      "align_items": null,
      "align_self": null,
      "border": null,
      "bottom": null,
      "display": null,
      "flex": null,
      "flex_flow": null,
      "grid_area": null,
      "grid_auto_columns": null,
      "grid_auto_flow": null,
      "grid_auto_rows": null,
      "grid_column": null,
      "grid_gap": null,
      "grid_row": null,
      "grid_template_areas": null,
      "grid_template_columns": null,
      "grid_template_rows": null,
      "height": null,
      "justify_content": null,
      "justify_items": null,
      "left": null,
      "margin": null,
      "max_height": null,
      "max_width": null,
      "min_height": null,
      "min_width": null,
      "object_fit": null,
      "object_position": null,
      "order": null,
      "overflow": null,
      "overflow_x": null,
      "overflow_y": null,
      "padding": null,
      "right": null,
      "top": null,
      "visibility": null,
      "width": null
     }
    }
   }
  }
 },
 "nbformat": 4,
 "nbformat_minor": 4
}
