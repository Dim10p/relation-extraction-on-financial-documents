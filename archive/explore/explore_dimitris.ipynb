{
 "cells": [
  {
   "cell_type": "code",
   "execution_count": 2,
   "id": "183842af-7a19-4dec-bed2-a3eeaa25df5a",
   "metadata": {
    "tags": []
   },
   "outputs": [],
   "source": [
    "import pandas as pd"
   ]
  },
  {
   "cell_type": "code",
   "execution_count": 7,
   "id": "69714797-465d-4f82-83ba-6d54c4a91e89",
   "metadata": {
    "tags": []
   },
   "outputs": [],
   "source": [
    "pd.set_option('display.max_colwidth', None)"
   ]
  },
  {
   "cell_type": "code",
   "execution_count": 3,
   "id": "4f8df8ea-ea28-4fa7-9bb8-d5e062c4c523",
   "metadata": {
    "tags": []
   },
   "outputs": [],
   "source": [
    "df_dev = pd.read_json(\"data/dev_refind_official.json\")"
   ]
  },
  {
   "cell_type": "code",
   "execution_count": 36,
   "id": "d90016f1-7ec7-4aa8-92cd-48b65c27d155",
   "metadata": {
    "tags": []
   },
   "outputs": [],
   "source": [
    "df_test = pd.read_json(\"data/test_refind_official.json\")"
   ]
  },
  {
   "cell_type": "code",
   "execution_count": 5,
   "id": "c8adf646-214d-4fb5-92e6-47acca6ecea8",
   "metadata": {
    "tags": []
   },
   "outputs": [],
   "source": [
    "df_train = pd.read_json(\"data/train_refind_official.json\")"
   ]
  },
  {
   "cell_type": "code",
   "execution_count": 49,
   "id": "fa2f2d2d-04d7-4eea-9bba-4c2c3192bbaf",
   "metadata": {
    "tags": []
   },
   "outputs": [
    {
     "name": "stdout",
     "output_type": "stream",
     "text": [
      "id                                                                                                                                                                                                                                                                                                                                                                                                                                                                                                                                                                                                                                                                                                                                    None\n",
      "docid                                                                                                                                                                                                                                                                                                                                                                                                                                                                                                                                                                                                                                                                                                                            2016/2017\n",
      "relation                                                                                                                                                                                                                                                                                                                                                                                                                                                                                                                                                                                                                                                                                                            org:org:agreement_with\n",
      "rel_group                                                                                                                                                                                                                                                                                                                                                                                                                                                                                                                                                                                                                                                                                                                          ORG-ORG\n",
      "token                                                                                       [CMF, Winton, Master, L.P., (, Winton, Master, ), ,, Morgan, Stanley, Smith, Barney, TT, II, ,, LLC, (, Transtrend, Master, ), ,, CMF, Willowbridge, Master, Fund, L.P., (, Willowbridge, Master, ), ,, and, the, Partnership, have, entered, into, futures, brokerage, account, agreements, and, foreign, exchange, brokerage, account, agreements, with, MS, Co., Prior, to, its, liquidation, ,, AAA, Master, LLC, (, AAA, Master, ), entered, into, a, futures, brokerage, agreement, with, MS, Co., Winton, Master, ,, Transtrend, Master, ,, Willowbridge, Master, and, AAA, Master, are, collectively, referred, to, as, the, Funds, .]\n",
      "e1_start                                                                                                                                                                                                                                                                                                                                                                                                                                                                                                                                                                                                                                                                                                                                49\n",
      "e1_end                                                                                                                                                                                                                                                                                                                                                                                                                                                                                                                                                                                                                                                                                                                                  51\n",
      "e2_start                                                                                                                                                                                                                                                                                                                                                                                                                                                                                                                                                                                                                                                                                                                                22\n",
      "e2_end                                                                                                                                                                                                                                                                                                                                                                                                                                                                                                                                                                                                                                                                                                                                  27\n",
      "e1_type                                                                                                                                                                                                                                                                                                                                                                                                                                                                                                                                                                                                                                                                                                                                ORG\n",
      "e2_type                                                                                                                                                                                                                                                                                                                                                                                                                                                                                                                                                                                                                                                                                                                                ORG\n",
      "spacy_pos                                                                                                                                                                                                                                                                                [NNP, NNP, NNP, NNP, -LRB-, NNP, NNP, -RRB-, ,, NNP, NNP, NNP, NNP, NNP, NNP, ,, NNP, -LRB-, NNP, NNP, -RRB-, ,, NNP, NNP, NNP, NNP, NNP, -LRB-, NNP, NNP, -RRB-, ,, CC, DT, NNP, VBP, VBN, IN, NNS, NN, NN, NNS, CC, JJ, NN, NN, NN, NNS, IN, NNP, NNP, RB, IN, PRP$, NN, ,, NNP, NNP, NNP, -LRB-, NNP, NNP, -RRB-, VBD, IN, DT, NNS, NN, NN, IN, NNP, NNP, NNP, NNP, ,, NNP, NNP, ,, NNP, NNP, CC, NNP, NNP, VBP, RB, VBN, IN, IN, DT, NNPS, .]\n",
      "spacy_ner                                                                                                                                                                                                                                                                                                                                                                                                                                  [O, O, O, O, O, O, O, O, O, O, O, O, O, O, O, O, O, O, O, O, O, O, ORG, ORG, ORG, ORG, ORG, O, O, O, O, O, O, O, O, O, O, O, O, O, O, O, O, O, O, O, O, O, O, ORG, ORG, O, O, O, O, O, O, O, O, O, O, O, O, O, O, O, O, O, O, O, O, O, O, O, O, O, O, O, O, O, O, O, O, O, O, O, O, O, O, O, O]\n",
      "spacy_head                                                                                                                                                                                                                                                                                                                                                             [3, 3, 3, 36, 6, 6, 3, 6, 3, 14, 14, 14, 14, 14, 3, 14, 14, 19, 19, 14, 19, 14, 26, 26, 26, 26, 14, 29, 29, 26, 29, 26, 26, 34, 26, 36, 36, 36, 39, 40, 41, 37, 41, 44, 45, 46, 47, 41, 36, 50, 48, 63, 51, 54, 52, 63, 58, 58, 63, 58, 61, 58, 61, 63, 63, 68, 67, 68, 64, 63, 71, 63, 73, 85, 73, 76, 73, 76, 79, 76, 79, 82, 79, 85, 85, 85, 85, 85, 89, 87, 85]\n",
      "spacy_deprel    [compound, compound, compound, nsubj, punct, compound, appos, punct, punct, compound, compound, compound, compound, compound, conj, punct, amod, punct, compound, appos, punct, punct, compound, compound, compound, compound, conj, punct, compound, appos, punct, punct, cc, det, conj, aux, ROOT, prep, compound, compound, compound, pobj, cc, amod, compound, compound, compound, conj, prep, compound, pobj, advmod, prep, poss, pobj, punct, compound, compound, nsubj, punct, compound, appos, punct, ROOT, prep, det, compound, compound, pobj, prep, compound, dobj, compound, nsubjpass, punct, compound, conj, punct, compound, conj, cc, compound, conj, auxpass, advmod, ROOT, prep, prep, det, pobj, punct]\n",
      "sdp                                                                                                                                                                                                                                                                                                                                                                                                                                                                                                                                                                                                                                                                [CMF Willowbridge Master Fund L , P ,, L, entered, agreements, MS Co ,]\n",
      "sdp_tok_idx                                                                                                                                                                                                                                                                                                                                                                                                                                                                                                                                                                                                                                                                                                                    [3, 36, 41]\n",
      "token_test                                                                                                                                                                                                                                                                                              cmfwintonmasterlpwintonmastermorganstanleysmithbarneyttiillctranstrendmastercmfwillowbridgemasterfundlpwillowbridgemasterandthepartnershiphaveenteredintofuturesbrokerageaccountagreementsandforeignexchangebrokerageaccountagreementswithmscopriortoitsliquidationaaamasterllcaaamasterenteredintoafuturesbrokerageagreementwithmscowintonmastertranstrendmasterwillowbridgemasterandaaamasterarecollectivelyreferredtoasthefunds\n",
      "e1                                                                                                                                                                                                                                                                                                                                                                                                                                                                                                                                                                                                                                                                                                                                    msco\n",
      "e2                                                                                                                                                                                                                                                                                                                                                                                                                                                                                                                                                                                                                                                                                                             cmfwillowbridgemasterfundlp\n",
      "Name: 2347, dtype: object\n"
     ]
    }
   ],
   "source": [
    "print(df_train.iloc[2347])"
   ]
  }
 ],
 "metadata": {
  "kernelspec": {
   "display_name": "refind_env:Python",
   "language": "python",
   "name": "conda-env-refind_env-py"
  },
  "language_info": {
   "codemirror_mode": {
    "name": "ipython",
    "version": 3
   },
   "file_extension": ".py",
   "mimetype": "text/x-python",
   "name": "python",
   "nbconvert_exporter": "python",
   "pygments_lexer": "ipython3",
   "version": "3.11.3"
  }
 },
 "nbformat": 4,
 "nbformat_minor": 5
}
